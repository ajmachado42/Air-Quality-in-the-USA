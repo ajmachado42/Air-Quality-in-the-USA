{
 "cells": [
  {
   "cell_type": "code",
   "execution_count": 1,
   "id": "30428ef4-d7b0-4630-8b59-a49789fc258d",
   "metadata": {},
   "outputs": [],
   "source": [
    "import pandas as pd\n",
    "import math\n",
    "import numpy as np\n",
    "import matplotlib.pyplot as plt\n",
    "# https://towardsdatascience.com/calculating-distance-between-two-geolocations-in-python-26ad3afe287b\n",
    "import haversine as hs\n",
    "# https://www.geeksforgeeks.org/read-multiple-csv-files-into-separate-dataframes-in-python/\n",
    "import os\n",
    "\n",
    "import warnings\n",
    "warnings.simplefilter(\"ignore\")"
   ]
  },
  {
   "cell_type": "code",
   "execution_count": 2,
   "id": "de06d1a3-e16b-40d1-82cb-9ff47f3e03f2",
   "metadata": {},
   "outputs": [],
   "source": [
    "epa = pd.read_csv('../data/epa_monthly.csv')"
   ]
  },
  {
   "cell_type": "code",
   "execution_count": null,
   "id": "66b8d4f0-36d5-47af-9246-a52c811824e1",
   "metadata": {},
   "outputs": [],
   "source": [
    "epa = epa[epa['PM2.5 Monthly Mean'] > 0]"
   ]
  },
  {
   "cell_type": "code",
   "execution_count": 3,
   "id": "fdbbf238-9ced-4ae8-9116-2c5fc1c179c0",
   "metadata": {},
   "outputs": [
    {
     "data": {
      "text/html": [
       "<div>\n",
       "<style scoped>\n",
       "    .dataframe tbody tr th:only-of-type {\n",
       "        vertical-align: middle;\n",
       "    }\n",
       "\n",
       "    .dataframe tbody tr th {\n",
       "        vertical-align: top;\n",
       "    }\n",
       "\n",
       "    .dataframe thead th {\n",
       "        text-align: right;\n",
       "    }\n",
       "</style>\n",
       "<table border=\"1\" class=\"dataframe\">\n",
       "  <thead>\n",
       "    <tr style=\"text-align: right;\">\n",
       "      <th></th>\n",
       "      <th>Date Local</th>\n",
       "      <th>Latitude</th>\n",
       "      <th>Longitude</th>\n",
       "      <th>PM2.5 Monthly Mean</th>\n",
       "    </tr>\n",
       "  </thead>\n",
       "  <tbody>\n",
       "    <tr>\n",
       "      <th>0</th>\n",
       "      <td>2019-01-31</td>\n",
       "      <td>30.497478</td>\n",
       "      <td>-87.880258</td>\n",
       "      <td>6.825000</td>\n",
       "    </tr>\n",
       "    <tr>\n",
       "      <th>1</th>\n",
       "      <td>2019-01-31</td>\n",
       "      <td>34.214263</td>\n",
       "      <td>-79.767347</td>\n",
       "      <td>7.600000</td>\n",
       "    </tr>\n",
       "    <tr>\n",
       "      <th>2</th>\n",
       "      <td>2019-01-31</td>\n",
       "      <td>26.687606</td>\n",
       "      <td>-80.219619</td>\n",
       "      <td>5.428571</td>\n",
       "    </tr>\n",
       "    <tr>\n",
       "      <th>3</th>\n",
       "      <td>2019-01-31</td>\n",
       "      <td>34.843895</td>\n",
       "      <td>-82.414585</td>\n",
       "      <td>7.016667</td>\n",
       "    </tr>\n",
       "    <tr>\n",
       "      <th>4</th>\n",
       "      <td>2019-01-31</td>\n",
       "      <td>28.596389</td>\n",
       "      <td>-81.362500</td>\n",
       "      <td>6.721739</td>\n",
       "    </tr>\n",
       "  </tbody>\n",
       "</table>\n",
       "</div>"
      ],
      "text/plain": [
       "   Date Local   Latitude  Longitude  PM2.5 Monthly Mean\n",
       "0  2019-01-31  30.497478 -87.880258            6.825000\n",
       "1  2019-01-31  34.214263 -79.767347            7.600000\n",
       "2  2019-01-31  26.687606 -80.219619            5.428571\n",
       "3  2019-01-31  34.843895 -82.414585            7.016667\n",
       "4  2019-01-31  28.596389 -81.362500            6.721739"
      ]
     },
     "execution_count": 3,
     "metadata": {},
     "output_type": "execute_result"
    }
   ],
   "source": [
    "epa.head()"
   ]
  },
  {
   "cell_type": "markdown",
   "id": "d9ea782d-cd02-4655-bdde-1548cd636c75",
   "metadata": {},
   "source": [
    "### Create columns with lat lon to 100th decimal place"
   ]
  },
  {
   "cell_type": "code",
   "execution_count": 4,
   "id": "97ee3821-c08d-4760-8104-afdd51f7b057",
   "metadata": {},
   "outputs": [],
   "source": [
    "epa['lat_2dec'] = epa['Latitude'].map(lambda x: f'{x:.2f}').values[0]\n",
    "epa['lon_2dec'] = epa['Longitude'].map(lambda x: f'{x:.2f}').values[0]"
   ]
  },
  {
   "cell_type": "markdown",
   "id": "37e23db9-7b7d-43ac-802e-f4174fb13277",
   "metadata": {
    "tags": []
   },
   "source": [
    "## Filter epa for month, if needed, use each month as the source_df"
   ]
  },
  {
   "cell_type": "code",
   "execution_count": 5,
   "id": "427006be-9e1e-4d7e-8761-c36748842382",
   "metadata": {},
   "outputs": [],
   "source": [
    "epa_1 = epa[epa['Date Local'].str.contains('2019-01-')]"
   ]
  },
  {
   "cell_type": "code",
   "execution_count": 6,
   "id": "5dc47934-77bf-46cb-8fd2-61d32ceac507",
   "metadata": {},
   "outputs": [],
   "source": [
    "epa_2 = jan_epa = epa[epa['Date Local'].str.contains('2019-02-')]"
   ]
  },
  {
   "cell_type": "code",
   "execution_count": 7,
   "id": "841ec252-d9f0-4def-9632-b33376cb6e21",
   "metadata": {},
   "outputs": [],
   "source": [
    "epa_3 = jan_epa = epa[epa['Date Local'].str.contains('2019-03-')]"
   ]
  },
  {
   "cell_type": "code",
   "execution_count": 8,
   "id": "073fba7f-5b56-49bd-b3fa-2b9aca000924",
   "metadata": {},
   "outputs": [],
   "source": [
    "epa_4 = epa[epa['Date Local'].str.contains('2019-04-')]"
   ]
  },
  {
   "cell_type": "code",
   "execution_count": 9,
   "id": "3219d159-28c5-4bde-b1e2-9608f1d88bac",
   "metadata": {},
   "outputs": [],
   "source": [
    "epa_5 = epa[epa['Date Local'].str.contains('2019-05-')]"
   ]
  },
  {
   "cell_type": "code",
   "execution_count": 10,
   "id": "eb301cef-e4aa-4546-99af-8fafd981ecdc",
   "metadata": {},
   "outputs": [],
   "source": [
    "epa_6 = epa[epa['Date Local'].str.contains('2019-06-')]"
   ]
  },
  {
   "cell_type": "code",
   "execution_count": 11,
   "id": "441f40fc-5f6c-4535-8b7d-402ec1c87bd2",
   "metadata": {},
   "outputs": [],
   "source": [
    "epa_7 = epa[epa['Date Local'].str.contains('2019-07-')]"
   ]
  },
  {
   "cell_type": "code",
   "execution_count": 12,
   "id": "1bf986fb-7e53-43d8-8bc6-66d4a9eff8ff",
   "metadata": {},
   "outputs": [],
   "source": [
    "epa_8 = epa[epa['Date Local'].str.contains('2019-08-')]"
   ]
  },
  {
   "cell_type": "code",
   "execution_count": 13,
   "id": "e4406426-8d65-4d7e-abb6-753686c0076c",
   "metadata": {},
   "outputs": [],
   "source": [
    "epa_9 = epa[epa['Date Local'].str.contains('2019-09-')]"
   ]
  },
  {
   "cell_type": "code",
   "execution_count": 14,
   "id": "e238d586-2512-4f8e-b2f9-ec1697fbe648",
   "metadata": {},
   "outputs": [],
   "source": [
    "epa_10 = epa[epa['Date Local'].str.contains('2019-10-')]"
   ]
  },
  {
   "cell_type": "code",
   "execution_count": 15,
   "id": "bcff7e7e-ce43-4c79-bb3b-595b73221276",
   "metadata": {},
   "outputs": [],
   "source": [
    "epa_11 = epa[epa['Date Local'].str.contains('2019-11-')]"
   ]
  },
  {
   "cell_type": "code",
   "execution_count": 16,
   "id": "02c5ee3a-f434-4176-aa13-2a3c99d637e9",
   "metadata": {},
   "outputs": [],
   "source": [
    "epa_12 = epa[epa['Date Local'].str.contains('2019-12-')]"
   ]
  },
  {
   "cell_type": "markdown",
   "id": "db857fb5-8998-4a36-920c-03bf0afba628",
   "metadata": {},
   "source": [
    "# Function"
   ]
  },
  {
   "cell_type": "markdown",
   "id": "c26eb2fb-e9aa-4f4a-8df9-819bc572950a",
   "metadata": {
    "tags": []
   },
   "source": [
    "## Extract New Feature Function\n",
    "### For extracting feature values from one dataset, based on latitude/longitude within range of another dataset"
   ]
  },
  {
   "cell_type": "code",
   "execution_count": 17,
   "id": "78f7705b-a899-4750-abcd-bfba52efe76e",
   "metadata": {},
   "outputs": [],
   "source": [
    "def extract_feature(new_column_name, source_df, extract_df, extract_df_lat_name, \n",
    "                    extract_df_lon_name, extract_df_value_column_name, lat_range = .1, lon_range = .1):\n",
    "\n",
    "    '''\n",
    "    Takes the latitude and logitude from epa dataset and latitude and logitude from second dataset, \n",
    "    finds the most similar lat and long, by running a haversine function, then extracts the value and inputs into the epa\n",
    "    dataset row with the closest lat/lon\n",
    "    \n",
    "    input:\n",
    "        new_column_name: the name you want to give to the new epa column\n",
    "        source_df: dataset to pull search lat/lon from and apply new values column (epa)\n",
    "        extract_df: name of dataset to extract value from\n",
    "        extract_df_lat_name: name of latitude column from extract_df\n",
    "        extract_df_lon_name: name of longitude column from extract_df\n",
    "        extract_df_value_column_name: name of the column where the values to extract are located\n",
    "        lat_range = range to search for latitudes, default is .1 unless specified\n",
    "        lon_range = range to search for latitudes, default is .1 unless specified\n",
    "    \n",
    "    output: \n",
    "        epa dataset with new column - assign function, with inputs, to variable to get new df\n",
    "    '''\n",
    "    \n",
    "    # create empty list for extracted values \n",
    "    # each value is extracted per row of the source_df and compared with lat/lon's in range from the extract_df\n",
    "    extracted_values_list = [] \n",
    "    \n",
    "    # uncomment for testing\n",
    "    # source_df = source_df[:6]\n",
    "    try:\n",
    "        for i in range(len(source_df)):\n",
    "            #### search extract df for latitudes in range of epa latitudes and epa latitudes +- .1\n",
    "\n",
    "            ## create range of lat and lon from source_df to search within\n",
    "\n",
    "            # create lat range\n",
    "            lat_search = float(source_df.iloc[i]['lat_2dec']) \n",
    "            lat_search_c_ceiling = lat_search + lat_range \n",
    "            lat_search_c_floor = lat_search - lat_range\n",
    "\n",
    "            # create lon range\n",
    "            lon_search = float(source_df.iloc[i]['lon_2dec']) \n",
    "            lon_search_c_ceiling = lon_search + lon_range\n",
    "            lon_search_c_floor = lon_search - lon_range\n",
    "\n",
    "            ## subset extraction_df by lat/lon floors and ceilings\n",
    "\n",
    "            # subset extraction df by latitudes in range of epa latitude for i\n",
    "            # https://www.geeksforgeeks.org/numpy-where-in-python/\n",
    "            lat_extraction_df = extract_df.loc[np.where(\n",
    "                ((extract_df[extract_df_lat_name] >= lat_search_c_floor) & \n",
    "                 (extract_df[extract_df_lat_name] <= lat_search_c_ceiling))\n",
    "            )].reset_index(drop = True)\n",
    "\n",
    "            # subset lat_extraction_df by longitudes in range of epa longitude for i\n",
    "            lon_from_lat_extraction_df = lat_extraction_df.loc[np.where(\n",
    "                ((lat_extraction_df[extract_df_lon_name] >= lon_search_c_floor) & \n",
    "                 (lat_extraction_df[extract_df_lon_name] <= lon_search_c_ceiling))\n",
    "            )]\n",
    "\n",
    "            #### pull the row with the smallest haversine distance from the epa lat/lon\n",
    "\n",
    "            # grab lat/lon of current row of source_df (i)\n",
    "            source_df_i_lat = float(source_df.iloc[i]['Latitude'])\n",
    "            source_df_i_lon = float(source_df.iloc[i]['Longitude'])\n",
    "\n",
    "            # create list of haversine values in range of source_df lat/lon current row\n",
    "            hav_list = []\n",
    "            for j in range(len(lon_from_lat_extraction_df)):\n",
    "                loc1 = (source_df_i_lat, source_df_i_lon)\n",
    "                loc2 = (float(lon_from_lat_extraction_df.iloc[j][extract_df_lat_name]), float(lon_from_lat_extraction_df.iloc[j][extract_df_lon_name]))\n",
    "                hav = hs.haversine(loc1, loc2)\n",
    "                hav_list.append(float(hav))\n",
    "\n",
    "            # add haversine column and values to current row's temporary subset dataframe\n",
    "            lon_from_lat_extraction_df['haversine'] = hav_list\n",
    "\n",
    "            # find extracted value from temporary subset dataframe based on minimum haversine\n",
    "            hav_min = lon_from_lat_extraction_df['haversine'].min()\n",
    "            extracted_row = lon_from_lat_extraction_df[lon_from_lat_extraction_df['haversine'] == hav_min].index\n",
    "            # https://stackoverflow.com/questions/62235344/how-to-return-a-cell-value-from-pandas-instead-of-a-series\n",
    "            extracted_value = lon_from_lat_extraction_df.loc[extracted_row, extract_df_value_column_name].values[0]\n",
    "            extracted_values_list.append(extracted_value)\n",
    "\n",
    "    except IndexError:\n",
    "        print(f'Index Error at row {i}')\n",
    "\n",
    "    # set new epa column with name\n",
    "    source_df[new_column_name] = extracted_values_list\n",
    "    \n",
    "    return source_df"
   ]
  },
  {
   "cell_type": "markdown",
   "id": "6af1dbf3-a189-47c0-9e50-51d583d1b106",
   "metadata": {
    "tags": []
   },
   "source": [
    "## Load CSV Function\n",
    "### To extract each group of monthly files per feature folder"
   ]
  },
  {
   "cell_type": "code",
   "execution_count": 18,
   "id": "1d4a38bc-50a6-43d0-b579-b2ac43a46f11",
   "metadata": {},
   "outputs": [],
   "source": [
    "def get_monthly_datasets(file_path):\n",
    "    '''\n",
    "    Goes into a parent folder and creates a dataset for each csv file in that folder. Must have 12 files.\n",
    "\n",
    "    file_path: file path for the parent folder of the files\n",
    "\n",
    "    Output: A dataset for each file (assign the function to the dataset names, in sequence of files)\n",
    "    '''\n",
    "    # https://www.geeksforgeeks.org/read-multiple-csv-files-into-separate-dataframes-in-python/\n",
    "    \n",
    "    # assign path\n",
    "    path, dirs, files = next(os.walk(file_path))\n",
    "    file_count = len(files)\n",
    "    # create empty list\n",
    "    dataframes_list = []\n",
    "\n",
    "    # append datasets to the list\n",
    "    for i in range(file_count):\n",
    "        if files[i].__contains__('Icon'):\n",
    "            pass\n",
    "        else:\n",
    "            temp_df = pd.read_csv(file_path+files[i])\n",
    "            print(file_path+files[i])\n",
    "            dataframes_list.append(temp_df)\n",
    "        \n",
    "    return dataframes_list"
   ]
  },
  {
   "cell_type": "markdown",
   "id": "5e6541b0-14ad-4afe-8e26-10bdb7636d55",
   "metadata": {},
   "source": [
    "# NO2"
   ]
  },
  {
   "cell_type": "markdown",
   "id": "86e380b8-a096-440c-af59-b612a3906538",
   "metadata": {},
   "source": [
    "## Get AOD Files and Assign to New Datasets"
   ]
  },
  {
   "cell_type": "code",
   "execution_count": 19,
   "id": "a0b1c376-267e-4aec-a6b5-05a248a66e89",
   "metadata": {},
   "outputs": [
    {
     "name": "stdout",
     "output_type": "stream",
     "text": [
      "../data/NO2data_cleaned/2019/NO2_10.csv\n",
      "../data/NO2data_cleaned/2019/NO2_04.csv\n",
      "../data/NO2data_cleaned/2019/NO2_05.csv\n",
      "../data/NO2data_cleaned/2019/NO2_11.csv\n",
      "../data/NO2data_cleaned/2019/NO2_07.csv\n",
      "../data/NO2data_cleaned/2019/NO2_12.csv\n",
      "../data/NO2data_cleaned/2019/NO2_06.csv\n",
      "../data/NO2data_cleaned/2019/NO2_02.csv\n",
      "../data/NO2data_cleaned/2019/NO2_03.csv\n",
      "../data/NO2data_cleaned/2019/NO2_01.csv\n",
      "../data/NO2data_cleaned/2019/NO2_08.csv\n",
      "../data/NO2data_cleaned/2019/NO2_09.csv\n"
     ]
    }
   ],
   "source": [
    "no2_df_list = get_monthly_datasets('../data/NO2data_cleaned/2019/')"
   ]
  },
  {
   "cell_type": "code",
   "execution_count": 20,
   "id": "54dd74c7-e04a-4ebd-8f9f-ee2484277df1",
   "metadata": {},
   "outputs": [],
   "source": [
    "# assigned in order of get_monthly_datasets output\n",
    "no2_10, no2_4, no2_5, no2_11, no2_7, no2_12, no2_6, no2_2, no2_3, no2_1, no2_8, no2_9 = [pd.DataFrame(each) for each in no2_df_list]"
   ]
  },
  {
   "cell_type": "markdown",
   "id": "5ab2fab3-e059-48b9-8cbc-5ed251823bf0",
   "metadata": {},
   "source": [
    "## Get NO2 Feature and Combine with Monthly EPA"
   ]
  },
  {
   "cell_type": "code",
   "execution_count": 21,
   "id": "caba74c4-e373-4201-b885-41a67c706f52",
   "metadata": {},
   "outputs": [],
   "source": [
    "epa_1 = extract_feature('no2', epa_1, no2_1, 'lat', 'lon', 'NO2', .5 , .5)"
   ]
  },
  {
   "cell_type": "code",
   "execution_count": 22,
   "id": "1b45e0be-47c7-492d-beec-4293b4a26742",
   "metadata": {},
   "outputs": [],
   "source": [
    "epa_2 = extract_feature('no2', epa_2, no2_2, 'lat', 'lon', 'NO2')"
   ]
  },
  {
   "cell_type": "code",
   "execution_count": 23,
   "id": "9a488fb6-f9a7-4153-9166-03b1d27c2828",
   "metadata": {},
   "outputs": [],
   "source": [
    "epa_3 = extract_feature('no2', epa_3, no2_3, 'lat', 'lon', 'NO2')"
   ]
  },
  {
   "cell_type": "code",
   "execution_count": 24,
   "id": "f1a722bd-ce2f-4b39-8407-fb5c60272fe8",
   "metadata": {},
   "outputs": [],
   "source": [
    "epa_4 = extract_feature('no2', epa_4, no2_4, 'lat', 'lon', 'NO2')"
   ]
  },
  {
   "cell_type": "code",
   "execution_count": 25,
   "id": "a4dcf7d1-6786-419c-83fa-f286b2ddd7f4",
   "metadata": {},
   "outputs": [],
   "source": [
    "epa_5 = extract_feature('no2', epa_5, no2_5, 'lat', 'lon', 'NO2')"
   ]
  },
  {
   "cell_type": "code",
   "execution_count": 26,
   "id": "5873af69-2a48-4dbf-8bc6-5fc3610b9176",
   "metadata": {
    "tags": []
   },
   "outputs": [],
   "source": [
    "epa_6 = extract_feature('no2', epa_6, no2_6, 'lat', 'lon', 'NO2')"
   ]
  },
  {
   "cell_type": "code",
   "execution_count": 27,
   "id": "069b8f30-5dfb-4f53-889d-8f2a03c76301",
   "metadata": {},
   "outputs": [],
   "source": [
    "epa_7 = extract_feature('no2', epa_7, no2_7, 'lat', 'lon', 'NO2')"
   ]
  },
  {
   "cell_type": "code",
   "execution_count": 28,
   "id": "852b9f21-490f-4711-82b5-8bab893f6f4e",
   "metadata": {},
   "outputs": [],
   "source": [
    "epa_8 = extract_feature('no2', epa_8, no2_8, 'lat', 'lon', 'NO2')"
   ]
  },
  {
   "cell_type": "code",
   "execution_count": 29,
   "id": "0691e55f-ed0c-44a6-8664-0ba2de6f7790",
   "metadata": {},
   "outputs": [],
   "source": [
    "epa_9 = extract_feature('no2', epa_9, no2_9, 'lat', 'lon', 'NO2')"
   ]
  },
  {
   "cell_type": "code",
   "execution_count": 30,
   "id": "d03eff28-b77c-4ef0-bb7f-f0c359798664",
   "metadata": {},
   "outputs": [],
   "source": [
    "epa_10 = extract_feature('no2', epa_10, no2_10, 'lat', 'lon', 'NO2')"
   ]
  },
  {
   "cell_type": "code",
   "execution_count": 31,
   "id": "6560fd61-d331-4a31-a776-1e62675db977",
   "metadata": {},
   "outputs": [],
   "source": [
    "epa_11 = extract_feature('no2', epa_11, no2_11, 'lat', 'lon', 'NO2')"
   ]
  },
  {
   "cell_type": "code",
   "execution_count": 32,
   "id": "7c282d84-bf97-4bf0-bf76-23d9b7e7a75e",
   "metadata": {},
   "outputs": [],
   "source": [
    "epa_12 = extract_feature('no2', epa_12, no2_12, 'lat', 'lon', 'NO2')"
   ]
  },
  {
   "cell_type": "markdown",
   "id": "6e11d131-1ff9-4040-b720-ce19962cdf3b",
   "metadata": {},
   "source": [
    "# AOD"
   ]
  },
  {
   "cell_type": "markdown",
   "id": "f03593da-bb85-4651-9946-ddce148cb3fa",
   "metadata": {},
   "source": [
    "## Get AOD Files and Assign to New Datasets"
   ]
  },
  {
   "cell_type": "code",
   "execution_count": 33,
   "id": "9e7ffc15-1a5a-4d63-840d-b3579b3f704e",
   "metadata": {},
   "outputs": [
    {
     "name": "stdout",
     "output_type": "stream",
     "text": [
      "../data/AODdata_cleaned/2019/AOD_08.csv\n",
      "../data/AODdata_cleaned/2019/AOD_09.csv\n",
      "../data/AODdata_cleaned/2019/AOD_01.csv\n",
      "../data/AODdata_cleaned/2019/AOD_02.csv\n",
      "../data/AODdata_cleaned/2019/AOD_03.csv\n",
      "../data/AODdata_cleaned/2019/AOD_07.csv\n",
      "../data/AODdata_cleaned/2019/AOD_12.csv\n",
      "../data/AODdata_cleaned/2019/AOD_06.csv\n",
      "../data/AODdata_cleaned/2019/AOD_10.csv\n",
      "../data/AODdata_cleaned/2019/AOD_04.csv\n",
      "../data/AODdata_cleaned/2019/AOD_05.csv\n",
      "../data/AODdata_cleaned/2019/AOD_11.csv\n"
     ]
    }
   ],
   "source": [
    "aod_df_list = get_monthly_datasets('../data/AODdata_cleaned/2019/')"
   ]
  },
  {
   "cell_type": "code",
   "execution_count": 34,
   "id": "a4922ddc-24d1-4238-a03a-ee95b576eb15",
   "metadata": {},
   "outputs": [],
   "source": [
    "# assigned in order of get_monthly_datasets output\n",
    "aod_8, aod_9, aod_1, aod_2, aod_3, aod_7, aod_12, aod_6, aod_10, aod_4, aod_5, aod_11 = [pd.DataFrame(each) for each in aod_df_list]"
   ]
  },
  {
   "cell_type": "markdown",
   "id": "08b98044-34cf-4033-9a43-7ad3f9744d0e",
   "metadata": {},
   "source": [
    "## Get AOD Feature and Combine with Monthly EPA"
   ]
  },
  {
   "cell_type": "code",
   "execution_count": 35,
   "id": "26791e60-979b-482f-b765-7064d019bb2b",
   "metadata": {},
   "outputs": [],
   "source": [
    "epa_1 = extract_feature('aod', epa_1, aod_1, 'Latitude', 'Longitude', 'AOD_550_AVG')"
   ]
  },
  {
   "cell_type": "code",
   "execution_count": 36,
   "id": "841e9ce3-6b8e-49de-862f-423fd9facde9",
   "metadata": {},
   "outputs": [],
   "source": [
    "epa_2 = extract_feature('aod', epa_2, aod_2, 'Latitude', 'Longitude', 'AOD_550_AVG')"
   ]
  },
  {
   "cell_type": "code",
   "execution_count": 37,
   "id": "3361f8ed-f9da-4153-9a66-5266d0009575",
   "metadata": {},
   "outputs": [],
   "source": [
    "epa_3 = extract_feature('aod', epa_3, aod_3, 'Latitude', 'Longitude', 'AOD_550_AVG')"
   ]
  },
  {
   "cell_type": "code",
   "execution_count": 38,
   "id": "c43206a7-c54d-44b2-a0f5-3513067e57d3",
   "metadata": {},
   "outputs": [],
   "source": [
    "epa_4 = extract_feature('aod', epa_4, aod_4, 'Latitude', 'Longitude', 'AOD_550_AVG')"
   ]
  },
  {
   "cell_type": "code",
   "execution_count": 39,
   "id": "9bec8371-3e5c-469f-9ea1-8af4c9869f85",
   "metadata": {},
   "outputs": [],
   "source": [
    "epa_5 = extract_feature('aod', epa_5, aod_5, 'Latitude', 'Longitude', 'AOD_550_AVG')"
   ]
  },
  {
   "cell_type": "code",
   "execution_count": 40,
   "id": "d556358d-0875-44c4-a1ec-096c3213a9d0",
   "metadata": {
    "tags": []
   },
   "outputs": [],
   "source": [
    "epa_6 = extract_feature('aod', epa_6, aod_6, 'Latitude', 'Longitude', 'AOD_550_AVG', .5, .5)"
   ]
  },
  {
   "cell_type": "code",
   "execution_count": 41,
   "id": "a4318e4d-c771-4710-9b8f-5b9444c10687",
   "metadata": {},
   "outputs": [],
   "source": [
    "epa_7 = extract_feature('aod', epa_7, aod_7, 'Latitude', 'Longitude', 'AOD_550_AVG')"
   ]
  },
  {
   "cell_type": "code",
   "execution_count": 42,
   "id": "358c8813-2b03-45b0-a059-109fbc7dae1e",
   "metadata": {},
   "outputs": [],
   "source": [
    "epa_8 = extract_feature('aod', epa_8, aod_8, 'Latitude', 'Longitude', 'AOD_550_AVG')"
   ]
  },
  {
   "cell_type": "code",
   "execution_count": 43,
   "id": "dbffc8c6-a8ff-471b-a968-e218e72ee109",
   "metadata": {},
   "outputs": [],
   "source": [
    "epa_9 = extract_feature('aod', epa_9, aod_9, 'Latitude', 'Longitude', 'AOD_550_AVG')"
   ]
  },
  {
   "cell_type": "code",
   "execution_count": 44,
   "id": "db6d1c89-0639-4b4f-bdb2-ee48f76d6d76",
   "metadata": {},
   "outputs": [],
   "source": [
    "epa_10 = extract_feature('aod', epa_10, aod_10, 'Latitude', 'Longitude', 'AOD_550_AVG')"
   ]
  },
  {
   "cell_type": "code",
   "execution_count": 45,
   "id": "15aa7641-aea4-467e-836f-dc9664ee6463",
   "metadata": {},
   "outputs": [],
   "source": [
    "epa_11 = extract_feature('aod', epa_11, aod_11, 'Latitude', 'Longitude', 'AOD_550_AVG')"
   ]
  },
  {
   "cell_type": "code",
   "execution_count": 46,
   "id": "f65c0e68-9f89-497b-9558-890b5d4a58c7",
   "metadata": {},
   "outputs": [],
   "source": [
    "epa_12 = extract_feature('aod', epa_12, aod_12, 'Latitude', 'Longitude', 'AOD_550_AVG')"
   ]
  },
  {
   "cell_type": "markdown",
   "id": "377f2e49-b965-440f-a50c-e3c2e05246fe",
   "metadata": {
    "tags": []
   },
   "source": [
    "# Temperature"
   ]
  },
  {
   "cell_type": "markdown",
   "id": "8932e3c0-16bf-4182-9a9c-b34d1dd9844d",
   "metadata": {
    "tags": []
   },
   "source": [
    "## Get Temp Files and Assign to New Datasets"
   ]
  },
  {
   "cell_type": "code",
   "execution_count": 47,
   "id": "672454cb-8221-4027-86da-497f372ca4a2",
   "metadata": {},
   "outputs": [
    {
     "name": "stdout",
     "output_type": "stream",
     "text": [
      "../data/tempdata_cleaned/2019/temp_09.csv\n",
      "../data/tempdata_cleaned/2019/temp_08.csv\n",
      "../data/tempdata_cleaned/2019/temp_01.csv\n",
      "../data/tempdata_cleaned/2019/temp_03.csv\n",
      "../data/tempdata_cleaned/2019/temp_02.csv\n",
      "../data/tempdata_cleaned/2019/temp_12.csv\n",
      "../data/tempdata_cleaned/2019/temp_06.csv\n",
      "../data/tempdata_cleaned/2019/temp_07.csv\n",
      "../data/tempdata_cleaned/2019/temp_05.csv\n",
      "../data/tempdata_cleaned/2019/temp_11.csv\n",
      "../data/tempdata_cleaned/2019/temp_10.csv\n",
      "../data/tempdata_cleaned/2019/temp_04.csv\n"
     ]
    }
   ],
   "source": [
    "temp_df_list = get_monthly_datasets('../data/tempdata_cleaned/2019/')"
   ]
  },
  {
   "cell_type": "code",
   "execution_count": 48,
   "id": "f8bc986f-392d-4297-b43d-495a13f1f49f",
   "metadata": {},
   "outputs": [],
   "source": [
    "temp_9, temp_8, temp_1, temp_3, temp_2, temp_12, temp_6, temp_7, temp_5, temp_11, temp_10, temp_4 = [pd.DataFrame(each) for each in temp_df_list]"
   ]
  },
  {
   "cell_type": "markdown",
   "id": "538b3213-9bb7-456e-bf85-f5d9adeb0f6e",
   "metadata": {
    "tags": []
   },
   "source": [
    "## Extract Temp Feature and Combine with Monthly EPAs"
   ]
  },
  {
   "cell_type": "code",
   "execution_count": 49,
   "id": "77e7aed0-977d-4b87-900d-48c52d395e65",
   "metadata": {},
   "outputs": [],
   "source": [
    "epa_1 = extract_feature('temp', epa_1, temp_1, 'lat', 'lon', 'temp')"
   ]
  },
  {
   "cell_type": "code",
   "execution_count": 50,
   "id": "8a8ac1b0-4ee8-4ed8-98e3-bfdff9282da9",
   "metadata": {},
   "outputs": [],
   "source": [
    "epa_2 = extract_feature('temp', epa_2, temp_2, 'lat', 'lon', 'temp')"
   ]
  },
  {
   "cell_type": "code",
   "execution_count": 51,
   "id": "08cb4693-8d32-4125-8ec2-231b38904e68",
   "metadata": {},
   "outputs": [],
   "source": [
    "epa_3 = extract_feature('temp', epa_3, temp_3, 'lat', 'lon', 'temp')"
   ]
  },
  {
   "cell_type": "code",
   "execution_count": 52,
   "id": "179f8f31-f372-4064-a24a-4708bb6c72e1",
   "metadata": {},
   "outputs": [],
   "source": [
    "epa_4 = extract_feature('temp', epa_4, temp_4, 'lat', 'lon', 'temp')"
   ]
  },
  {
   "cell_type": "code",
   "execution_count": 53,
   "id": "5d6dcfcb-d5e4-4462-a077-81b0e857c5e5",
   "metadata": {},
   "outputs": [],
   "source": [
    "epa_5 = extract_feature('temp', epa_5, temp_5, 'lat', 'lon', 'temp')"
   ]
  },
  {
   "cell_type": "code",
   "execution_count": 54,
   "id": "c672122a-e0fa-416d-ac5b-f1338fc16275",
   "metadata": {},
   "outputs": [],
   "source": [
    "epa_6 = extract_feature('temp', epa_6, temp_6, 'lat', 'lon', 'temp')"
   ]
  },
  {
   "cell_type": "code",
   "execution_count": 55,
   "id": "bc5fc5e2-0c2b-47be-9acd-fb6092777a1d",
   "metadata": {},
   "outputs": [],
   "source": [
    "epa_7 = extract_feature('temp', epa_7, temp_7, 'lat', 'lon', 'temp')"
   ]
  },
  {
   "cell_type": "code",
   "execution_count": 56,
   "id": "a831dd49-fba6-4b21-b95e-ba6cba14b6b6",
   "metadata": {},
   "outputs": [],
   "source": [
    "epa_8 = extract_feature('temp', epa_8, temp_8, 'lat', 'lon', 'temp')"
   ]
  },
  {
   "cell_type": "code",
   "execution_count": 57,
   "id": "f69bd099-b10c-4c87-90f6-3f9b8a76948c",
   "metadata": {},
   "outputs": [],
   "source": [
    "epa_9 = extract_feature('temp', epa_9, temp_9, 'lat', 'lon', 'temp')"
   ]
  },
  {
   "cell_type": "code",
   "execution_count": 58,
   "id": "77ce4175-525a-44de-b6bb-d71a920ec80c",
   "metadata": {},
   "outputs": [],
   "source": [
    "epa_10 = extract_feature('temp', epa_10, temp_10, 'lat', 'lon', 'temp')"
   ]
  },
  {
   "cell_type": "code",
   "execution_count": 59,
   "id": "aa58fe4f-5b08-462d-9835-fc978fe1e8d1",
   "metadata": {},
   "outputs": [],
   "source": [
    "epa_11 = extract_feature('temp', epa_11, temp_11, 'lat', 'lon', 'temp')"
   ]
  },
  {
   "cell_type": "code",
   "execution_count": 60,
   "id": "a20b2f74-72ce-4afd-a273-be826dc06d77",
   "metadata": {},
   "outputs": [],
   "source": [
    "epa_12 = extract_feature('temp', epa_12, temp_12, 'lat', 'lon', 'temp')"
   ]
  },
  {
   "cell_type": "markdown",
   "id": "fc0b0dae-0677-4497-b365-01d6d75f7ddc",
   "metadata": {
    "tags": []
   },
   "source": [
    "# Precipitation"
   ]
  },
  {
   "cell_type": "markdown",
   "id": "cb03fe90-2376-42a7-8a93-b61873e8c56e",
   "metadata": {
    "tags": []
   },
   "source": [
    "## Get Precip Files and Assign to New Datasets"
   ]
  },
  {
   "cell_type": "code",
   "execution_count": 61,
   "id": "d998b9e5-fd44-47ff-a32e-7bbd9e4e556f",
   "metadata": {},
   "outputs": [
    {
     "name": "stdout",
     "output_type": "stream",
     "text": [
      "../data/precipdata_cleaned/2019/precip_02.csv\n",
      "../data/precipdata_cleaned/2019/precip_03.csv\n",
      "../data/precipdata_cleaned/2019/precip_01.csv\n",
      "../data/precipdata_cleaned/2019/precip_04.csv\n",
      "../data/precipdata_cleaned/2019/precip_10.csv\n",
      "../data/precipdata_cleaned/2019/precip_11.csv\n",
      "../data/precipdata_cleaned/2019/precip_05.csv\n",
      "../data/precipdata_cleaned/2019/precip_07.csv\n",
      "../data/precipdata_cleaned/2019/precip_06.csv\n",
      "../data/precipdata_cleaned/2019/precip_12.csv\n",
      "../data/precipdata_cleaned/2019/precip_08.csv\n",
      "../data/precipdata_cleaned/2019/precip_09.csv\n"
     ]
    }
   ],
   "source": [
    "precip_df_list = get_monthly_datasets('../data/precipdata_cleaned/2019/')"
   ]
  },
  {
   "cell_type": "code",
   "execution_count": 62,
   "id": "a9191568-6cf7-42cd-9bdb-8aa416df17d8",
   "metadata": {},
   "outputs": [],
   "source": [
    "precip_2, precip_3, precip_1, precip_4, precip_10, precip_11, precip_5, precip_7, precip_6, precip_12, precip_8, precip_9 = [pd.DataFrame(each) for each in precip_df_list]"
   ]
  },
  {
   "cell_type": "markdown",
   "id": "12e60b46-af33-4bd0-9792-0399c09aabcd",
   "metadata": {
    "tags": []
   },
   "source": [
    "## Extract Precip Feature and Combine with Monthly EPAs"
   ]
  },
  {
   "cell_type": "code",
   "execution_count": 63,
   "id": "f3f277ac-a0dc-4d77-bb30-66fa99c71685",
   "metadata": {},
   "outputs": [],
   "source": [
    "epa_1 = extract_feature('precip', epa_1, precip_1, 'lat', 'lon', 'precip')"
   ]
  },
  {
   "cell_type": "code",
   "execution_count": 64,
   "id": "21346443-a4bc-4017-a026-d9ed4ac68b57",
   "metadata": {},
   "outputs": [],
   "source": [
    "epa_2 = extract_feature('precip', epa_2, precip_2, 'lat', 'lon', 'precip')"
   ]
  },
  {
   "cell_type": "code",
   "execution_count": 65,
   "id": "c535061d-8ad0-48d6-8eef-72c8005bc431",
   "metadata": {},
   "outputs": [],
   "source": [
    "epa_3 = extract_feature('precip', epa_3, precip_3, 'lat', 'lon', 'precip')"
   ]
  },
  {
   "cell_type": "code",
   "execution_count": 66,
   "id": "7c9f6063-ca7b-4d77-99cc-cecc07906772",
   "metadata": {},
   "outputs": [],
   "source": [
    "epa_4 = extract_feature('precip', epa_4, precip_4, 'lat', 'lon', 'precip')"
   ]
  },
  {
   "cell_type": "code",
   "execution_count": 67,
   "id": "550ca899-7215-4997-8e64-3c63ac5a46f5",
   "metadata": {},
   "outputs": [],
   "source": [
    "epa_5 = extract_feature('precip', epa_5, precip_5, 'lat', 'lon', 'precip')"
   ]
  },
  {
   "cell_type": "code",
   "execution_count": 68,
   "id": "bdd30477-866f-4bf2-aeb9-b3331eb5d85a",
   "metadata": {},
   "outputs": [],
   "source": [
    "epa_6 = extract_feature('precip', epa_6, precip_6, 'lat', 'lon', 'precip')"
   ]
  },
  {
   "cell_type": "code",
   "execution_count": 69,
   "id": "a4c5146b-a535-4fa8-8fb2-66152878db53",
   "metadata": {},
   "outputs": [],
   "source": [
    "epa_7 = extract_feature('precip', epa_7, precip_7, 'lat', 'lon', 'precip')"
   ]
  },
  {
   "cell_type": "code",
   "execution_count": 70,
   "id": "65d3ba7a-31ad-4fd8-9b58-59c3cc09010a",
   "metadata": {},
   "outputs": [],
   "source": [
    "epa_8 = extract_feature('precip', epa_8, precip_8, 'lat', 'lon', 'precip')"
   ]
  },
  {
   "cell_type": "code",
   "execution_count": 71,
   "id": "1006a90c-7140-462a-a97c-e38d68cafbb6",
   "metadata": {},
   "outputs": [],
   "source": [
    "epa_9 = extract_feature('precip', epa_9, precip_9, 'lat', 'lon', 'precip')"
   ]
  },
  {
   "cell_type": "code",
   "execution_count": 72,
   "id": "fd1b7699-8be3-40e3-9da0-504458bf7de1",
   "metadata": {},
   "outputs": [],
   "source": [
    "epa_10 = extract_feature('precip', epa_10, precip_10, 'lat', 'lon', 'precip')"
   ]
  },
  {
   "cell_type": "code",
   "execution_count": 73,
   "id": "9e553265-f566-4974-9c5f-f6085191d542",
   "metadata": {},
   "outputs": [],
   "source": [
    "epa_11 = extract_feature('precip', epa_11, precip_11, 'lat', 'lon', 'precip')"
   ]
  },
  {
   "cell_type": "code",
   "execution_count": 74,
   "id": "5adc088a-9b87-4aaa-82da-bf6e01e34c04",
   "metadata": {},
   "outputs": [],
   "source": [
    "epa_12 = extract_feature('precip', epa_12, precip_12, 'lat', 'lon', 'precip')"
   ]
  },
  {
   "cell_type": "markdown",
   "id": "67032e16-2637-4ab1-a24b-16138813543e",
   "metadata": {},
   "source": [
    "# Concatenate EPA monthly datasets!"
   ]
  },
  {
   "cell_type": "code",
   "execution_count": 75,
   "id": "c0ea0cc6-a0eb-4cd4-9efd-87d10778535d",
   "metadata": {},
   "outputs": [],
   "source": [
    "epa_monthly_list = [epa_1, epa_2, epa_3, epa_4, epa_5, epa_6, epa_7, epa_8, epa_9, epa_10, epa_11, epa_12]"
   ]
  },
  {
   "cell_type": "code",
   "execution_count": 76,
   "id": "3cabd841-08c1-43d1-951b-1b83336b6784",
   "metadata": {},
   "outputs": [],
   "source": [
    "epa_final = pd.DataFrame()\n",
    "\n",
    "for each in epa_monthly_list:\n",
    "    epa_final = pd.concat([epa_final, each])"
   ]
  },
  {
   "cell_type": "code",
   "execution_count": 77,
   "id": "4e7e61aa-c493-4888-a567-25f0fdcfe0ec",
   "metadata": {},
   "outputs": [],
   "source": [
    "epa_final.sort_values('Date Local', inplace = True)"
   ]
  },
  {
   "cell_type": "code",
   "execution_count": 78,
   "id": "971163ab-f2c7-49b5-9f2f-65af9ad3a87d",
   "metadata": {},
   "outputs": [],
   "source": [
    "epa_final.dropna(inplace = True)"
   ]
  },
  {
   "cell_type": "code",
   "execution_count": 79,
   "id": "abddba4f-ad59-4d91-8263-c6f736ad414a",
   "metadata": {},
   "outputs": [
    {
     "data": {
      "text/html": [
       "<div>\n",
       "<style scoped>\n",
       "    .dataframe tbody tr th:only-of-type {\n",
       "        vertical-align: middle;\n",
       "    }\n",
       "\n",
       "    .dataframe tbody tr th {\n",
       "        vertical-align: top;\n",
       "    }\n",
       "\n",
       "    .dataframe thead th {\n",
       "        text-align: right;\n",
       "    }\n",
       "</style>\n",
       "<table border=\"1\" class=\"dataframe\">\n",
       "  <thead>\n",
       "    <tr style=\"text-align: right;\">\n",
       "      <th></th>\n",
       "      <th>Date Local</th>\n",
       "      <th>Latitude</th>\n",
       "      <th>Longitude</th>\n",
       "      <th>PM2.5 Monthly Mean</th>\n",
       "      <th>lat_2dec</th>\n",
       "      <th>lon_2dec</th>\n",
       "    </tr>\n",
       "  </thead>\n",
       "  <tbody>\n",
       "    <tr>\n",
       "      <th>0</th>\n",
       "      <td>2019-01-31</td>\n",
       "      <td>30.497478</td>\n",
       "      <td>-87.880258</td>\n",
       "      <td>6.825000</td>\n",
       "      <td>30.50</td>\n",
       "      <td>-87.88</td>\n",
       "    </tr>\n",
       "    <tr>\n",
       "      <th>1</th>\n",
       "      <td>2019-01-31</td>\n",
       "      <td>34.214263</td>\n",
       "      <td>-79.767347</td>\n",
       "      <td>7.600000</td>\n",
       "      <td>30.50</td>\n",
       "      <td>-87.88</td>\n",
       "    </tr>\n",
       "    <tr>\n",
       "      <th>2</th>\n",
       "      <td>2019-01-31</td>\n",
       "      <td>26.687606</td>\n",
       "      <td>-80.219619</td>\n",
       "      <td>5.428571</td>\n",
       "      <td>30.50</td>\n",
       "      <td>-87.88</td>\n",
       "    </tr>\n",
       "    <tr>\n",
       "      <th>3</th>\n",
       "      <td>2019-01-31</td>\n",
       "      <td>34.843895</td>\n",
       "      <td>-82.414585</td>\n",
       "      <td>7.016667</td>\n",
       "      <td>30.50</td>\n",
       "      <td>-87.88</td>\n",
       "    </tr>\n",
       "    <tr>\n",
       "      <th>4</th>\n",
       "      <td>2019-01-31</td>\n",
       "      <td>28.596389</td>\n",
       "      <td>-81.362500</td>\n",
       "      <td>6.721739</td>\n",
       "      <td>30.50</td>\n",
       "      <td>-87.88</td>\n",
       "    </tr>\n",
       "  </tbody>\n",
       "</table>\n",
       "</div>"
      ],
      "text/plain": [
       "   Date Local   Latitude  Longitude  PM2.5 Monthly Mean lat_2dec lon_2dec\n",
       "0  2019-01-31  30.497478 -87.880258            6.825000    30.50   -87.88\n",
       "1  2019-01-31  34.214263 -79.767347            7.600000    30.50   -87.88\n",
       "2  2019-01-31  26.687606 -80.219619            5.428571    30.50   -87.88\n",
       "3  2019-01-31  34.843895 -82.414585            7.016667    30.50   -87.88\n",
       "4  2019-01-31  28.596389 -81.362500            6.721739    30.50   -87.88"
      ]
     },
     "execution_count": 79,
     "metadata": {},
     "output_type": "execute_result"
    }
   ],
   "source": [
    "epa.head()"
   ]
  },
  {
   "cell_type": "code",
   "execution_count": 80,
   "id": "993c3aac-8f7d-4a52-ae97-8adf90f0849d",
   "metadata": {},
   "outputs": [
    {
     "data": {
      "text/html": [
       "<div>\n",
       "<style scoped>\n",
       "    .dataframe tbody tr th:only-of-type {\n",
       "        vertical-align: middle;\n",
       "    }\n",
       "\n",
       "    .dataframe tbody tr th {\n",
       "        vertical-align: top;\n",
       "    }\n",
       "\n",
       "    .dataframe thead th {\n",
       "        text-align: right;\n",
       "    }\n",
       "</style>\n",
       "<table border=\"1\" class=\"dataframe\">\n",
       "  <thead>\n",
       "    <tr style=\"text-align: right;\">\n",
       "      <th></th>\n",
       "      <th>Date Local</th>\n",
       "      <th>Latitude</th>\n",
       "      <th>Longitude</th>\n",
       "      <th>PM2.5 Monthly Mean</th>\n",
       "      <th>lat_2dec</th>\n",
       "      <th>lon_2dec</th>\n",
       "      <th>no2</th>\n",
       "      <th>aod</th>\n",
       "      <th>temp</th>\n",
       "      <th>precip</th>\n",
       "    </tr>\n",
       "  </thead>\n",
       "  <tbody>\n",
       "    <tr>\n",
       "      <th>0</th>\n",
       "      <td>2019-01-31</td>\n",
       "      <td>30.497478</td>\n",
       "      <td>-87.880258</td>\n",
       "      <td>6.825000</td>\n",
       "      <td>30.50</td>\n",
       "      <td>-87.88</td>\n",
       "      <td>1.541665e+15</td>\n",
       "      <td>0.052667</td>\n",
       "      <td>290.88</td>\n",
       "      <td>3.993249</td>\n",
       "    </tr>\n",
       "    <tr>\n",
       "      <th>780</th>\n",
       "      <td>2019-01-31</td>\n",
       "      <td>38.013333</td>\n",
       "      <td>-87.577222</td>\n",
       "      <td>9.860000</td>\n",
       "      <td>30.50</td>\n",
       "      <td>-87.88</td>\n",
       "      <td>1.120693e+15</td>\n",
       "      <td>0.035250</td>\n",
       "      <td>290.56</td>\n",
       "      <td>4.091899</td>\n",
       "    </tr>\n",
       "    <tr>\n",
       "      <th>779</th>\n",
       "      <td>2019-01-31</td>\n",
       "      <td>41.874999</td>\n",
       "      <td>-90.177574</td>\n",
       "      <td>10.290000</td>\n",
       "      <td>30.50</td>\n",
       "      <td>-87.88</td>\n",
       "      <td>1.374970e+15</td>\n",
       "      <td>0.201500</td>\n",
       "      <td>288.74</td>\n",
       "      <td>4.167067</td>\n",
       "    </tr>\n",
       "    <tr>\n",
       "      <th>778</th>\n",
       "      <td>2019-01-31</td>\n",
       "      <td>38.013333</td>\n",
       "      <td>-87.577222</td>\n",
       "      <td>7.222581</td>\n",
       "      <td>30.50</td>\n",
       "      <td>-87.88</td>\n",
       "      <td>1.120693e+15</td>\n",
       "      <td>0.035250</td>\n",
       "      <td>290.56</td>\n",
       "      <td>4.091899</td>\n",
       "    </tr>\n",
       "    <tr>\n",
       "      <th>777</th>\n",
       "      <td>2019-01-31</td>\n",
       "      <td>41.164400</td>\n",
       "      <td>-81.235200</td>\n",
       "      <td>8.762500</td>\n",
       "      <td>30.50</td>\n",
       "      <td>-87.88</td>\n",
       "      <td>1.421505e+15</td>\n",
       "      <td>0.035250</td>\n",
       "      <td>290.56</td>\n",
       "      <td>4.091899</td>\n",
       "    </tr>\n",
       "  </tbody>\n",
       "</table>\n",
       "</div>"
      ],
      "text/plain": [
       "     Date Local   Latitude  Longitude  PM2.5 Monthly Mean lat_2dec lon_2dec  \\\n",
       "0    2019-01-31  30.497478 -87.880258            6.825000    30.50   -87.88   \n",
       "780  2019-01-31  38.013333 -87.577222            9.860000    30.50   -87.88   \n",
       "779  2019-01-31  41.874999 -90.177574           10.290000    30.50   -87.88   \n",
       "778  2019-01-31  38.013333 -87.577222            7.222581    30.50   -87.88   \n",
       "777  2019-01-31  41.164400 -81.235200            8.762500    30.50   -87.88   \n",
       "\n",
       "              no2       aod    temp    precip  \n",
       "0    1.541665e+15  0.052667  290.88  3.993249  \n",
       "780  1.120693e+15  0.035250  290.56  4.091899  \n",
       "779  1.374970e+15  0.201500  288.74  4.167067  \n",
       "778  1.120693e+15  0.035250  290.56  4.091899  \n",
       "777  1.421505e+15  0.035250  290.56  4.091899  "
      ]
     },
     "execution_count": 80,
     "metadata": {},
     "output_type": "execute_result"
    }
   ],
   "source": [
    "epa_final.head()"
   ]
  },
  {
   "cell_type": "code",
   "execution_count": 89,
   "id": "7e86ca6c-2c9c-4a39-9265-1cfbd6e3a329",
   "metadata": {},
   "outputs": [],
   "source": [
    "# epa_final.to_csv('../data/epa_final.csv', index = False)"
   ]
  },
  {
   "cell_type": "code",
   "execution_count": 82,
   "id": "2631846e-19da-4e22-9bdb-cb0a7f529de9",
   "metadata": {},
   "outputs": [],
   "source": [
    "# epa_final['Date Local'] = pd.to_datetime(epa_final['Date Local'])"
   ]
  },
  {
   "cell_type": "code",
   "execution_count": 83,
   "id": "3760fb2f-f0fc-4e7e-bbce-1eafcec8adc0",
   "metadata": {},
   "outputs": [],
   "source": [
    "# epa_final.set_index('Date Local', inplace = True)"
   ]
  },
  {
   "cell_type": "code",
   "execution_count": 84,
   "id": "68ebce28-edd9-41ff-967e-88627a896002",
   "metadata": {},
   "outputs": [],
   "source": [
    "# plot = epa_final[['PM2.5 Monthly Mean', 'aod', 'temperature', 'precipitation']].dropna()\n",
    "# plot = plot.resample('M').mean()\n",
    "# plot.head(12)"
   ]
  },
  {
   "cell_type": "code",
   "execution_count": 85,
   "id": "229a94cf-a681-42b5-afc8-ca39c6b2f523",
   "metadata": {},
   "outputs": [],
   "source": [
    "# plt.figure(figsize = (10, 6))\n",
    "# plt.plot(plot['PM2.5 Monthly Mean'])\n",
    "# plt.ylabel('Average Monthly PM2.5');"
   ]
  },
  {
   "cell_type": "code",
   "execution_count": 86,
   "id": "8c96e735-0c1c-4a64-bd92-5927d31b4ba7",
   "metadata": {},
   "outputs": [],
   "source": [
    "# plt.figure(figsize = (10, 6))\n",
    "# plt.plot(plot['aod'])\n",
    "# plt.ylabel('Average Monthly AOD');"
   ]
  },
  {
   "cell_type": "code",
   "execution_count": 87,
   "id": "603098aa-1cb9-4f5f-8765-12beb4202a57",
   "metadata": {},
   "outputs": [],
   "source": [
    "# plt.figure(figsize = (10, 6))\n",
    "# plt.plot(plot['temperature'])\n",
    "# plt.ylabel('Average Monthly Temperature');"
   ]
  },
  {
   "cell_type": "code",
   "execution_count": 88,
   "id": "e772350d-ba62-4681-a44b-e07260902af2",
   "metadata": {},
   "outputs": [],
   "source": [
    "# plt.figure(figsize = (10, 6))\n",
    "# plt.plot(plot['precipitation'])\n",
    "# plt.ylabel('Average Monthly Precipitation');"
   ]
  },
  {
   "cell_type": "code",
   "execution_count": null,
   "id": "a65f22d4-5d40-4f24-9184-5bbfc18ee0c9",
   "metadata": {},
   "outputs": [],
   "source": []
  },
  {
   "cell_type": "code",
   "execution_count": null,
   "id": "913a918a-d3f7-4450-a658-253ea68a88f6",
   "metadata": {},
   "outputs": [],
   "source": []
  }
 ],
 "metadata": {
  "kernelspec": {
   "display_name": "Python 3 (ipykernel)",
   "language": "python",
   "name": "python3"
  },
  "language_info": {
   "codemirror_mode": {
    "name": "ipython",
    "version": 3
   },
   "file_extension": ".py",
   "mimetype": "text/x-python",
   "name": "python",
   "nbconvert_exporter": "python",
   "pygments_lexer": "ipython3",
   "version": "3.9.12"
  }
 },
 "nbformat": 4,
 "nbformat_minor": 5
}
