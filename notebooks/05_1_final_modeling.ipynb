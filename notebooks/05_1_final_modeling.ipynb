{
 "cells": [
  {
   "cell_type": "code",
   "execution_count": 1,
   "id": "997ca861-9d27-4591-b2ba-98a9155ec058",
   "metadata": {},
   "outputs": [],
   "source": [
    "import pandas as pd\n",
    "import numpy as np\n",
    "import seaborn as sns\n",
    "import matplotlib.pyplot as plt\n",
    "%matplotlib inline\n",
    "\n",
    "from sklearn.pipeline import Pipeline\n",
    "from functools import reduce\n",
    "\n",
    "\n",
    "from sklearn.model_selection import train_test_split, cross_val_score\n",
    "from sklearn.preprocessing import PolynomialFeatures, StandardScaler\n",
    "from sklearn.neighbors import KNeighborsRegressor\n",
    "\n",
    "from sklearn.linear_model import LinearRegression, LassoCV\n",
    "from sklearn import metrics\n",
    "from sklearn.model_selection import GridSearchCV\n",
    "from sklearn.linear_model import Ridge, Lasso, ElasticNet\n",
    "from sklearn.naive_bayes import MultinomialNB\n",
    "from sklearn.ensemble import GradientBoostingRegressor, AdaBoostRegressor, VotingRegressor\n",
    "\n",
    "from sklearn.tree import DecisionTreeClassifier, DecisionTreeRegressor\n",
    "from sklearn.ensemble import RandomForestClassifier, RandomForestRegressor, AdaBoostClassifier, AdaBoostRegressor, BaggingClassifier, BaggingRegressor, StackingRegressor\n",
    "\n",
    "import warnings\n",
    "warnings.simplefilter(action=\"ignore\")"
   ]
  },
  {
   "cell_type": "code",
   "execution_count": 2,
   "id": "bea1b9ba-b14a-4f56-b0fd-c5d116be0812",
   "metadata": {},
   "outputs": [],
   "source": [
    "df = pd.read_csv('../data/epa_final.csv')"
   ]
  },
  {
   "cell_type": "code",
   "execution_count": 3,
   "id": "958aff87-f55a-4ca1-9955-04ea913594a7",
   "metadata": {},
   "outputs": [
    {
     "data": {
      "text/html": [
       "<div>\n",
       "<style scoped>\n",
       "    .dataframe tbody tr th:only-of-type {\n",
       "        vertical-align: middle;\n",
       "    }\n",
       "\n",
       "    .dataframe tbody tr th {\n",
       "        vertical-align: top;\n",
       "    }\n",
       "\n",
       "    .dataframe thead th {\n",
       "        text-align: right;\n",
       "    }\n",
       "</style>\n",
       "<table border=\"1\" class=\"dataframe\">\n",
       "  <thead>\n",
       "    <tr style=\"text-align: right;\">\n",
       "      <th></th>\n",
       "      <th>Date Local</th>\n",
       "      <th>Latitude</th>\n",
       "      <th>Longitude</th>\n",
       "      <th>PM2.5 Monthly Mean</th>\n",
       "      <th>lat_2dec</th>\n",
       "      <th>lon_2dec</th>\n",
       "      <th>no2</th>\n",
       "      <th>aod</th>\n",
       "      <th>temp</th>\n",
       "      <th>precip</th>\n",
       "    </tr>\n",
       "  </thead>\n",
       "  <tbody>\n",
       "    <tr>\n",
       "      <th>0</th>\n",
       "      <td>2019-01-31</td>\n",
       "      <td>30.497478</td>\n",
       "      <td>-87.880258</td>\n",
       "      <td>6.825000</td>\n",
       "      <td>30.5</td>\n",
       "      <td>-87.88</td>\n",
       "      <td>1.541665e+15</td>\n",
       "      <td>0.052667</td>\n",
       "      <td>290.88</td>\n",
       "      <td>3.993249</td>\n",
       "    </tr>\n",
       "    <tr>\n",
       "      <th>1</th>\n",
       "      <td>2019-01-31</td>\n",
       "      <td>38.013333</td>\n",
       "      <td>-87.577222</td>\n",
       "      <td>9.860000</td>\n",
       "      <td>30.5</td>\n",
       "      <td>-87.88</td>\n",
       "      <td>1.120693e+15</td>\n",
       "      <td>0.035250</td>\n",
       "      <td>290.56</td>\n",
       "      <td>4.091899</td>\n",
       "    </tr>\n",
       "    <tr>\n",
       "      <th>2</th>\n",
       "      <td>2019-01-31</td>\n",
       "      <td>41.874999</td>\n",
       "      <td>-90.177574</td>\n",
       "      <td>10.290000</td>\n",
       "      <td>30.5</td>\n",
       "      <td>-87.88</td>\n",
       "      <td>1.374970e+15</td>\n",
       "      <td>0.201500</td>\n",
       "      <td>288.74</td>\n",
       "      <td>4.167067</td>\n",
       "    </tr>\n",
       "    <tr>\n",
       "      <th>3</th>\n",
       "      <td>2019-01-31</td>\n",
       "      <td>38.013333</td>\n",
       "      <td>-87.577222</td>\n",
       "      <td>7.222581</td>\n",
       "      <td>30.5</td>\n",
       "      <td>-87.88</td>\n",
       "      <td>1.120693e+15</td>\n",
       "      <td>0.035250</td>\n",
       "      <td>290.56</td>\n",
       "      <td>4.091899</td>\n",
       "    </tr>\n",
       "    <tr>\n",
       "      <th>4</th>\n",
       "      <td>2019-01-31</td>\n",
       "      <td>41.164400</td>\n",
       "      <td>-81.235200</td>\n",
       "      <td>8.762500</td>\n",
       "      <td>30.5</td>\n",
       "      <td>-87.88</td>\n",
       "      <td>1.421505e+15</td>\n",
       "      <td>0.035250</td>\n",
       "      <td>290.56</td>\n",
       "      <td>4.091899</td>\n",
       "    </tr>\n",
       "  </tbody>\n",
       "</table>\n",
       "</div>"
      ],
      "text/plain": [
       "   Date Local   Latitude  Longitude  PM2.5 Monthly Mean  lat_2dec  lon_2dec  \\\n",
       "0  2019-01-31  30.497478 -87.880258            6.825000      30.5    -87.88   \n",
       "1  2019-01-31  38.013333 -87.577222            9.860000      30.5    -87.88   \n",
       "2  2019-01-31  41.874999 -90.177574           10.290000      30.5    -87.88   \n",
       "3  2019-01-31  38.013333 -87.577222            7.222581      30.5    -87.88   \n",
       "4  2019-01-31  41.164400 -81.235200            8.762500      30.5    -87.88   \n",
       "\n",
       "            no2       aod    temp    precip  \n",
       "0  1.541665e+15  0.052667  290.88  3.993249  \n",
       "1  1.120693e+15  0.035250  290.56  4.091899  \n",
       "2  1.374970e+15  0.201500  288.74  4.167067  \n",
       "3  1.120693e+15  0.035250  290.56  4.091899  \n",
       "4  1.421505e+15  0.035250  290.56  4.091899  "
      ]
     },
     "execution_count": 3,
     "metadata": {},
     "output_type": "execute_result"
    }
   ],
   "source": [
    "df.head()"
   ]
  },
  {
   "cell_type": "code",
   "execution_count": 4,
   "id": "4e93aa2d-ce12-4cf9-8074-266cad4aeed2",
   "metadata": {},
   "outputs": [
    {
     "data": {
      "text/plain": [
       "(13829, 10)"
      ]
     },
     "execution_count": 4,
     "metadata": {},
     "output_type": "execute_result"
    }
   ],
   "source": [
    "df.shape"
   ]
  },
  {
   "cell_type": "code",
   "execution_count": 5,
   "id": "0bcebfae-b935-4c23-81c4-909876083421",
   "metadata": {},
   "outputs": [],
   "source": [
    "df = df[df['PM2.5 Monthly Mean'] > 0]"
   ]
  },
  {
   "cell_type": "code",
   "execution_count": 6,
   "id": "122424a3-6b74-4f4c-bb24-634b060830ff",
   "metadata": {},
   "outputs": [
    {
     "data": {
      "text/plain": [
       "(13828, 10)"
      ]
     },
     "execution_count": 6,
     "metadata": {},
     "output_type": "execute_result"
    }
   ],
   "source": [
    "df.shape"
   ]
  },
  {
   "cell_type": "code",
   "execution_count": 7,
   "id": "9fde4ddf-42c1-4f66-bf39-766b53b34d9f",
   "metadata": {},
   "outputs": [],
   "source": [
    "X = df.drop(columns = ['Date Local','PM2.5 Monthly Mean', 'lat_2dec', 'lon_2dec'])\n",
    "y = df['PM2.5 Monthly Mean']"
   ]
  },
  {
   "cell_type": "code",
   "execution_count": 8,
   "id": "0cd949be-6714-4eaf-b115-cf16af1d50fe",
   "metadata": {},
   "outputs": [
    {
     "data": {
      "text/html": [
       "<div>\n",
       "<style scoped>\n",
       "    .dataframe tbody tr th:only-of-type {\n",
       "        vertical-align: middle;\n",
       "    }\n",
       "\n",
       "    .dataframe tbody tr th {\n",
       "        vertical-align: top;\n",
       "    }\n",
       "\n",
       "    .dataframe thead th {\n",
       "        text-align: right;\n",
       "    }\n",
       "</style>\n",
       "<table border=\"1\" class=\"dataframe\">\n",
       "  <thead>\n",
       "    <tr style=\"text-align: right;\">\n",
       "      <th></th>\n",
       "      <th>Latitude</th>\n",
       "      <th>Longitude</th>\n",
       "      <th>no2</th>\n",
       "      <th>aod</th>\n",
       "      <th>temp</th>\n",
       "      <th>precip</th>\n",
       "    </tr>\n",
       "  </thead>\n",
       "  <tbody>\n",
       "    <tr>\n",
       "      <th>0</th>\n",
       "      <td>30.497478</td>\n",
       "      <td>-87.880258</td>\n",
       "      <td>1.541665e+15</td>\n",
       "      <td>0.052667</td>\n",
       "      <td>290.88</td>\n",
       "      <td>3.993249</td>\n",
       "    </tr>\n",
       "    <tr>\n",
       "      <th>1</th>\n",
       "      <td>38.013333</td>\n",
       "      <td>-87.577222</td>\n",
       "      <td>1.120693e+15</td>\n",
       "      <td>0.035250</td>\n",
       "      <td>290.56</td>\n",
       "      <td>4.091899</td>\n",
       "    </tr>\n",
       "    <tr>\n",
       "      <th>2</th>\n",
       "      <td>41.874999</td>\n",
       "      <td>-90.177574</td>\n",
       "      <td>1.374970e+15</td>\n",
       "      <td>0.201500</td>\n",
       "      <td>288.74</td>\n",
       "      <td>4.167067</td>\n",
       "    </tr>\n",
       "    <tr>\n",
       "      <th>3</th>\n",
       "      <td>38.013333</td>\n",
       "      <td>-87.577222</td>\n",
       "      <td>1.120693e+15</td>\n",
       "      <td>0.035250</td>\n",
       "      <td>290.56</td>\n",
       "      <td>4.091899</td>\n",
       "    </tr>\n",
       "    <tr>\n",
       "      <th>4</th>\n",
       "      <td>41.164400</td>\n",
       "      <td>-81.235200</td>\n",
       "      <td>1.421505e+15</td>\n",
       "      <td>0.035250</td>\n",
       "      <td>290.56</td>\n",
       "      <td>4.091899</td>\n",
       "    </tr>\n",
       "  </tbody>\n",
       "</table>\n",
       "</div>"
      ],
      "text/plain": [
       "    Latitude  Longitude           no2       aod    temp    precip\n",
       "0  30.497478 -87.880258  1.541665e+15  0.052667  290.88  3.993249\n",
       "1  38.013333 -87.577222  1.120693e+15  0.035250  290.56  4.091899\n",
       "2  41.874999 -90.177574  1.374970e+15  0.201500  288.74  4.167067\n",
       "3  38.013333 -87.577222  1.120693e+15  0.035250  290.56  4.091899\n",
       "4  41.164400 -81.235200  1.421505e+15  0.035250  290.56  4.091899"
      ]
     },
     "execution_count": 8,
     "metadata": {},
     "output_type": "execute_result"
    }
   ],
   "source": [
    "X.head()"
   ]
  },
  {
   "cell_type": "code",
   "execution_count": 9,
   "id": "dc709835-1140-456d-aef0-bd8257d061e2",
   "metadata": {},
   "outputs": [],
   "source": [
    "X_train, X_test, y_train, y_test = train_test_split(X, y, random_state = 42)"
   ]
  },
  {
   "cell_type": "code",
   "execution_count": 10,
   "id": "5f8d3cc0-7259-4885-8666-95d91a82a36f",
   "metadata": {},
   "outputs": [],
   "source": [
    "ss = StandardScaler()\n",
    "X_train_sc = ss.fit_transform(X_train)\n",
    "X_test_sc = ss.transform(X_test)"
   ]
  },
  {
   "cell_type": "code",
   "execution_count": 11,
   "id": "6d57bd23-e9e1-403b-b77f-ac2003f51f1f",
   "metadata": {},
   "outputs": [
    {
     "name": "stdout",
     "output_type": "stream",
     "text": [
      "Random forest training score: 0.9348817680913113\n",
      "Random forest test score: 0.6920198374102725\n"
     ]
    }
   ],
   "source": [
    "rf = RandomForestRegressor()\n",
    "rf.fit(X_train_sc, y_train)\n",
    "rf_train_pred = rf.predict(X_train_sc)\n",
    "rf_test_pred = rf.predict(X_test_sc)\n",
    "print(f'Random forest training score: {rf.score(X_train_sc,y_train)}')\n",
    "print(f'Random forest test score: {rf.score(X_test_sc,y_test)}')"
   ]
  },
  {
   "cell_type": "markdown",
   "id": "1acf7528-2dec-4977-ae6b-58caa85bc197",
   "metadata": {},
   "source": [
    "Unfortunately, no models we tried beat the random forest model, so we are making predictions with that!"
   ]
  },
  {
   "cell_type": "code",
   "execution_count": 12,
   "id": "dc831887-84b0-4477-9a5e-0c46bffb0a41",
   "metadata": {},
   "outputs": [],
   "source": [
    "level4_models = [\n",
    "    ('bag', BaggingRegressor()),\n",
    "    ('dt_pipe', Pipeline([\n",
    "        ('ss', StandardScaler()),\n",
    "        ('rf', RandomForestRegressor())\n",
    "    ])),\n",
    "    ('lasso_pipe', Pipeline([\n",
    "        ('ss', StandardScaler()),\n",
    "        ('lasso', LassoCV())\n",
    "    ]))\n",
    "]\n",
    "\n",
    "stack3 = StackingRegressor(estimators=level4_models)"
   ]
  },
  {
   "cell_type": "code",
   "execution_count": 13,
   "id": "2419e2b2-393f-4c0c-804c-a7ca7a3e52a4",
   "metadata": {},
   "outputs": [
    {
     "data": {
      "text/plain": [
       "StackingRegressor(estimators=[('bag', BaggingRegressor()),\n",
       "                              ('dt_pipe',\n",
       "                               Pipeline(steps=[('ss', StandardScaler()),\n",
       "                                               ('rf',\n",
       "                                                RandomForestRegressor())])),\n",
       "                              ('lasso_pipe',\n",
       "                               Pipeline(steps=[('ss', StandardScaler()),\n",
       "                                               ('lasso', LassoCV())]))])"
      ]
     },
     "execution_count": 13,
     "metadata": {},
     "output_type": "execute_result"
    }
   ],
   "source": [
    "stack3.fit(X_train_sc,y_train)"
   ]
  },
  {
   "cell_type": "code",
   "execution_count": 14,
   "id": "a5d289ce-8455-4a5d-81ad-d1d47e64dd06",
   "metadata": {},
   "outputs": [
    {
     "data": {
      "text/plain": [
       "0.9319865308513013"
      ]
     },
     "execution_count": 14,
     "metadata": {},
     "output_type": "execute_result"
    }
   ],
   "source": [
    "stack3.score(X_train_sc, y_train)"
   ]
  },
  {
   "cell_type": "code",
   "execution_count": 15,
   "id": "75847026-c811-4645-af9b-c40feef17c24",
   "metadata": {},
   "outputs": [
    {
     "data": {
      "text/plain": [
       "0.6963161943082741"
      ]
     },
     "execution_count": 15,
     "metadata": {},
     "output_type": "execute_result"
    }
   ],
   "source": [
    "stack3.score(X_test_sc, y_test)"
   ]
  },
  {
   "cell_type": "code",
   "execution_count": 16,
   "id": "d6cd3aea-4495-4035-bdeb-4ee69b8aae72",
   "metadata": {},
   "outputs": [],
   "source": [
    "jantest = pd.read_csv('../data/monthly_test_data/result_1k/1_2019.csv')\n",
    "jantest = jantest.reindex(columns=['lat','lon', 'NO2_2019','AOD_2019','temp_2019','precip_2019'])\n",
    "jantest.rename(columns={\"lat\": \"Latitude\", \"lon\": \"Longitude\", 'NO2_2019':'no2', 'AOD_2019':'aod','temp_2019':'temp','precip_2019':'precip'}, inplace = True)\n",
    "jantest.dropna(inplace = True)\n",
    "jan_x = ss.transform(jantest)\n",
    "jan_preds = rf.predict(jan_x)\n",
    "jantest['PM25'] = jan_preds"
   ]
  },
  {
   "cell_type": "code",
   "execution_count": 17,
   "id": "e2c64670-bcfe-46c2-a474-1b4265100cd8",
   "metadata": {},
   "outputs": [
    {
     "data": {
      "text/html": [
       "<div>\n",
       "<style scoped>\n",
       "    .dataframe tbody tr th:only-of-type {\n",
       "        vertical-align: middle;\n",
       "    }\n",
       "\n",
       "    .dataframe tbody tr th {\n",
       "        vertical-align: top;\n",
       "    }\n",
       "\n",
       "    .dataframe thead th {\n",
       "        text-align: right;\n",
       "    }\n",
       "</style>\n",
       "<table border=\"1\" class=\"dataframe\">\n",
       "  <thead>\n",
       "    <tr style=\"text-align: right;\">\n",
       "      <th></th>\n",
       "      <th>Latitude</th>\n",
       "      <th>Longitude</th>\n",
       "      <th>no2</th>\n",
       "      <th>aod</th>\n",
       "      <th>temp</th>\n",
       "      <th>precip</th>\n",
       "      <th>PM25</th>\n",
       "    </tr>\n",
       "  </thead>\n",
       "  <tbody>\n",
       "    <tr>\n",
       "      <th>0</th>\n",
       "      <td>41.74735</td>\n",
       "      <td>-72.31644</td>\n",
       "      <td>2.310810e+15</td>\n",
       "      <td>0.017500</td>\n",
       "      <td>272.86000</td>\n",
       "      <td>6.950767</td>\n",
       "      <td>7.875484</td>\n",
       "    </tr>\n",
       "    <tr>\n",
       "      <th>1</th>\n",
       "      <td>39.95843</td>\n",
       "      <td>-102.90854</td>\n",
       "      <td>1.476430e+15</td>\n",
       "      <td>0.017333</td>\n",
       "      <td>282.62000</td>\n",
       "      <td>0.273165</td>\n",
       "      <td>9.362179</td>\n",
       "    </tr>\n",
       "    <tr>\n",
       "      <th>2</th>\n",
       "      <td>37.78384</td>\n",
       "      <td>-80.16877</td>\n",
       "      <td>1.335590e+15</td>\n",
       "      <td>0.030000</td>\n",
       "      <td>275.10000</td>\n",
       "      <td>3.002049</td>\n",
       "      <td>6.917518</td>\n",
       "    </tr>\n",
       "    <tr>\n",
       "      <th>3</th>\n",
       "      <td>32.59222</td>\n",
       "      <td>-100.61852</td>\n",
       "      <td>1.339840e+15</td>\n",
       "      <td>-0.003071</td>\n",
       "      <td>290.41998</td>\n",
       "      <td>0.471000</td>\n",
       "      <td>7.146468</td>\n",
       "    </tr>\n",
       "    <tr>\n",
       "      <th>4</th>\n",
       "      <td>35.34759</td>\n",
       "      <td>-120.25252</td>\n",
       "      <td>1.158480e+15</td>\n",
       "      <td>0.009571</td>\n",
       "      <td>287.46000</td>\n",
       "      <td>4.177359</td>\n",
       "      <td>6.267224</td>\n",
       "    </tr>\n",
       "  </tbody>\n",
       "</table>\n",
       "</div>"
      ],
      "text/plain": [
       "   Latitude  Longitude           no2       aod       temp    precip      PM25\n",
       "0  41.74735  -72.31644  2.310810e+15  0.017500  272.86000  6.950767  7.875484\n",
       "1  39.95843 -102.90854  1.476430e+15  0.017333  282.62000  0.273165  9.362179\n",
       "2  37.78384  -80.16877  1.335590e+15  0.030000  275.10000  3.002049  6.917518\n",
       "3  32.59222 -100.61852  1.339840e+15 -0.003071  290.41998  0.471000  7.146468\n",
       "4  35.34759 -120.25252  1.158480e+15  0.009571  287.46000  4.177359  6.267224"
      ]
     },
     "execution_count": 17,
     "metadata": {},
     "output_type": "execute_result"
    }
   ],
   "source": [
    "jantest.head()"
   ]
  },
  {
   "cell_type": "code",
   "execution_count": 18,
   "id": "a24fb9b4-1717-4e74-9cf6-e342823f96bc",
   "metadata": {},
   "outputs": [
    {
     "data": {
      "text/plain": [
       "<AxesSubplot:>"
      ]
     },
     "execution_count": 18,
     "metadata": {},
     "output_type": "execute_result"
    },
    {
     "data": {
      "image/png": "[encoded data removed]",
      "text/plain": [
       "<Figure size 432x288 with 1 Axes>"
      ]
     },
     "metadata": {
      "needs_background": "light"
     },
     "output_type": "display_data"
    }
   ],
   "source": [
    "jantest['PM25'].hist()"
   ]
  },
  {
   "cell_type": "code",
   "execution_count": 19,
   "id": "e92daf33-95ee-41a7-9f22-0c7701ee0f4e",
   "metadata": {},
   "outputs": [
    {
     "data": {
      "text/plain": [
       "<AxesSubplot:>"
      ]
     },
     "execution_count": 19,
     "metadata": {},
     "output_type": "execute_result"
    },
    {
     "data": {
      "image/png": "[encoded data removed]",
      "text/plain": [
       "<Figure size 432x288 with 1 Axes>"
      ]
     },
     "metadata": {
      "needs_background": "light"
     },
     "output_type": "display_data"
    }
   ],
   "source": [
    "febtest = pd.read_csv('../data/monthly_test_data/result_1k/2_2019.csv')\n",
    "febtest = febtest.reindex(columns=['lat','lon', 'NO2_2019','AOD_2019','temp_2019','precip_2019'])\n",
    "febtest.rename(columns={\"lat\": \"Latitude\", \"lon\": \"Longitude\", 'NO2_2019':'no2', 'AOD_2019':'aod','temp_2019':'temp','precip_2019':'precip'}, inplace = True)\n",
    "febtest.dropna(inplace = True)\n",
    "feb_x = ss.transform(febtest)\n",
    "feb_preds = rf.predict(feb_x)\n",
    "febtest['PM25'] = feb_preds\n",
    "febtest['PM25'].hist()"
   ]
  },
  {
   "cell_type": "code",
   "execution_count": 20,
   "id": "5ea378fc-90e6-46dd-8d20-40de9d28aea1",
   "metadata": {},
   "outputs": [
    {
     "data": {
      "text/plain": [
       "<AxesSubplot:>"
      ]
     },
     "execution_count": 20,
     "metadata": {},
     "output_type": "execute_result"
    },
    {
     "data": {
      "image/png": "[encoded data removed]",
      "text/plain": [
       "<Figure size 432x288 with 1 Axes>"
      ]
     },
     "metadata": {
      "needs_background": "light"
     },
     "output_type": "display_data"
    }
   ],
   "source": [
    "martest = pd.read_csv('../data/monthly_test_data/result_1k/3_2019.csv')\n",
    "martest = martest.reindex(columns=['lat','lon', 'NO2_2019','AOD_2019','temp_2019','precip_2019'])\n",
    "martest.rename(columns={\"lat\": \"Latitude\", \"lon\": \"Longitude\", 'NO2_2019':'no2', 'AOD_2019':'aod','temp_2019':'temp','precip_2019':'precip'}, inplace = True)\n",
    "martest.dropna(inplace = True)\n",
    "mar_x = ss.transform(martest)\n",
    "mar_preds = rf.predict(mar_x)\n",
    "martest['PM25'] = mar_preds\n",
    "martest['PM25'].hist()"
   ]
  },
  {
   "cell_type": "code",
   "execution_count": 21,
   "id": "f02ae774-ae70-4e40-b3b6-91ce7f601afe",
   "metadata": {},
   "outputs": [
    {
     "data": {
      "text/plain": [
       "<AxesSubplot:>"
      ]
     },
     "execution_count": 21,
     "metadata": {},
     "output_type": "execute_result"
    },
    {
     "data": {
      "image/png": "[encoded data removed]",
      "text/plain": [
       "<Figure size 432x288 with 1 Axes>"
      ]
     },
     "metadata": {
      "needs_background": "light"
     },
     "output_type": "display_data"
    }
   ],
   "source": [
    "aprtest = pd.read_csv('../data/monthly_test_data/result_1k/4_2019.csv')\n",
    "aprtest = aprtest.reindex(columns=['lat','lon', 'NO2_2019','AOD_2019','temp_2019','precip_2019'])\n",
    "aprtest.rename(columns={\"lat\": \"Latitude\", \"lon\": \"Longitude\", 'NO2_2019':'no2', 'AOD_2019':'aod','temp_2019':'temp','precip_2019':'precip'}, inplace = True)\n",
    "aprtest.dropna(inplace = True)\n",
    "apr_x = ss.transform(aprtest)\n",
    "apr_preds = rf.predict(apr_x)\n",
    "aprtest['PM25'] = apr_preds\n",
    "aprtest['PM25'].hist()"
   ]
  },
  {
   "cell_type": "code",
   "execution_count": 22,
   "id": "6cae483b-4174-454e-a8b7-b526044c337e",
   "metadata": {},
   "outputs": [
    {
     "data": {
      "text/plain": [
       "<AxesSubplot:>"
      ]
     },
     "execution_count": 22,
     "metadata": {},
     "output_type": "execute_result"
    },
    {
     "data": {
      "image/png": "[encoded data removed]",
      "text/plain": [
       "<Figure size 432x288 with 1 Axes>"
      ]
     },
     "metadata": {
      "needs_background": "light"
     },
     "output_type": "display_data"
    }
   ],
   "source": [
    "maytest = pd.read_csv('../data/monthly_test_data/result_1k/5_2019.csv')\n",
    "maytest = maytest.reindex(columns=['lat','lon', 'NO2_2019','AOD_2019','temp_2019','precip_2019'])\n",
    "maytest.rename(columns={\"lat\": \"Latitude\", \"lon\": \"Longitude\", 'NO2_2019':'no2', 'AOD_2019':'aod','temp_2019':'temp','precip_2019':'precip'}, inplace = True)\n",
    "maytest.dropna(inplace = True)\n",
    "may_x = ss.transform(maytest)\n",
    "may_preds = rf.predict(may_x)\n",
    "maytest['PM25'] = may_preds\n",
    "maytest['PM25'].hist()"
   ]
  },
  {
   "cell_type": "code",
   "execution_count": 23,
   "id": "abb961f0-2b25-4858-99db-b440c72a3cff",
   "metadata": {},
   "outputs": [
    {
     "data": {
      "text/plain": [
       "<AxesSubplot:>"
      ]
     },
     "execution_count": 23,
     "metadata": {},
     "output_type": "execute_result"
    },
    {
     "data": {
      "image/png": "[encoded data removed]",
      "text/plain": [
       "<Figure size 432x288 with 1 Axes>"
      ]
     },
     "metadata": {
      "needs_background": "light"
     },
     "output_type": "display_data"
    }
   ],
   "source": [
    "juntest = pd.read_csv('../data/monthly_test_data/result_1k/6_2019.csv')\n",
    "juntest = juntest.reindex(columns=['lat','lon', 'NO2_2019','AOD_2019','temp_2019','precip_2019'])\n",
    "juntest.rename(columns={\"lat\": \"Latitude\", \"lon\": \"Longitude\", 'NO2_2019':'no2', 'AOD_2019':'aod','temp_2019':'temp','precip_2019':'precip'}, inplace = True)\n",
    "juntest.dropna(inplace = True)\n",
    "jun_x = ss.transform(juntest)\n",
    "jun_preds = rf.predict(jun_x)\n",
    "juntest['PM25'] = jun_preds\n",
    "juntest['PM25'].hist()"
   ]
  },
  {
   "cell_type": "code",
   "execution_count": 24,
   "id": "74303cdf-3a68-447a-8ecd-29ead28127b9",
   "metadata": {},
   "outputs": [
    {
     "data": {
      "text/plain": [
       "<AxesSubplot:>"
      ]
     },
     "execution_count": 24,
     "metadata": {},
     "output_type": "execute_result"
    },
    {
     "data": {
      "image/png": "[encoded data removed]",
      "text/plain": [
       "<Figure size 432x288 with 1 Axes>"
      ]
     },
     "metadata": {
      "needs_background": "light"
     },
     "output_type": "display_data"
    }
   ],
   "source": [
    "jultest = pd.read_csv('../data/monthly_test_data/result_1k/7_2019.csv')\n",
    "jultest = jultest.reindex(columns=['lat','lon', 'NO2_2019','AOD_2019','temp_2019','precip_2019'])\n",
    "jultest.rename(columns={\"lat\": \"Latitude\", \"lon\": \"Longitude\", 'NO2_2019':'no2', 'AOD_2019':'aod','temp_2019':'temp','precip_2019':'precip'}, inplace = True)\n",
    "jultest.dropna(inplace = True)\n",
    "jul_x = ss.transform(jultest)\n",
    "jul_preds = rf.predict(jul_x)\n",
    "jultest['PM25'] = jul_preds\n",
    "jultest['PM25'].hist()"
   ]
  },
  {
   "cell_type": "code",
   "execution_count": 25,
   "id": "f1c4f5d5-026f-4625-8ccb-bcc3dc7c7c74",
   "metadata": {},
   "outputs": [
    {
     "data": {
      "text/plain": [
       "<AxesSubplot:>"
      ]
     },
     "execution_count": 25,
     "metadata": {},
     "output_type": "execute_result"
    },
    {
     "data": {
      "image/png": "[encoded data removed]",
      "text/plain": [
       "<Figure size 432x288 with 1 Axes>"
      ]
     },
     "metadata": {
      "needs_background": "light"
     },
     "output_type": "display_data"
    }
   ],
   "source": [
    "augtest = pd.read_csv('../data/monthly_test_data/result_1k/8_2019.csv')\n",
    "augtest = augtest.reindex(columns=['lat','lon', 'NO2_2019','AOD_2019','temp_2019','precip_2019'])\n",
    "augtest.rename(columns={\"lat\": \"Latitude\", \"lon\": \"Longitude\", 'NO2_2019':'no2', 'AOD_2019':'aod','temp_2019':'temp','precip_2019':'precip'}, inplace = True)\n",
    "augtest.dropna(inplace = True)\n",
    "aug_x = ss.transform(augtest)\n",
    "aug_preds = rf.predict(aug_x)\n",
    "augtest['PM25'] = aug_preds\n",
    "augtest['PM25'].hist()"
   ]
  },
  {
   "cell_type": "code",
   "execution_count": 26,
   "id": "728b09f1-d638-4657-bfa1-82e71eab69ce",
   "metadata": {},
   "outputs": [
    {
     "data": {
      "text/plain": [
       "<AxesSubplot:>"
      ]
     },
     "execution_count": 26,
     "metadata": {},
     "output_type": "execute_result"
    },
    {
     "data": {
      "image/png": "[encoded data removed]",
      "text/plain": [
       "<Figure size 432x288 with 1 Axes>"
      ]
     },
     "metadata": {
      "needs_background": "light"
     },
     "output_type": "display_data"
    }
   ],
   "source": [
    "septest = pd.read_csv('../data/monthly_test_data/result_1k/9_2019.csv')\n",
    "septest = septest.reindex(columns=['lat','lon', 'NO2_2019','AOD_2019','temp_2019','precip_2019'])\n",
    "septest.rename(columns={\"lat\": \"Latitude\", \"lon\": \"Longitude\", 'NO2_2019':'no2', 'AOD_2019':'aod','temp_2019':'temp','precip_2019':'precip'}, inplace = True)\n",
    "septest.dropna(inplace = True)\n",
    "sep_x = ss.transform(septest)\n",
    "sep_preds = rf.predict(sep_x)\n",
    "septest['PM25'] = sep_preds\n",
    "septest['PM25'].hist()"
   ]
  },
  {
   "cell_type": "code",
   "execution_count": 27,
   "id": "3b35475c-2985-4542-99a9-4500e874e576",
   "metadata": {},
   "outputs": [
    {
     "data": {
      "text/plain": [
       "<AxesSubplot:>"
      ]
     },
     "execution_count": 27,
     "metadata": {},
     "output_type": "execute_result"
    },
    {
     "data": {
      "image/png": "[encoded data removed]",
      "text/plain": [
       "<Figure size 432x288 with 1 Axes>"
      ]
     },
     "metadata": {
      "needs_background": "light"
     },
     "output_type": "display_data"
    }
   ],
   "source": [
    "octtest = pd.read_csv('../data/monthly_test_data/result_1k/10_2019.csv')\n",
    "octtest = octtest.reindex(columns=['lat','lon', 'NO2_2019','AOD_2019','temp_2019','precip_2019'])\n",
    "octtest.rename(columns={\"lat\": \"Latitude\", \"lon\": \"Longitude\", 'NO2_2019':'no2', 'AOD_2019':'aod','temp_2019':'temp','precip_2019':'precip'}, inplace = True)\n",
    "octtest.dropna(inplace = True)\n",
    "oct_x = ss.transform(octtest)\n",
    "oct_preds = rf.predict(oct_x)\n",
    "octtest['PM25'] = oct_preds\n",
    "octtest['PM25'].hist()"
   ]
  },
  {
   "cell_type": "code",
   "execution_count": 28,
   "id": "8a984d98-6479-4275-896a-ded3b4ee580c",
   "metadata": {},
   "outputs": [
    {
     "data": {
      "text/plain": [
       "<AxesSubplot:>"
      ]
     },
     "execution_count": 28,
     "metadata": {},
     "output_type": "execute_result"
    },
    {
     "data": {
      "image/png": "[encoded data removed]",
      "text/plain": [
       "<Figure size 432x288 with 1 Axes>"
      ]
     },
     "metadata": {
      "needs_background": "light"
     },
     "output_type": "display_data"
    }
   ],
   "source": [
    "novtest = pd.read_csv('../data/monthly_test_data/result_1k/11_2019.csv')\n",
    "novtest = novtest.reindex(columns=['lat','lon', 'NO2_2019','AOD_2019','temp_2019','precip_2019'])\n",
    "novtest.rename(columns={\"lat\": \"Latitude\", \"lon\": \"Longitude\", 'NO2_2019':'no2', 'AOD_2019':'aod','temp_2019':'temp','precip_2019':'precip'}, inplace = True)\n",
    "novtest.dropna(inplace = True)\n",
    "nov_x = ss.transform(novtest)\n",
    "nov_preds = rf.predict(nov_x)\n",
    "novtest['PM25'] = nov_preds\n",
    "novtest['PM25'].hist()"
   ]
  },
  {
   "cell_type": "code",
   "execution_count": 29,
   "id": "7aba7217-564f-4ea9-b15b-69e7041136b9",
   "metadata": {},
   "outputs": [
    {
     "data": {
      "text/plain": [
       "<AxesSubplot:>"
      ]
     },
     "execution_count": 29,
     "metadata": {},
     "output_type": "execute_result"
    },
    {
     "data": {
      "image/png": "[encoded data removed]",
      "text/plain": [
       "<Figure size 432x288 with 1 Axes>"
      ]
     },
     "metadata": {
      "needs_background": "light"
     },
     "output_type": "display_data"
    }
   ],
   "source": [
    "dectest = pd.read_csv('../data/monthly_test_data/result_1k/12_2019.csv')\n",
    "dectest = dectest.reindex(columns=['lat','lon', 'NO2_2019','AOD_2019','temp_2019','precip_2019'])\n",
    "dectest.rename(columns={\"lat\": \"Latitude\", \"lon\": \"Longitude\", 'NO2_2019':'no2', 'AOD_2019':'aod','temp_2019':'temp','precip_2019':'precip'}, inplace = True)\n",
    "dectest.dropna(inplace = True)\n",
    "dec_x = ss.transform(dectest)\n",
    "dec_preds = rf.predict(dec_x)\n",
    "dectest['PM25'] = dec_preds\n",
    "dectest['PM25'].hist()"
   ]
  },
  {
   "cell_type": "code",
   "execution_count": 30,
   "id": "c688947c-698e-448f-b949-2eff3c446206",
   "metadata": {},
   "outputs": [],
   "source": [
    "jantest = jantest[['Latitude', 'Longitude', 'PM25']]\n",
    "febtest = febtest[['Latitude', 'Longitude', 'PM25']]\n",
    "martest = martest[['Latitude', 'Longitude', 'PM25']]\n",
    "aprtest = aprtest[['Latitude', 'Longitude', 'PM25']]\n",
    "maytest = maytest[['Latitude', 'Longitude', 'PM25']]\n",
    "juntest = juntest[['Latitude', 'Longitude', 'PM25']]\n",
    "jultest = jultest[['Latitude', 'Longitude', 'PM25']]\n",
    "augtest = augtest[['Latitude', 'Longitude', 'PM25']]\n",
    "septest = septest[['Latitude', 'Longitude', 'PM25']]\n",
    "octtest = octtest[['Latitude', 'Longitude', 'PM25']]\n",
    "novtest = novtest[['Latitude', 'Longitude', 'PM25']]\n",
    "dectest = dectest[['Latitude', 'Longitude', 'PM25']]"
   ]
  },
  {
   "cell_type": "code",
   "execution_count": 31,
   "id": "32344ae6-721f-4157-9032-bf933df2c15d",
   "metadata": {},
   "outputs": [],
   "source": [
    "df_list = [jantest, febtest, martest, aprtest, maytest, juntest, jultest, augtest,\n",
    "           septest, octtest, novtest, dectest]"
   ]
  },
  {
   "cell_type": "code",
   "execution_count": 32,
   "id": "f0e75d17-e855-4fd3-a39c-be62a54263af",
   "metadata": {},
   "outputs": [],
   "source": [
    "final_df = reduce(lambda  left,right: pd.merge(left,right,on=['Latitude', 'Longitude'], how='left'), df_list)"
   ]
  },
  {
   "cell_type": "code",
   "execution_count": 33,
   "id": "da467b17-3c3b-4fe7-8f4d-c487e5c4e53f",
   "metadata": {},
   "outputs": [
    {
     "data": {
      "text/html": [
       "<div>\n",
       "<style scoped>\n",
       "    .dataframe tbody tr th:only-of-type {\n",
       "        vertical-align: middle;\n",
       "    }\n",
       "\n",
       "    .dataframe tbody tr th {\n",
       "        vertical-align: top;\n",
       "    }\n",
       "\n",
       "    .dataframe thead th {\n",
       "        text-align: right;\n",
       "    }\n",
       "</style>\n",
       "<table border=\"1\" class=\"dataframe\">\n",
       "  <thead>\n",
       "    <tr style=\"text-align: right;\">\n",
       "      <th></th>\n",
       "      <th>Latitude</th>\n",
       "      <th>Longitude</th>\n",
       "      <th>PM25_x</th>\n",
       "      <th>PM25_y</th>\n",
       "      <th>PM25_x</th>\n",
       "      <th>PM25_y</th>\n",
       "      <th>PM25_x</th>\n",
       "      <th>PM25_y</th>\n",
       "      <th>PM25_x</th>\n",
       "      <th>PM25_y</th>\n",
       "      <th>PM25_x</th>\n",
       "      <th>PM25_y</th>\n",
       "      <th>PM25_x</th>\n",
       "      <th>PM25_y</th>\n",
       "    </tr>\n",
       "  </thead>\n",
       "  <tbody>\n",
       "    <tr>\n",
       "      <th>0</th>\n",
       "      <td>41.74735</td>\n",
       "      <td>-72.31644</td>\n",
       "      <td>7.875484</td>\n",
       "      <td>6.776958</td>\n",
       "      <td>6.426692</td>\n",
       "      <td>5.838279</td>\n",
       "      <td>6.834080</td>\n",
       "      <td>5.584230</td>\n",
       "      <td>5.835429</td>\n",
       "      <td>5.369793</td>\n",
       "      <td>6.595135</td>\n",
       "      <td>7.893117</td>\n",
       "      <td>7.625866</td>\n",
       "      <td>6.461129</td>\n",
       "    </tr>\n",
       "    <tr>\n",
       "      <th>1</th>\n",
       "      <td>39.95843</td>\n",
       "      <td>-102.90854</td>\n",
       "      <td>9.362179</td>\n",
       "      <td>9.283008</td>\n",
       "      <td>9.778341</td>\n",
       "      <td>7.060599</td>\n",
       "      <td>7.731196</td>\n",
       "      <td>8.095561</td>\n",
       "      <td>8.095561</td>\n",
       "      <td>7.910631</td>\n",
       "      <td>7.151650</td>\n",
       "      <td>7.003416</td>\n",
       "      <td>9.592648</td>\n",
       "      <td>9.253324</td>\n",
       "    </tr>\n",
       "    <tr>\n",
       "      <th>2</th>\n",
       "      <td>37.78384</td>\n",
       "      <td>-80.16877</td>\n",
       "      <td>6.917518</td>\n",
       "      <td>7.249476</td>\n",
       "      <td>6.939534</td>\n",
       "      <td>6.713797</td>\n",
       "      <td>6.415669</td>\n",
       "      <td>7.688192</td>\n",
       "      <td>6.818815</td>\n",
       "      <td>7.055255</td>\n",
       "      <td>7.271621</td>\n",
       "      <td>7.244967</td>\n",
       "      <td>6.851304</td>\n",
       "      <td>6.706850</td>\n",
       "    </tr>\n",
       "    <tr>\n",
       "      <th>3</th>\n",
       "      <td>32.59222</td>\n",
       "      <td>-100.61852</td>\n",
       "      <td>7.146468</td>\n",
       "      <td>7.856849</td>\n",
       "      <td>7.750433</td>\n",
       "      <td>9.426934</td>\n",
       "      <td>9.680642</td>\n",
       "      <td>9.597088</td>\n",
       "      <td>9.768031</td>\n",
       "      <td>9.768031</td>\n",
       "      <td>9.207964</td>\n",
       "      <td>9.857884</td>\n",
       "      <td>7.419365</td>\n",
       "      <td>7.039243</td>\n",
       "    </tr>\n",
       "    <tr>\n",
       "      <th>4</th>\n",
       "      <td>35.34759</td>\n",
       "      <td>-120.25252</td>\n",
       "      <td>6.267224</td>\n",
       "      <td>6.636152</td>\n",
       "      <td>3.276971</td>\n",
       "      <td>4.235493</td>\n",
       "      <td>5.767051</td>\n",
       "      <td>6.101290</td>\n",
       "      <td>5.903553</td>\n",
       "      <td>6.012493</td>\n",
       "      <td>5.995092</td>\n",
       "      <td>5.580177</td>\n",
       "      <td>4.300518</td>\n",
       "      <td>6.249472</td>\n",
       "    </tr>\n",
       "  </tbody>\n",
       "</table>\n",
       "</div>"
      ],
      "text/plain": [
       "   Latitude  Longitude    PM25_x    PM25_y    PM25_x    PM25_y    PM25_x  \\\n",
       "0  41.74735  -72.31644  7.875484  6.776958  6.426692  5.838279  6.834080   \n",
       "1  39.95843 -102.90854  9.362179  9.283008  9.778341  7.060599  7.731196   \n",
       "2  37.78384  -80.16877  6.917518  7.249476  6.939534  6.713797  6.415669   \n",
       "3  32.59222 -100.61852  7.146468  7.856849  7.750433  9.426934  9.680642   \n",
       "4  35.34759 -120.25252  6.267224  6.636152  3.276971  4.235493  5.767051   \n",
       "\n",
       "     PM25_y    PM25_x    PM25_y    PM25_x    PM25_y    PM25_x    PM25_y  \n",
       "0  5.584230  5.835429  5.369793  6.595135  7.893117  7.625866  6.461129  \n",
       "1  8.095561  8.095561  7.910631  7.151650  7.003416  9.592648  9.253324  \n",
       "2  7.688192  6.818815  7.055255  7.271621  7.244967  6.851304  6.706850  \n",
       "3  9.597088  9.768031  9.768031  9.207964  9.857884  7.419365  7.039243  \n",
       "4  6.101290  5.903553  6.012493  5.995092  5.580177  4.300518  6.249472  "
      ]
     },
     "execution_count": 33,
     "metadata": {},
     "output_type": "execute_result"
    }
   ],
   "source": [
    "final_df.head()"
   ]
  },
  {
   "cell_type": "code",
   "execution_count": 34,
   "id": "2b5f4d72-273a-428f-977c-099d48497018",
   "metadata": {},
   "outputs": [],
   "source": [
    "final_df.columns = ['lat', 'lon', 'PM25_1', 'PM25_2', 'PM25_3', 'PM25_4', 'PM25_5', 'PM25_6', \n",
    "                   'PM25_7', 'PM25_8', 'PM25_9', 'PM25_10_', 'PM25_11', 'PM25_12']"
   ]
  },
  {
   "cell_type": "code",
   "execution_count": 35,
   "id": "56d82913-d5f0-4a82-8605-6f3bcc666a90",
   "metadata": {},
   "outputs": [
    {
     "data": {
      "text/html": [
       "<div>\n",
       "<style scoped>\n",
       "    .dataframe tbody tr th:only-of-type {\n",
       "        vertical-align: middle;\n",
       "    }\n",
       "\n",
       "    .dataframe tbody tr th {\n",
       "        vertical-align: top;\n",
       "    }\n",
       "\n",
       "    .dataframe thead th {\n",
       "        text-align: right;\n",
       "    }\n",
       "</style>\n",
       "<table border=\"1\" class=\"dataframe\">\n",
       "  <thead>\n",
       "    <tr style=\"text-align: right;\">\n",
       "      <th></th>\n",
       "      <th>lat</th>\n",
       "      <th>lon</th>\n",
       "      <th>PM25_1</th>\n",
       "      <th>PM25_2</th>\n",
       "      <th>PM25_3</th>\n",
       "      <th>PM25_4</th>\n",
       "      <th>PM25_5</th>\n",
       "      <th>PM25_6</th>\n",
       "      <th>PM25_7</th>\n",
       "      <th>PM25_8</th>\n",
       "      <th>PM25_9</th>\n",
       "      <th>PM25_10_</th>\n",
       "      <th>PM25_11</th>\n",
       "      <th>PM25_12</th>\n",
       "    </tr>\n",
       "  </thead>\n",
       "  <tbody>\n",
       "    <tr>\n",
       "      <th>0</th>\n",
       "      <td>41.74735</td>\n",
       "      <td>-72.31644</td>\n",
       "      <td>7.875484</td>\n",
       "      <td>6.776958</td>\n",
       "      <td>6.426692</td>\n",
       "      <td>5.838279</td>\n",
       "      <td>6.834080</td>\n",
       "      <td>5.584230</td>\n",
       "      <td>5.835429</td>\n",
       "      <td>5.369793</td>\n",
       "      <td>6.595135</td>\n",
       "      <td>7.893117</td>\n",
       "      <td>7.625866</td>\n",
       "      <td>6.461129</td>\n",
       "    </tr>\n",
       "    <tr>\n",
       "      <th>1</th>\n",
       "      <td>39.95843</td>\n",
       "      <td>-102.90854</td>\n",
       "      <td>9.362179</td>\n",
       "      <td>9.283008</td>\n",
       "      <td>9.778341</td>\n",
       "      <td>7.060599</td>\n",
       "      <td>7.731196</td>\n",
       "      <td>8.095561</td>\n",
       "      <td>8.095561</td>\n",
       "      <td>7.910631</td>\n",
       "      <td>7.151650</td>\n",
       "      <td>7.003416</td>\n",
       "      <td>9.592648</td>\n",
       "      <td>9.253324</td>\n",
       "    </tr>\n",
       "    <tr>\n",
       "      <th>2</th>\n",
       "      <td>37.78384</td>\n",
       "      <td>-80.16877</td>\n",
       "      <td>6.917518</td>\n",
       "      <td>7.249476</td>\n",
       "      <td>6.939534</td>\n",
       "      <td>6.713797</td>\n",
       "      <td>6.415669</td>\n",
       "      <td>7.688192</td>\n",
       "      <td>6.818815</td>\n",
       "      <td>7.055255</td>\n",
       "      <td>7.271621</td>\n",
       "      <td>7.244967</td>\n",
       "      <td>6.851304</td>\n",
       "      <td>6.706850</td>\n",
       "    </tr>\n",
       "    <tr>\n",
       "      <th>3</th>\n",
       "      <td>32.59222</td>\n",
       "      <td>-100.61852</td>\n",
       "      <td>7.146468</td>\n",
       "      <td>7.856849</td>\n",
       "      <td>7.750433</td>\n",
       "      <td>9.426934</td>\n",
       "      <td>9.680642</td>\n",
       "      <td>9.597088</td>\n",
       "      <td>9.768031</td>\n",
       "      <td>9.768031</td>\n",
       "      <td>9.207964</td>\n",
       "      <td>9.857884</td>\n",
       "      <td>7.419365</td>\n",
       "      <td>7.039243</td>\n",
       "    </tr>\n",
       "    <tr>\n",
       "      <th>4</th>\n",
       "      <td>35.34759</td>\n",
       "      <td>-120.25252</td>\n",
       "      <td>6.267224</td>\n",
       "      <td>6.636152</td>\n",
       "      <td>3.276971</td>\n",
       "      <td>4.235493</td>\n",
       "      <td>5.767051</td>\n",
       "      <td>6.101290</td>\n",
       "      <td>5.903553</td>\n",
       "      <td>6.012493</td>\n",
       "      <td>5.995092</td>\n",
       "      <td>5.580177</td>\n",
       "      <td>4.300518</td>\n",
       "      <td>6.249472</td>\n",
       "    </tr>\n",
       "  </tbody>\n",
       "</table>\n",
       "</div>"
      ],
      "text/plain": [
       "        lat        lon    PM25_1    PM25_2    PM25_3    PM25_4    PM25_5  \\\n",
       "0  41.74735  -72.31644  7.875484  6.776958  6.426692  5.838279  6.834080   \n",
       "1  39.95843 -102.90854  9.362179  9.283008  9.778341  7.060599  7.731196   \n",
       "2  37.78384  -80.16877  6.917518  7.249476  6.939534  6.713797  6.415669   \n",
       "3  32.59222 -100.61852  7.146468  7.856849  7.750433  9.426934  9.680642   \n",
       "4  35.34759 -120.25252  6.267224  6.636152  3.276971  4.235493  5.767051   \n",
       "\n",
       "     PM25_6    PM25_7    PM25_8    PM25_9  PM25_10_   PM25_11   PM25_12  \n",
       "0  5.584230  5.835429  5.369793  6.595135  7.893117  7.625866  6.461129  \n",
       "1  8.095561  8.095561  7.910631  7.151650  7.003416  9.592648  9.253324  \n",
       "2  7.688192  6.818815  7.055255  7.271621  7.244967  6.851304  6.706850  \n",
       "3  9.597088  9.768031  9.768031  9.207964  9.857884  7.419365  7.039243  \n",
       "4  6.101290  5.903553  6.012493  5.995092  5.580177  4.300518  6.249472  "
      ]
     },
     "execution_count": 35,
     "metadata": {},
     "output_type": "execute_result"
    }
   ],
   "source": [
    "final_df.head()"
   ]
  },
  {
   "cell_type": "code",
   "execution_count": 36,
   "id": "f62e6a73-69bc-47e8-837b-3c2fe64a614f",
   "metadata": {},
   "outputs": [],
   "source": [
    "final_df.dropna(inplace = True)"
   ]
  },
  {
   "cell_type": "code",
   "execution_count": 38,
   "id": "3456fcb8-b436-4821-847a-ffcb0ade6d8b",
   "metadata": {},
   "outputs": [],
   "source": [
    "final_df.to_csv('../data/monthly_test_data/final_PM25.csv', index = False)"
   ]
  },
  {
   "cell_type": "code",
   "execution_count": null,
   "id": "fc53618a-b466-4530-8406-be6d658a1987",
   "metadata": {},
   "outputs": [],
   "source": []
  }
 ],
 "metadata": {
  "kernelspec": {
   "display_name": "Python 3 (ipykernel)",
   "language": "python",
   "name": "python3"
  },
  "language_info": {
   "codemirror_mode": {
    "name": "ipython",
    "version": 3
   },
   "file_extension": ".py",
   "mimetype": "text/x-python",
   "name": "python",
   "nbconvert_exporter": "python",
   "pygments_lexer": "ipython3",
   "version": "3.9.12"
  }
 },
 "nbformat": 4,
 "nbformat_minor": 5
}
