{
 "cells": [
  {
   "cell_type": "markdown",
   "id": "2dfe0ef3-c262-4cf7-b8f0-0989fa582333",
   "metadata": {},
   "source": [
    "# Imports"
   ]
  },
  {
   "cell_type": "code",
   "execution_count": 1,
   "id": "a9ef05a3-76fd-4f52-b791-778f5dc5854f",
   "metadata": {},
   "outputs": [],
   "source": [
    "import pandas as pd\n",
    "import numpy as np\n",
    "import seaborn as sns\n",
    "import matplotlib.pyplot as plt\n",
    "%matplotlib inline\n",
    "\n",
    "from sklearn.pipeline import Pipeline\n",
    "\n",
    "from sklearn.model_selection import train_test_split\n",
    "from sklearn.preprocessing import PolynomialFeatures, StandardScaler\n",
    "\n",
    "from sklearn.linear_model import LinearRegression\n",
    "from sklearn import metrics\n",
    "from sklearn.model_selection import GridSearchCV\n",
    "from sklearn.linear_model import Ridge, Lasso, ElasticNet\n",
    "from sklearn.naive_bayes import MultinomialNB\n",
    "from sklearn.ensemble import GradientBoostingRegressor, AdaBoostRegressor, VotingRegressor\n",
    "from sklearn.tree import DecisionTreeRegressor\n",
    "from sklearn.ensemble import AdaBoostRegressor, RandomForestRegressor\n",
    "\n",
    "from tensorflow.keras.models import Sequential\n",
    "from tensorflow.keras.layers import Dense, Dropout, BatchNormalization\n",
    "from tensorflow.keras.callbacks import EarlyStopping\n",
    "from tensorflow.keras.regularizers import l1, l2, l1_l2"
   ]
  },
  {
   "cell_type": "code",
   "execution_count": 2,
   "id": "630e63f5-cce3-416d-9cae-71ee126a38ca",
   "metadata": {},
   "outputs": [],
   "source": [
    "df = pd.read_csv('../data/epa_final.csv')"
   ]
  },
  {
   "cell_type": "code",
   "execution_count": 3,
   "id": "22a8dc94-23bf-47e3-b66e-9b83ab017af3",
   "metadata": {},
   "outputs": [],
   "source": [
    "df = df[df['PM2.5 Monthly Mean'] > 0]"
   ]
  },
  {
   "cell_type": "code",
   "execution_count": 4,
   "id": "35e8ed85-2f89-40fb-b69c-e9f39752b716",
   "metadata": {},
   "outputs": [
    {
     "data": {
      "text/html": [
       "<div>\n",
       "<style scoped>\n",
       "    .dataframe tbody tr th:only-of-type {\n",
       "        vertical-align: middle;\n",
       "    }\n",
       "\n",
       "    .dataframe tbody tr th {\n",
       "        vertical-align: top;\n",
       "    }\n",
       "\n",
       "    .dataframe thead th {\n",
       "        text-align: right;\n",
       "    }\n",
       "</style>\n",
       "<table border=\"1\" class=\"dataframe\">\n",
       "  <thead>\n",
       "    <tr style=\"text-align: right;\">\n",
       "      <th></th>\n",
       "      <th>Date Local</th>\n",
       "      <th>Latitude</th>\n",
       "      <th>Longitude</th>\n",
       "      <th>PM2.5 Monthly Mean</th>\n",
       "      <th>lat_2dec</th>\n",
       "      <th>lon_2dec</th>\n",
       "      <th>no2</th>\n",
       "      <th>aod</th>\n",
       "      <th>temp</th>\n",
       "      <th>precip</th>\n",
       "    </tr>\n",
       "  </thead>\n",
       "  <tbody>\n",
       "    <tr>\n",
       "      <th>0</th>\n",
       "      <td>2019-01-31</td>\n",
       "      <td>30.497478</td>\n",
       "      <td>-87.880258</td>\n",
       "      <td>6.825000</td>\n",
       "      <td>30.5</td>\n",
       "      <td>-87.88</td>\n",
       "      <td>1.541665e+15</td>\n",
       "      <td>0.052667</td>\n",
       "      <td>290.88</td>\n",
       "      <td>3.993249</td>\n",
       "    </tr>\n",
       "    <tr>\n",
       "      <th>1</th>\n",
       "      <td>2019-01-31</td>\n",
       "      <td>38.013333</td>\n",
       "      <td>-87.577222</td>\n",
       "      <td>9.860000</td>\n",
       "      <td>30.5</td>\n",
       "      <td>-87.88</td>\n",
       "      <td>1.120693e+15</td>\n",
       "      <td>0.035250</td>\n",
       "      <td>290.56</td>\n",
       "      <td>4.091899</td>\n",
       "    </tr>\n",
       "    <tr>\n",
       "      <th>2</th>\n",
       "      <td>2019-01-31</td>\n",
       "      <td>41.874999</td>\n",
       "      <td>-90.177574</td>\n",
       "      <td>10.290000</td>\n",
       "      <td>30.5</td>\n",
       "      <td>-87.88</td>\n",
       "      <td>1.374970e+15</td>\n",
       "      <td>0.201500</td>\n",
       "      <td>288.74</td>\n",
       "      <td>4.167067</td>\n",
       "    </tr>\n",
       "    <tr>\n",
       "      <th>3</th>\n",
       "      <td>2019-01-31</td>\n",
       "      <td>38.013333</td>\n",
       "      <td>-87.577222</td>\n",
       "      <td>7.222581</td>\n",
       "      <td>30.5</td>\n",
       "      <td>-87.88</td>\n",
       "      <td>1.120693e+15</td>\n",
       "      <td>0.035250</td>\n",
       "      <td>290.56</td>\n",
       "      <td>4.091899</td>\n",
       "    </tr>\n",
       "    <tr>\n",
       "      <th>4</th>\n",
       "      <td>2019-01-31</td>\n",
       "      <td>41.164400</td>\n",
       "      <td>-81.235200</td>\n",
       "      <td>8.762500</td>\n",
       "      <td>30.5</td>\n",
       "      <td>-87.88</td>\n",
       "      <td>1.421505e+15</td>\n",
       "      <td>0.035250</td>\n",
       "      <td>290.56</td>\n",
       "      <td>4.091899</td>\n",
       "    </tr>\n",
       "  </tbody>\n",
       "</table>\n",
       "</div>"
      ],
      "text/plain": [
       "   Date Local   Latitude  Longitude  PM2.5 Monthly Mean  lat_2dec  lon_2dec  \\\n",
       "0  2019-01-31  30.497478 -87.880258            6.825000      30.5    -87.88   \n",
       "1  2019-01-31  38.013333 -87.577222            9.860000      30.5    -87.88   \n",
       "2  2019-01-31  41.874999 -90.177574           10.290000      30.5    -87.88   \n",
       "3  2019-01-31  38.013333 -87.577222            7.222581      30.5    -87.88   \n",
       "4  2019-01-31  41.164400 -81.235200            8.762500      30.5    -87.88   \n",
       "\n",
       "            no2       aod    temp    precip  \n",
       "0  1.541665e+15  0.052667  290.88  3.993249  \n",
       "1  1.120693e+15  0.035250  290.56  4.091899  \n",
       "2  1.374970e+15  0.201500  288.74  4.167067  \n",
       "3  1.120693e+15  0.035250  290.56  4.091899  \n",
       "4  1.421505e+15  0.035250  290.56  4.091899  "
      ]
     },
     "execution_count": 4,
     "metadata": {},
     "output_type": "execute_result"
    }
   ],
   "source": [
    "df.head()"
   ]
  },
  {
   "cell_type": "code",
   "execution_count": 5,
   "id": "3f454deb-442d-45ae-8013-7672d1f45cf1",
   "metadata": {},
   "outputs": [
    {
     "data": {
      "text/plain": [
       "(13828, 10)"
      ]
     },
     "execution_count": 5,
     "metadata": {},
     "output_type": "execute_result"
    }
   ],
   "source": [
    "df.shape"
   ]
  },
  {
   "cell_type": "code",
   "execution_count": 6,
   "id": "77330164-8f3f-43b7-a72c-96d0bb3d7c9a",
   "metadata": {},
   "outputs": [
    {
     "data": {
      "text/plain": [
       "Date Local            0\n",
       "Latitude              0\n",
       "Longitude             0\n",
       "PM2.5 Monthly Mean    0\n",
       "lat_2dec              0\n",
       "lon_2dec              0\n",
       "no2                   0\n",
       "aod                   0\n",
       "temp                  0\n",
       "precip                0\n",
       "dtype: int64"
      ]
     },
     "execution_count": 6,
     "metadata": {},
     "output_type": "execute_result"
    }
   ],
   "source": [
    "df.isnull().sum()"
   ]
  },
  {
   "cell_type": "markdown",
   "id": "13ba8555-d469-4792-8871-8316f9b24834",
   "metadata": {},
   "source": [
    "# X, y, train_test_split"
   ]
  },
  {
   "cell_type": "code",
   "execution_count": 7,
   "id": "d0d8c288-3403-43ad-a4bf-d566464c477b",
   "metadata": {},
   "outputs": [],
   "source": [
    "X = df.drop(columns = ['Date Local', 'PM2.5 Monthly Mean', 'lat_2dec', 'lon_2dec'])\n",
    "y = df['PM2.5 Monthly Mean']\n",
    "\n",
    "X_train, X_test, y_train, y_test = train_test_split(X, y, random_state = 42)"
   ]
  },
  {
   "cell_type": "code",
   "execution_count": 8,
   "id": "ae6393da-69d1-486d-af5c-111a4ac11ae1",
   "metadata": {},
   "outputs": [
    {
     "data": {
      "text/plain": [
       "7.442811142453138"
      ]
     },
     "execution_count": 8,
     "metadata": {},
     "output_type": "execute_result"
    }
   ],
   "source": [
    "y.mean()"
   ]
  },
  {
   "cell_type": "markdown",
   "id": "d6250ba2-98f3-43f8-b725-f6c27da6799b",
   "metadata": {},
   "source": [
    "## StandardScaler X_train and X_test for testing"
   ]
  },
  {
   "cell_type": "code",
   "execution_count": 9,
   "id": "4294fd86-43c6-426c-92e0-c87e235ec6cb",
   "metadata": {},
   "outputs": [],
   "source": [
    "ss = StandardScaler()\n",
    "X_train_sc = ss.fit_transform(X_train)\n",
    "X_test_sc = ss.transform(X_test)"
   ]
  },
  {
   "cell_type": "markdown",
   "id": "d33b39c9-383b-45d1-936d-aee85c558566",
   "metadata": {},
   "source": [
    "## Polynomial X_train and X_test for testing"
   ]
  },
  {
   "cell_type": "code",
   "execution_count": 10,
   "id": "c085c194-5f32-4067-a15c-afaa9fc4ad9f",
   "metadata": {},
   "outputs": [],
   "source": [
    "poly = PolynomialFeatures()\n",
    "X_train_sc_p = poly.fit_transform(X_train_sc)\n",
    "X_test_sc_p = poly.fit_transform(X_test_sc)"
   ]
  },
  {
   "cell_type": "markdown",
   "id": "8f8c95d9-ebd1-4dd4-b63a-0ba21c7f72c2",
   "metadata": {},
   "source": [
    "# Linear Regression"
   ]
  },
  {
   "cell_type": "code",
   "execution_count": 11,
   "id": "9570de43-6ad4-4d53-aae9-040fbea3f5af",
   "metadata": {},
   "outputs": [
    {
     "name": "stdout",
     "output_type": "stream",
     "text": [
      "Linear Regression Train Score: 0.07680778549291478\n",
      "Linear Regression Test Score: 0.0821680892657426\n"
     ]
    }
   ],
   "source": [
    "lr = LinearRegression()\n",
    "lr.fit(X_train_sc, y_train)\n",
    "print(f'Linear Regression Train Score: {lr.score(X_train_sc, y_train)}')\n",
    "print(f'Linear Regression Test Score: {lr.score(X_test_sc, y_test)}')"
   ]
  },
  {
   "cell_type": "code",
   "execution_count": 12,
   "id": "ee270348-07ac-42dd-b53e-7b3c3569160e",
   "metadata": {},
   "outputs": [
    {
     "name": "stdout",
     "output_type": "stream",
     "text": [
      "LR Pipe Train Score: 0.2034940109003135\n",
      "LR Pipe Test Score: 0.19706446999268568\n"
     ]
    }
   ],
   "source": [
    "lr_pipe = Pipeline([\n",
    "    ('ss', StandardScaler()),\n",
    "    ('poly', PolynomialFeatures()),\n",
    "    ('lr', LinearRegression())\n",
    "])\n",
    "\n",
    "lr_pipe.fit(X_train, y_train)\n",
    "print(f'LR Pipe Train Score: {lr_pipe.score(X_train, y_train)}')\n",
    "print(f'LR Pipe Test Score: {lr_pipe.score(X_test, y_test)}')"
   ]
  },
  {
   "cell_type": "markdown",
   "id": "9ba68410-5eb7-4a31-a762-b705282d89e2",
   "metadata": {},
   "source": [
    "## AdaBoost with Linear Regression"
   ]
  },
  {
   "cell_type": "code",
   "execution_count": 13,
   "id": "88496546-8d02-48d1-9a07-8e9aac4900ef",
   "metadata": {},
   "outputs": [
    {
     "name": "stdout",
     "output_type": "stream",
     "text": [
      "Ada LR Train Score: 0.0626114218651278\n",
      "Ada LR Test Score: 0.07399082698682935\n"
     ]
    }
   ],
   "source": [
    "ada_lr = AdaBoostRegressor(base_estimator = LinearRegression(), random_state = 42)\n",
    "\n",
    "ada_lr.fit(X_train_sc, y_train)\n",
    "print(f'Ada LR Train Score: {ada_lr.score(X_train_sc, y_train)}')\n",
    "print(f'Ada LR Test Score: {ada_lr.score(X_test_sc, y_test)}')"
   ]
  },
  {
   "cell_type": "markdown",
   "id": "f0ba5c72-d2a6-419b-a433-f987c4b19662",
   "metadata": {},
   "source": [
    "# Trees Models"
   ]
  },
  {
   "cell_type": "markdown",
   "id": "17696364-3a8d-40dc-bb01-a425d7fa5bc4",
   "metadata": {},
   "source": [
    "## Decision Tree on Scaled Features"
   ]
  },
  {
   "cell_type": "code",
   "execution_count": 14,
   "id": "2a916c98-05b0-4221-bcf5-7e451930f1d4",
   "metadata": {},
   "outputs": [
    {
     "name": "stdout",
     "output_type": "stream",
     "text": [
      "DT Scaled Train Score: 0.9650650500696505\n",
      "DT Scaled Test Score: 0.5303267533754986\n"
     ]
    }
   ],
   "source": [
    "dt_sc = DecisionTreeRegressor()\n",
    "dt_sc.fit(X_train_sc, y_train)\n",
    "print(f'DT Scaled Train Score: {dt_sc.score(X_train_sc, y_train)}')\n",
    "print(f'DT Scaled Test Score: {dt_sc.score(X_test_sc, y_test)}')"
   ]
  },
  {
   "cell_type": "markdown",
   "id": "a8a904b1-89e5-43d8-a578-35c8844a1d99",
   "metadata": {},
   "source": [
    "## Decision Tree on Polynomial Features"
   ]
  },
  {
   "cell_type": "code",
   "execution_count": 15,
   "id": "8fe758e8-5e1a-4195-8f22-ca480b447b48",
   "metadata": {},
   "outputs": [
    {
     "name": "stdout",
     "output_type": "stream",
     "text": [
      "DT Polynomial Train Score: 0.9650650500696505\n",
      "DT Polynomial Test Score: 0.4231911920177778\n"
     ]
    }
   ],
   "source": [
    "dt_p = DecisionTreeRegressor()\n",
    "dt_p.fit(X_train_sc_p, y_train)\n",
    "print(f'DT Polynomial Train Score: {dt_p.score(X_train_sc_p, y_train)}')\n",
    "print(f'DT Polynomial Test Score: {dt_p.score(X_test_sc_p, y_test)}')"
   ]
  },
  {
   "cell_type": "markdown",
   "id": "aeda8949-5090-4182-8d92-63adc839dad4",
   "metadata": {},
   "source": [
    "## AdaBoost with Decision Tree Base Estimator"
   ]
  },
  {
   "cell_type": "code",
   "execution_count": 16,
   "id": "2db097b5-5489-4be1-94f3-c622a7fb97f2",
   "metadata": {},
   "outputs": [
    {
     "name": "stdout",
     "output_type": "stream",
     "text": [
      "0.3082496636438291\n",
      "{'base_estimator__max_depth': 5, 'n_estimators': 50}\n",
      "Ada DT Train Score: 0.3516387729993651\n",
      "Ada DT Test Score: 0.28302026744274955\n"
     ]
    }
   ],
   "source": [
    "ada_dt = AdaBoostRegressor(base_estimator = DecisionTreeRegressor(), random_state = 42)\n",
    "\n",
    "ada_dt_params = {\n",
    "    'n_estimators': [50, 100, 150, 200],\n",
    "    'base_estimator__max_depth': [1, 2, 5]\n",
    "}\n",
    "\n",
    "gs_ad_dt = GridSearchCV(ada_dt, param_grid = ada_dt_params, cv = 5)\n",
    "gs_ad_dt.fit(X_train_sc, y_train)\n",
    "print(gs_ad_dt.best_score_)\n",
    "print(gs_ad_dt.best_params_)\n",
    "print(f'Ada DT Train Score: {gs_ad_dt.score(X_train_sc, y_train)}')\n",
    "print(f'Ada DT Test Score: {gs_ad_dt.score(X_test_sc, y_test)}')"
   ]
  },
  {
   "cell_type": "markdown",
   "id": "22fe8d4f-45f7-4389-8728-bc19f1799ab0",
   "metadata": {},
   "source": [
    "# Bagged Trees? Random Forest?"
   ]
  },
  {
   "cell_type": "markdown",
   "id": "3aef91d0-08e6-4dad-bbe7-71fde8917bad",
   "metadata": {},
   "source": [
    "# Neural Nets - Regression with Batch Normalization"
   ]
  },
  {
   "cell_type": "code",
   "execution_count": 17,
   "id": "e8c8dc0f-5dd4-4c6d-b424-398802dcc51e",
   "metadata": {},
   "outputs": [],
   "source": [
    "X_nn = df.drop(columns = ['Date Local', 'PM2.5 Monthly Mean', 'lat_2dec', 'lon_2dec'])\n",
    "y_nn = df['PM2.5 Monthly Mean']\n",
    "\n",
    "X_nn = np.array(X_nn)\n",
    "y_nn = np.array(y_nn)\n",
    "\n",
    "X_nn_train, X_nn_test, y_nn_train, y_nn_test = train_test_split(X_nn, y_nn, random_state = 42)\n",
    "\n",
    "ss = StandardScaler()\n",
    "X_nn_train_sc = ss.fit_transform(X_nn_train)\n",
    "X_nn_test_sc = ss.transform(X_nn_test)"
   ]
  },
  {
   "cell_type": "code",
   "execution_count": 18,
   "id": "ff5461a9-829e-42be-ac58-c0b478282b2b",
   "metadata": {},
   "outputs": [
    {
     "data": {
      "text/plain": [
       "(6,)"
      ]
     },
     "execution_count": 18,
     "metadata": {},
     "output_type": "execute_result"
    }
   ],
   "source": [
    "X_nn[0].shape"
   ]
  },
  {
   "cell_type": "code",
   "execution_count": 22,
   "id": "dbab9108-096e-4bac-a48c-8d3757122db2",
   "metadata": {},
   "outputs": [],
   "source": [
    "model_nn = Sequential()\n",
    "\n",
    "model_nn.add(Dense(128, input_dim = 6, activation = 'relu'))\n",
    "\n",
    "model_nn.add(BatchNormalization())\n",
    "model_nn.add(Dense(64, activation = 'relu', kernel_regularizer = l2(.05)))\n",
    "model_nn.add(Dense(128, activation = 'relu', kernel_regularizer = l2(.05)))\n",
    "model_nn.add(Dense(64, activation = 'relu', kernel_regularizer = l2(.05)))\n",
    "model_nn.add(Dense(1, kernel_regularizer = l2(.05)))"
   ]
  },
  {
   "cell_type": "code",
   "execution_count": 23,
   "id": "24d31a32-b8f5-4ada-90d7-00930b4896ea",
   "metadata": {},
   "outputs": [],
   "source": [
    "model_nn.compile(optimizer = 'adam', loss = 'mse', metrics = ['mse', ])"
   ]
  },
  {
   "cell_type": "code",
   "execution_count": 24,
   "id": "2b8b2888-5015-4ce4-9e99-d50b993ac856",
   "metadata": {
    "scrolled": true,
    "tags": []
   },
   "outputs": [
    {
     "name": "stdout",
     "output_type": "stream",
     "text": [
      "Epoch 1/100\n",
      "325/325 [==============================] - 2s 3ms/step - loss: 17.0883 - mse: 8.1617 - val_loss: 17.3406 - val_mse: 11.3332\n",
      "Epoch 2/100\n",
      "325/325 [==============================] - 1s 2ms/step - loss: 10.2990 - mse: 5.7254 - val_loss: 8.7977 - val_mse: 5.3145\n",
      "Epoch 3/100\n",
      "325/325 [==============================] - 1s 2ms/step - loss: 8.2101 - mse: 5.3972 - val_loss: 7.4766 - val_mse: 5.2044\n",
      "Epoch 4/100\n",
      "325/325 [==============================] - 1s 2ms/step - loss: 7.2589 - mse: 5.3384 - val_loss: 7.1319 - val_mse: 5.5265\n",
      "Epoch 5/100\n",
      "325/325 [==============================] - 1s 2ms/step - loss: 6.7691 - mse: 5.3588 - val_loss: 6.7708 - val_mse: 5.5495\n",
      "Epoch 6/100\n",
      "325/325 [==============================] - 1s 2ms/step - loss: 6.3124 - mse: 5.2056 - val_loss: 6.4202 - val_mse: 5.4034\n",
      "Epoch 7/100\n",
      "325/325 [==============================] - 1s 2ms/step - loss: 6.0380 - mse: 5.1192 - val_loss: 6.0873 - val_mse: 5.2403\n",
      "Epoch 8/100\n",
      "325/325 [==============================] - 1s 2ms/step - loss: 5.8597 - mse: 5.0618 - val_loss: 5.9756 - val_mse: 5.2178\n",
      "Epoch 9/100\n",
      "325/325 [==============================] - 1s 3ms/step - loss: 5.7327 - mse: 5.0232 - val_loss: 5.5864 - val_mse: 4.9115\n",
      "Epoch 10/100\n",
      "325/325 [==============================] - 1s 3ms/step - loss: 5.6385 - mse: 4.9887 - val_loss: 5.9255 - val_mse: 5.3180\n",
      "Epoch 11/100\n",
      "325/325 [==============================] - 1s 2ms/step - loss: 5.5306 - mse: 4.9271 - val_loss: 5.7395 - val_mse: 5.1446\n",
      "Epoch 12/100\n",
      "325/325 [==============================] - 1s 3ms/step - loss: 5.5247 - mse: 4.9475 - val_loss: 5.4748 - val_mse: 4.9075\n",
      "Epoch 13/100\n",
      "325/325 [==============================] - 1s 2ms/step - loss: 5.4469 - mse: 4.8999 - val_loss: 5.5080 - val_mse: 4.9692\n",
      "Epoch 14/100\n",
      "325/325 [==============================] - 1s 2ms/step - loss: 5.3837 - mse: 4.8529 - val_loss: 5.5123 - val_mse: 4.9792\n",
      "Epoch 15/100\n",
      "325/325 [==============================] - 1s 3ms/step - loss: 5.3424 - mse: 4.8258 - val_loss: 5.4723 - val_mse: 4.9544\n",
      "Epoch 16/100\n",
      "325/325 [==============================] - 1s 2ms/step - loss: 5.4239 - mse: 4.9148 - val_loss: 5.3385 - val_mse: 4.8410\n",
      "Epoch 17/100\n",
      "325/325 [==============================] - 1s 2ms/step - loss: 5.2801 - mse: 4.7769 - val_loss: 5.8962 - val_mse: 5.3821\n",
      "Epoch 18/100\n",
      "325/325 [==============================] - 1s 2ms/step - loss: 5.3735 - mse: 4.8809 - val_loss: 5.3505 - val_mse: 4.8613\n",
      "Epoch 19/100\n",
      "325/325 [==============================] - 1s 2ms/step - loss: 5.3901 - mse: 4.9052 - val_loss: 5.2873 - val_mse: 4.8050\n",
      "Epoch 20/100\n",
      "325/325 [==============================] - 1s 2ms/step - loss: 5.1967 - mse: 4.7138 - val_loss: 5.3968 - val_mse: 4.9179\n",
      "Epoch 21/100\n",
      "325/325 [==============================] - 1s 2ms/step - loss: 5.2418 - mse: 4.7644 - val_loss: 5.3178 - val_mse: 4.8312\n",
      "Epoch 22/100\n",
      "325/325 [==============================] - 1s 2ms/step - loss: 5.2046 - mse: 4.7270 - val_loss: 5.3103 - val_mse: 4.8460\n",
      "Epoch 23/100\n",
      "325/325 [==============================] - 1s 2ms/step - loss: 5.2289 - mse: 4.7570 - val_loss: 5.2216 - val_mse: 4.7496\n",
      "Epoch 24/100\n",
      "325/325 [==============================] - 1s 2ms/step - loss: 5.2019 - mse: 4.7328 - val_loss: 5.5002 - val_mse: 5.0153\n",
      "Epoch 25/100\n",
      "325/325 [==============================] - 1s 2ms/step - loss: 5.2754 - mse: 4.8085 - val_loss: 5.2433 - val_mse: 4.7721\n",
      "Epoch 26/100\n",
      "325/325 [==============================] - 1s 2ms/step - loss: 5.1989 - mse: 4.7299 - val_loss: 5.2611 - val_mse: 4.7913\n",
      "Epoch 27/100\n",
      "325/325 [==============================] - 1s 2ms/step - loss: 5.2237 - mse: 4.7584 - val_loss: 5.3799 - val_mse: 4.9077\n",
      "Epoch 28/100\n",
      "325/325 [==============================] - 1s 2ms/step - loss: 5.1917 - mse: 4.7243 - val_loss: 5.2658 - val_mse: 4.8039\n",
      "Epoch 29/100\n",
      "325/325 [==============================] - 1s 2ms/step - loss: 5.1869 - mse: 4.7242 - val_loss: 5.3051 - val_mse: 4.8384\n",
      "Epoch 30/100\n",
      "325/325 [==============================] - 1s 2ms/step - loss: 5.1624 - mse: 4.6965 - val_loss: 5.3077 - val_mse: 4.8506\n",
      "Epoch 31/100\n",
      "325/325 [==============================] - 1s 2ms/step - loss: 5.1734 - mse: 4.7117 - val_loss: 5.2110 - val_mse: 4.7463\n",
      "Epoch 32/100\n",
      "325/325 [==============================] - 1s 2ms/step - loss: 5.0846 - mse: 4.6192 - val_loss: 5.1572 - val_mse: 4.6930\n",
      "Epoch 33/100\n",
      "325/325 [==============================] - 1s 2ms/step - loss: 5.1592 - mse: 4.6950 - val_loss: 5.3466 - val_mse: 4.8781\n",
      "Epoch 34/100\n",
      "325/325 [==============================] - 1s 2ms/step - loss: 5.1592 - mse: 4.6962 - val_loss: 5.1427 - val_mse: 4.6812\n",
      "Epoch 35/100\n",
      "325/325 [==============================] - 1s 3ms/step - loss: 5.1103 - mse: 4.6477 - val_loss: 5.2509 - val_mse: 4.7884\n",
      "Epoch 36/100\n",
      "325/325 [==============================] - 1s 4ms/step - loss: 5.0811 - mse: 4.6199 - val_loss: 5.1719 - val_mse: 4.7084\n",
      "Epoch 37/100\n",
      "325/325 [==============================] - 1s 3ms/step - loss: 5.0362 - mse: 4.5723 - val_loss: 5.0972 - val_mse: 4.6411\n",
      "Epoch 38/100\n",
      "325/325 [==============================] - 1s 3ms/step - loss: 5.0886 - mse: 4.6320 - val_loss: 5.2389 - val_mse: 4.7846\n",
      "Epoch 39/100\n",
      "325/325 [==============================] - 1s 2ms/step - loss: 5.0764 - mse: 4.6214 - val_loss: 5.3082 - val_mse: 4.8644\n",
      "Epoch 40/100\n",
      "325/325 [==============================] - 1s 2ms/step - loss: 5.0483 - mse: 4.5932 - val_loss: 5.1801 - val_mse: 4.7335\n",
      "Epoch 41/100\n",
      "325/325 [==============================] - 1s 2ms/step - loss: 5.0847 - mse: 4.6272 - val_loss: 5.1121 - val_mse: 4.6501\n",
      "Epoch 42/100\n",
      "325/325 [==============================] - 1s 2ms/step - loss: 5.0616 - mse: 4.6011 - val_loss: 5.1801 - val_mse: 4.7188\n",
      "Epoch 43/100\n",
      "325/325 [==============================] - 1s 2ms/step - loss: 5.0368 - mse: 4.5743 - val_loss: 5.2434 - val_mse: 4.7777\n",
      "Epoch 44/100\n",
      "325/325 [==============================] - 1s 3ms/step - loss: 4.9783 - mse: 4.5198 - val_loss: 5.1592 - val_mse: 4.6982\n",
      "Epoch 45/100\n",
      "325/325 [==============================] - 1s 2ms/step - loss: 5.0201 - mse: 4.5638 - val_loss: 5.0777 - val_mse: 4.6237\n",
      "Epoch 46/100\n",
      "325/325 [==============================] - 1s 2ms/step - loss: 4.9840 - mse: 4.5293 - val_loss: 5.1165 - val_mse: 4.6537\n",
      "Epoch 47/100\n",
      "325/325 [==============================] - 1s 2ms/step - loss: 5.0154 - mse: 4.5592 - val_loss: 5.0444 - val_mse: 4.5938\n",
      "Epoch 48/100\n",
      "325/325 [==============================] - 1s 2ms/step - loss: 4.9918 - mse: 4.5374 - val_loss: 5.1047 - val_mse: 4.6467\n",
      "Epoch 49/100\n",
      "325/325 [==============================] - 1s 2ms/step - loss: 4.9594 - mse: 4.5038 - val_loss: 4.9777 - val_mse: 4.5162\n",
      "Epoch 50/100\n",
      "325/325 [==============================] - 1s 3ms/step - loss: 4.9315 - mse: 4.4735 - val_loss: 5.1702 - val_mse: 4.7160\n",
      "Epoch 51/100\n",
      "325/325 [==============================] - 1s 3ms/step - loss: 4.9990 - mse: 4.5447 - val_loss: 5.0619 - val_mse: 4.6035\n",
      "Epoch 52/100\n",
      "325/325 [==============================] - 1s 2ms/step - loss: 4.9264 - mse: 4.4682 - val_loss: 5.1287 - val_mse: 4.6700\n",
      "Epoch 53/100\n",
      "325/325 [==============================] - 1s 2ms/step - loss: 5.0051 - mse: 4.5525 - val_loss: 5.0518 - val_mse: 4.5976\n",
      "Epoch 54/100\n",
      "325/325 [==============================] - 1s 2ms/step - loss: 4.9575 - mse: 4.5016 - val_loss: 5.0179 - val_mse: 4.5680\n",
      "Epoch 55/100\n",
      "325/325 [==============================] - 1s 2ms/step - loss: 4.9642 - mse: 4.5088 - val_loss: 5.0213 - val_mse: 4.5611\n",
      "Epoch 56/100\n",
      "325/325 [==============================] - 1s 2ms/step - loss: 4.9217 - mse: 4.4661 - val_loss: 5.1113 - val_mse: 4.6556\n",
      "Epoch 57/100\n",
      "325/325 [==============================] - 1s 2ms/step - loss: 5.0065 - mse: 4.5504 - val_loss: 4.9646 - val_mse: 4.5107\n",
      "Epoch 58/100\n",
      "325/325 [==============================] - 1s 2ms/step - loss: 4.9560 - mse: 4.5012 - val_loss: 4.9889 - val_mse: 4.5414\n",
      "Epoch 59/100\n",
      "325/325 [==============================] - 1s 2ms/step - loss: 4.8550 - mse: 4.3987 - val_loss: 5.0839 - val_mse: 4.6294\n",
      "Epoch 60/100\n",
      "325/325 [==============================] - 1s 2ms/step - loss: 4.9772 - mse: 4.5229 - val_loss: 4.9638 - val_mse: 4.5127\n",
      "Epoch 61/100\n",
      "325/325 [==============================] - 1s 2ms/step - loss: 4.9118 - mse: 4.4569 - val_loss: 5.0031 - val_mse: 4.5583\n",
      "Epoch 62/100\n",
      "325/325 [==============================] - 1s 3ms/step - loss: 4.9176 - mse: 4.4671 - val_loss: 4.9477 - val_mse: 4.4988\n",
      "Epoch 63/100\n",
      "325/325 [==============================] - 1s 2ms/step - loss: 4.8951 - mse: 4.4455 - val_loss: 5.0843 - val_mse: 4.6319\n",
      "Epoch 64/100\n",
      "325/325 [==============================] - 1s 2ms/step - loss: 4.9141 - mse: 4.4653 - val_loss: 5.0798 - val_mse: 4.6284\n",
      "Epoch 65/100\n",
      "325/325 [==============================] - 1s 2ms/step - loss: 4.9360 - mse: 4.4888 - val_loss: 5.0029 - val_mse: 4.5532\n",
      "Epoch 66/100\n",
      "325/325 [==============================] - 1s 2ms/step - loss: 4.9020 - mse: 4.4525 - val_loss: 5.3791 - val_mse: 4.9428\n",
      "Epoch 67/100\n",
      "325/325 [==============================] - 1s 2ms/step - loss: 4.8977 - mse: 4.4475 - val_loss: 4.9875 - val_mse: 4.5451\n",
      "Epoch 68/100\n",
      "325/325 [==============================] - 1s 2ms/step - loss: 4.8729 - mse: 4.4277 - val_loss: 5.1232 - val_mse: 4.6786\n",
      "Epoch 69/100\n",
      "325/325 [==============================] - 1s 2ms/step - loss: 4.8973 - mse: 4.4487 - val_loss: 5.1374 - val_mse: 4.6872\n",
      "Epoch 70/100\n",
      "325/325 [==============================] - 1s 2ms/step - loss: 4.8756 - mse: 4.4315 - val_loss: 5.0890 - val_mse: 4.6463\n",
      "Epoch 71/100\n",
      "325/325 [==============================] - 1s 2ms/step - loss: 4.8907 - mse: 4.4446 - val_loss: 5.0030 - val_mse: 4.5537\n",
      "Epoch 72/100\n",
      "325/325 [==============================] - 1s 2ms/step - loss: 4.8670 - mse: 4.4197 - val_loss: 5.0177 - val_mse: 4.5663\n",
      "Epoch 73/100\n",
      "325/325 [==============================] - 1s 3ms/step - loss: 4.8800 - mse: 4.4342 - val_loss: 4.9422 - val_mse: 4.5009\n",
      "Epoch 74/100\n",
      "325/325 [==============================] - 1s 2ms/step - loss: 4.8410 - mse: 4.3943 - val_loss: 4.9284 - val_mse: 4.4800\n",
      "Epoch 75/100\n",
      "325/325 [==============================] - 1s 3ms/step - loss: 4.8464 - mse: 4.3949 - val_loss: 5.1413 - val_mse: 4.7040\n",
      "Epoch 76/100\n",
      "325/325 [==============================] - 1s 3ms/step - loss: 4.8816 - mse: 4.4362 - val_loss: 5.0270 - val_mse: 4.5799\n",
      "Epoch 77/100\n",
      "325/325 [==============================] - 1s 3ms/step - loss: 4.8674 - mse: 4.4222 - val_loss: 5.0079 - val_mse: 4.5623\n",
      "Epoch 78/100\n",
      "325/325 [==============================] - 1s 3ms/step - loss: 4.8748 - mse: 4.4288 - val_loss: 5.0605 - val_mse: 4.6111\n",
      "Epoch 79/100\n",
      "325/325 [==============================] - 1s 3ms/step - loss: 4.8608 - mse: 4.4147 - val_loss: 5.0866 - val_mse: 4.6328\n",
      "Epoch 80/100\n",
      "325/325 [==============================] - 1s 2ms/step - loss: 4.8940 - mse: 4.4501 - val_loss: 5.2762 - val_mse: 4.8208\n",
      "Epoch 81/100\n",
      "325/325 [==============================] - 1s 2ms/step - loss: 4.8869 - mse: 4.4415 - val_loss: 4.9587 - val_mse: 4.5150\n",
      "Epoch 82/100\n",
      "325/325 [==============================] - 1s 2ms/step - loss: 4.8759 - mse: 4.4302 - val_loss: 5.4382 - val_mse: 4.9852\n",
      "Epoch 83/100\n",
      "325/325 [==============================] - 1s 2ms/step - loss: 4.8540 - mse: 4.4120 - val_loss: 4.9943 - val_mse: 4.5517\n",
      "Epoch 84/100\n",
      "325/325 [==============================] - 1s 2ms/step - loss: 4.8632 - mse: 4.4219 - val_loss: 4.9080 - val_mse: 4.4695\n",
      "Epoch 85/100\n",
      "325/325 [==============================] - 1s 2ms/step - loss: 4.8374 - mse: 4.3959 - val_loss: 5.0319 - val_mse: 4.5891\n",
      "Epoch 86/100\n",
      "325/325 [==============================] - 1s 2ms/step - loss: 4.8042 - mse: 4.3629 - val_loss: 5.0574 - val_mse: 4.6261\n",
      "Epoch 87/100\n",
      "325/325 [==============================] - 1s 2ms/step - loss: 4.8709 - mse: 4.4290 - val_loss: 5.0494 - val_mse: 4.6064\n",
      "Epoch 88/100\n",
      "325/325 [==============================] - 1s 3ms/step - loss: 4.8796 - mse: 4.4398 - val_loss: 5.0882 - val_mse: 4.6419\n",
      "Epoch 89/100\n",
      "325/325 [==============================] - 1s 3ms/step - loss: 4.8090 - mse: 4.3702 - val_loss: 5.0199 - val_mse: 4.5715\n",
      "Epoch 90/100\n",
      "325/325 [==============================] - 1s 2ms/step - loss: 4.8073 - mse: 4.3681 - val_loss: 5.0280 - val_mse: 4.5881\n",
      "Epoch 91/100\n",
      "325/325 [==============================] - 1s 2ms/step - loss: 4.7902 - mse: 4.3496 - val_loss: 5.1606 - val_mse: 4.7135\n",
      "Epoch 92/100\n",
      "325/325 [==============================] - 1s 2ms/step - loss: 4.8621 - mse: 4.4241 - val_loss: 4.9767 - val_mse: 4.5389\n",
      "Epoch 93/100\n",
      "325/325 [==============================] - 1s 2ms/step - loss: 4.8731 - mse: 4.4363 - val_loss: 5.0537 - val_mse: 4.6225\n",
      "Epoch 94/100\n",
      "325/325 [==============================] - 1s 2ms/step - loss: 4.8121 - mse: 4.3800 - val_loss: 5.2331 - val_mse: 4.7871\n",
      "Epoch 95/100\n",
      "325/325 [==============================] - 1s 2ms/step - loss: 4.8129 - mse: 4.3735 - val_loss: 4.9998 - val_mse: 4.5678\n",
      "Epoch 96/100\n",
      "325/325 [==============================] - 1s 2ms/step - loss: 4.7779 - mse: 4.3398 - val_loss: 4.8864 - val_mse: 4.4507\n",
      "Epoch 97/100\n",
      "325/325 [==============================] - 1s 2ms/step - loss: 4.7792 - mse: 4.3425 - val_loss: 5.0373 - val_mse: 4.6077\n",
      "Epoch 98/100\n",
      "325/325 [==============================] - 1s 2ms/step - loss: 4.7726 - mse: 4.3411 - val_loss: 4.9552 - val_mse: 4.5215\n",
      "Epoch 99/100\n",
      "325/325 [==============================] - 1s 2ms/step - loss: 4.7935 - mse: 4.3601 - val_loss: 5.0153 - val_mse: 4.5844\n",
      "Epoch 100/100\n",
      "325/325 [==============================] - 1s 2ms/step - loss: 4.8300 - mse: 4.3955 - val_loss: 5.1597 - val_mse: 4.7344\n"
     ]
    }
   ],
   "source": [
    "history_nn = model_nn.fit(X_nn_train_sc, y_nn_train, epochs = 100, verbose = 1, validation_data = (X_nn_test_sc, y_nn_test))"
   ]
  },
  {
   "cell_type": "code",
   "execution_count": 25,
   "id": "93d16735-b433-479a-810c-82a041c1cacc",
   "metadata": {},
   "outputs": [
    {
     "data": {
      "image/png": "[encoded data removed]",
      "text/plain": [
       "<Figure size 1080x360 with 2 Axes>"
      ]
     },
     "metadata": {
      "needs_background": "light"
     },
     "output_type": "display_data"
    }
   ],
   "source": [
    "#breakfast hour\n",
    "fig, ax = plt.subplots(1, 2, figsize=(15, 5))\n",
    "\n",
    "ax[0].plot(history_nn.history['loss'], color = 'green')\n",
    "ax[1].plot(history_nn.history['val_loss'], color = 'blue')\n",
    "\n",
    "ax[0].set_title('Train')\n",
    "ax[0].set_xlabel('epochs')\n",
    "ax[0].set_ylabel('Loss = MSE')\n",
    "\n",
    "ax[1].set_title('Test')\n",
    "ax[1].set_xlabel('epochs')\n",
    "ax[1].set_ylabel('Loss = MSE');"
   ]
  },
  {
   "cell_type": "code",
   "execution_count": 26,
   "id": "3d1550d5-b173-4847-91c7-e340b294d531",
   "metadata": {},
   "outputs": [
    {
     "ename": "NameError",
     "evalue": "name 'model3' is not defined",
     "output_type": "error",
     "traceback": [
      "\u001b[0;31m---------------------------------------------------------------------------\u001b[0m",
      "\u001b[0;31mNameError\u001b[0m                                 Traceback (most recent call last)",
      "Input \u001b[0;32mIn [26]\u001b[0m, in \u001b[0;36m<cell line: 1>\u001b[0;34m()\u001b[0m\n\u001b[0;32m----> 1\u001b[0m y_nn_pred \u001b[38;5;241m=\u001b[39m \u001b[43mmodel3\u001b[49m\u001b[38;5;241m.\u001b[39mpredict(X_nn_test_sc)\n",
      "\u001b[0;31mNameError\u001b[0m: name 'model3' is not defined"
     ]
    }
   ],
   "source": [
    "y_nn_pred = model3.predict(X_nn_test_sc)"
   ]
  },
  {
   "cell_type": "code",
   "execution_count": null,
   "id": "64ec3675-302a-40b7-bef9-f1bb635d108e",
   "metadata": {},
   "outputs": [],
   "source": [
    "metrics.r2_score(y_nn_test, y_nn_pred)"
   ]
  }
 ],
 "metadata": {
  "kernelspec": {
   "display_name": "Python 3 (ipykernel)",
   "language": "python",
   "name": "python3"
  },
  "language_info": {
   "codemirror_mode": {
    "name": "ipython",
    "version": 3
   },
   "file_extension": ".py",
   "mimetype": "text/x-python",
   "name": "python",
   "nbconvert_exporter": "python",
   "pygments_lexer": "ipython3",
   "version": "3.9.12"
  }
 },
 "nbformat": 4,
 "nbformat_minor": 5
}
