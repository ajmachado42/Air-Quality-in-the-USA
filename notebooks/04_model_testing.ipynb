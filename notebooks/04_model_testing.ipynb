{
 "cells": [
  {
   "cell_type": "markdown",
   "id": "2dfe0ef3-c262-4cf7-b8f0-0989fa582333",
   "metadata": {},
   "source": [
    "# Imports"
   ]
  },
  {
   "cell_type": "code",
   "execution_count": 1,
   "id": "a9ef05a3-76fd-4f52-b791-778f5dc5854f",
   "metadata": {},
   "outputs": [],
   "source": [
    "import pandas as pd\n",
    "import numpy as np\n",
    "import seaborn as sns\n",
    "import matplotlib.pyplot as plt\n",
    "%matplotlib inline\n",
    "\n",
    "from sklearn.pipeline import Pipeline\n",
    "\n",
    "from sklearn.model_selection import train_test_split\n",
    "from sklearn.preprocessing import PolynomialFeatures, StandardScaler\n",
    "\n",
    "from sklearn.linear_model import LinearRegression\n",
    "from sklearn import metrics\n",
    "from sklearn.model_selection import GridSearchCV\n",
    "from sklearn.linear_model import Ridge, Lasso, ElasticNet\n",
    "from sklearn.naive_bayes import MultinomialNB\n",
    "from sklearn.ensemble import GradientBoostingRegressor, AdaBoostRegressor, VotingRegressor\n",
    "from sklearn.tree import DecisionTreeRegressor\n",
    "from sklearn.ensemble import AdaBoostRegressor, RandomForestRegressor\n",
    "\n",
    "from tensorflow.keras.models import Sequential\n",
    "from tensorflow.keras.layers import Dense, Dropout, BatchNormalization\n",
    "from tensorflow.keras.callbacks import EarlyStopping\n",
    "from tensorflow.keras.regularizers import l1, l2, l1_l2"
   ]
  },
  {
   "cell_type": "code",
   "execution_count": 2,
   "id": "630e63f5-cce3-416d-9cae-71ee126a38ca",
   "metadata": {},
   "outputs": [],
   "source": [
    "df = pd.read_csv('../data/epa_final.csv')"
   ]
  },
  {
   "cell_type": "code",
   "execution_count": 3,
   "id": "22a8dc94-23bf-47e3-b66e-9b83ab017af3",
   "metadata": {},
   "outputs": [],
   "source": [
    "df = df[df['PM2.5 Monthly Mean'] > 0]"
   ]
  },
  {
   "cell_type": "code",
   "execution_count": 4,
   "id": "35e8ed85-2f89-40fb-b69c-e9f39752b716",
   "metadata": {},
   "outputs": [
    {
     "data": {
      "text/html": [
       "<div>\n",
       "<style scoped>\n",
       "    .dataframe tbody tr th:only-of-type {\n",
       "        vertical-align: middle;\n",
       "    }\n",
       "\n",
       "    .dataframe tbody tr th {\n",
       "        vertical-align: top;\n",
       "    }\n",
       "\n",
       "    .dataframe thead th {\n",
       "        text-align: right;\n",
       "    }\n",
       "</style>\n",
       "<table border=\"1\" class=\"dataframe\">\n",
       "  <thead>\n",
       "    <tr style=\"text-align: right;\">\n",
       "      <th></th>\n",
       "      <th>Date Local</th>\n",
       "      <th>Latitude</th>\n",
       "      <th>Longitude</th>\n",
       "      <th>PM2.5 Monthly Mean</th>\n",
       "      <th>lat_2dec</th>\n",
       "      <th>lon_2dec</th>\n",
       "      <th>no2</th>\n",
       "      <th>aod</th>\n",
       "      <th>temp</th>\n",
       "      <th>precip</th>\n",
       "    </tr>\n",
       "  </thead>\n",
       "  <tbody>\n",
       "    <tr>\n",
       "      <th>0</th>\n",
       "      <td>2019-01-31</td>\n",
       "      <td>30.497478</td>\n",
       "      <td>-87.880258</td>\n",
       "      <td>6.825000</td>\n",
       "      <td>30.5</td>\n",
       "      <td>-87.88</td>\n",
       "      <td>1.541665e+15</td>\n",
       "      <td>0.052667</td>\n",
       "      <td>290.88</td>\n",
       "      <td>3.993249</td>\n",
       "    </tr>\n",
       "    <tr>\n",
       "      <th>1</th>\n",
       "      <td>2019-01-31</td>\n",
       "      <td>38.013333</td>\n",
       "      <td>-87.577222</td>\n",
       "      <td>9.860000</td>\n",
       "      <td>30.5</td>\n",
       "      <td>-87.88</td>\n",
       "      <td>1.120693e+15</td>\n",
       "      <td>0.035250</td>\n",
       "      <td>290.56</td>\n",
       "      <td>4.091899</td>\n",
       "    </tr>\n",
       "    <tr>\n",
       "      <th>2</th>\n",
       "      <td>2019-01-31</td>\n",
       "      <td>41.874999</td>\n",
       "      <td>-90.177574</td>\n",
       "      <td>10.290000</td>\n",
       "      <td>30.5</td>\n",
       "      <td>-87.88</td>\n",
       "      <td>1.374970e+15</td>\n",
       "      <td>0.201500</td>\n",
       "      <td>288.74</td>\n",
       "      <td>4.167067</td>\n",
       "    </tr>\n",
       "    <tr>\n",
       "      <th>3</th>\n",
       "      <td>2019-01-31</td>\n",
       "      <td>38.013333</td>\n",
       "      <td>-87.577222</td>\n",
       "      <td>7.222581</td>\n",
       "      <td>30.5</td>\n",
       "      <td>-87.88</td>\n",
       "      <td>1.120693e+15</td>\n",
       "      <td>0.035250</td>\n",
       "      <td>290.56</td>\n",
       "      <td>4.091899</td>\n",
       "    </tr>\n",
       "    <tr>\n",
       "      <th>4</th>\n",
       "      <td>2019-01-31</td>\n",
       "      <td>41.164400</td>\n",
       "      <td>-81.235200</td>\n",
       "      <td>8.762500</td>\n",
       "      <td>30.5</td>\n",
       "      <td>-87.88</td>\n",
       "      <td>1.421505e+15</td>\n",
       "      <td>0.035250</td>\n",
       "      <td>290.56</td>\n",
       "      <td>4.091899</td>\n",
       "    </tr>\n",
       "  </tbody>\n",
       "</table>\n",
       "</div>"
      ],
      "text/plain": [
       "   Date Local   Latitude  Longitude  PM2.5 Monthly Mean  lat_2dec  lon_2dec  \\\n",
       "0  2019-01-31  30.497478 -87.880258            6.825000      30.5    -87.88   \n",
       "1  2019-01-31  38.013333 -87.577222            9.860000      30.5    -87.88   \n",
       "2  2019-01-31  41.874999 -90.177574           10.290000      30.5    -87.88   \n",
       "3  2019-01-31  38.013333 -87.577222            7.222581      30.5    -87.88   \n",
       "4  2019-01-31  41.164400 -81.235200            8.762500      30.5    -87.88   \n",
       "\n",
       "            no2       aod    temp    precip  \n",
       "0  1.541665e+15  0.052667  290.88  3.993249  \n",
       "1  1.120693e+15  0.035250  290.56  4.091899  \n",
       "2  1.374970e+15  0.201500  288.74  4.167067  \n",
       "3  1.120693e+15  0.035250  290.56  4.091899  \n",
       "4  1.421505e+15  0.035250  290.56  4.091899  "
      ]
     },
     "execution_count": 4,
     "metadata": {},
     "output_type": "execute_result"
    }
   ],
   "source": [
    "df.head()"
   ]
  },
  {
   "cell_type": "code",
   "execution_count": 5,
   "id": "3f454deb-442d-45ae-8013-7672d1f45cf1",
   "metadata": {},
   "outputs": [
    {
     "data": {
      "text/plain": [
       "(13828, 10)"
      ]
     },
     "execution_count": 5,
     "metadata": {},
     "output_type": "execute_result"
    }
   ],
   "source": [
    "df.shape"
   ]
  },
  {
   "cell_type": "code",
   "execution_count": 6,
   "id": "77330164-8f3f-43b7-a72c-96d0bb3d7c9a",
   "metadata": {},
   "outputs": [
    {
     "data": {
      "text/plain": [
       "Date Local            0\n",
       "Latitude              0\n",
       "Longitude             0\n",
       "PM2.5 Monthly Mean    0\n",
       "lat_2dec              0\n",
       "lon_2dec              0\n",
       "no2                   0\n",
       "aod                   0\n",
       "temp                  0\n",
       "precip                0\n",
       "dtype: int64"
      ]
     },
     "execution_count": 6,
     "metadata": {},
     "output_type": "execute_result"
    }
   ],
   "source": [
    "df.isnull().sum()"
   ]
  },
  {
   "cell_type": "markdown",
   "id": "13ba8555-d469-4792-8871-8316f9b24834",
   "metadata": {},
   "source": [
    "# X, y, train_test_split"
   ]
  },
  {
   "cell_type": "code",
   "execution_count": 7,
   "id": "d0d8c288-3403-43ad-a4bf-d566464c477b",
   "metadata": {},
   "outputs": [],
   "source": [
    "X = df.drop(columns = ['Date Local', 'PM2.5 Monthly Mean', 'lat_2dec', 'lon_2dec'])\n",
    "y = df['PM2.5 Monthly Mean']\n",
    "\n",
    "X_train, X_test, y_train, y_test = train_test_split(X, y, random_state = 42)"
   ]
  },
  {
   "cell_type": "code",
   "execution_count": 8,
   "id": "ae6393da-69d1-486d-af5c-111a4ac11ae1",
   "metadata": {},
   "outputs": [
    {
     "data": {
      "text/plain": [
       "7.442811142453138"
      ]
     },
     "execution_count": 8,
     "metadata": {},
     "output_type": "execute_result"
    }
   ],
   "source": [
    "y.mean()"
   ]
  },
  {
   "cell_type": "markdown",
   "id": "d6250ba2-98f3-43f8-b725-f6c27da6799b",
   "metadata": {},
   "source": [
    "## StandardScaler X_train and X_test for testing"
   ]
  },
  {
   "cell_type": "code",
   "execution_count": 9,
   "id": "4294fd86-43c6-426c-92e0-c87e235ec6cb",
   "metadata": {},
   "outputs": [],
   "source": [
    "ss = StandardScaler()\n",
    "X_train_sc = ss.fit_transform(X_train)\n",
    "X_test_sc = ss.transform(X_test)"
   ]
  },
  {
   "cell_type": "markdown",
   "id": "d33b39c9-383b-45d1-936d-aee85c558566",
   "metadata": {},
   "source": [
    "## Polynomial X_train and X_test for testing"
   ]
  },
  {
   "cell_type": "code",
   "execution_count": 10,
   "id": "c085c194-5f32-4067-a15c-afaa9fc4ad9f",
   "metadata": {},
   "outputs": [],
   "source": [
    "poly = PolynomialFeatures()\n",
    "X_train_sc_p = poly.fit_transform(X_train_sc)\n",
    "X_test_sc_p = poly.fit_transform(X_test_sc)"
   ]
  },
  {
   "cell_type": "markdown",
   "id": "8f8c95d9-ebd1-4dd4-b63a-0ba21c7f72c2",
   "metadata": {},
   "source": [
    "# Linear Regression"
   ]
  },
  {
   "cell_type": "code",
   "execution_count": 11,
   "id": "9570de43-6ad4-4d53-aae9-040fbea3f5af",
   "metadata": {},
   "outputs": [
    {
     "name": "stdout",
     "output_type": "stream",
     "text": [
      "Linear Regression Train Score: 0.07680778549291478\n",
      "Linear Regression Test Score: 0.0821680892657426\n"
     ]
    }
   ],
   "source": [
    "lr = LinearRegression()\n",
    "lr.fit(X_train_sc, y_train)\n",
    "print(f'Linear Regression Train Score: {lr.score(X_train_sc, y_train)}')\n",
    "print(f'Linear Regression Test Score: {lr.score(X_test_sc, y_test)}')"
   ]
  },
  {
   "cell_type": "code",
   "execution_count": 12,
   "id": "ee270348-07ac-42dd-b53e-7b3c3569160e",
   "metadata": {},
   "outputs": [
    {
     "name": "stdout",
     "output_type": "stream",
     "text": [
      "LR Pipe Train Score: 0.2034940109003135\n",
      "LR Pipe Test Score: 0.19706446999268568\n"
     ]
    }
   ],
   "source": [
    "lr_pipe = Pipeline([\n",
    "    ('ss', StandardScaler()),\n",
    "    ('poly', PolynomialFeatures()),\n",
    "    ('lr', LinearRegression())\n",
    "])\n",
    "\n",
    "lr_pipe.fit(X_train, y_train)\n",
    "print(f'LR Pipe Train Score: {lr_pipe.score(X_train, y_train)}')\n",
    "print(f'LR Pipe Test Score: {lr_pipe.score(X_test, y_test)}')"
   ]
  },
  {
   "cell_type": "markdown",
   "id": "9ba68410-5eb7-4a31-a762-b705282d89e2",
   "metadata": {},
   "source": [
    "## AdaBoost with Linear Regression"
   ]
  },
  {
   "cell_type": "code",
   "execution_count": 13,
   "id": "88496546-8d02-48d1-9a07-8e9aac4900ef",
   "metadata": {},
   "outputs": [
    {
     "name": "stdout",
     "output_type": "stream",
     "text": [
      "Ada LR Train Score: 0.0626114218651278\n",
      "Ada LR Test Score: 0.07399082698682935\n"
     ]
    }
   ],
   "source": [
    "ada_lr = AdaBoostRegressor(base_estimator = LinearRegression(), random_state = 42)\n",
    "\n",
    "ada_lr.fit(X_train_sc, y_train)\n",
    "print(f'Ada LR Train Score: {ada_lr.score(X_train_sc, y_train)}')\n",
    "print(f'Ada LR Test Score: {ada_lr.score(X_test_sc, y_test)}')"
   ]
  },
  {
   "cell_type": "markdown",
   "id": "f0ba5c72-d2a6-419b-a433-f987c4b19662",
   "metadata": {},
   "source": [
    "# Trees Models"
   ]
  },
  {
   "cell_type": "markdown",
   "id": "17696364-3a8d-40dc-bb01-a425d7fa5bc4",
   "metadata": {},
   "source": [
    "## Decision Tree on Scaled Features"
   ]
  },
  {
   "cell_type": "code",
   "execution_count": 14,
   "id": "2a916c98-05b0-4221-bcf5-7e451930f1d4",
   "metadata": {},
   "outputs": [
    {
     "name": "stdout",
     "output_type": "stream",
     "text": [
      "DT Scaled Train Score: 0.9650650500696505\n",
      "DT Scaled Test Score: 0.5392625061475895\n"
     ]
    }
   ],
   "source": [
    "dt_sc = DecisionTreeRegressor()\n",
    "dt_sc.fit(X_train_sc, y_train)\n",
    "print(f'DT Scaled Train Score: {dt_sc.score(X_train_sc, y_train)}')\n",
    "print(f'DT Scaled Test Score: {dt_sc.score(X_test_sc, y_test)}')"
   ]
  },
  {
   "cell_type": "markdown",
   "id": "a8a904b1-89e5-43d8-a578-35c8844a1d99",
   "metadata": {},
   "source": [
    "## Decision Tree on Polynomial Features"
   ]
  },
  {
   "cell_type": "code",
   "execution_count": 15,
   "id": "8fe758e8-5e1a-4195-8f22-ca480b447b48",
   "metadata": {},
   "outputs": [
    {
     "name": "stdout",
     "output_type": "stream",
     "text": [
      "DT Polynomial Train Score: 0.9650650500696505\n",
      "DT Polynomial Test Score: 0.43236093758563565\n"
     ]
    }
   ],
   "source": [
    "dt_p = DecisionTreeRegressor()\n",
    "dt_p.fit(X_train_sc_p, y_train)\n",
    "print(f'DT Polynomial Train Score: {dt_p.score(X_train_sc_p, y_train)}')\n",
    "print(f'DT Polynomial Test Score: {dt_p.score(X_test_sc_p, y_test)}')"
   ]
  },
  {
   "cell_type": "markdown",
   "id": "aeda8949-5090-4182-8d92-63adc839dad4",
   "metadata": {},
   "source": [
    "## AdaBoost with Decision Tree Base Estimator"
   ]
  },
  {
   "cell_type": "code",
   "execution_count": 16,
   "id": "2db097b5-5489-4be1-94f3-c622a7fb97f2",
   "metadata": {},
   "outputs": [
    {
     "name": "stdout",
     "output_type": "stream",
     "text": [
      "0.3082496636438291\n",
      "{'base_estimator__max_depth': 5, 'n_estimators': 50}\n",
      "Ada DT Train Score: 0.3516387729993651\n",
      "Ada DT Test Score: 0.28302026744274955\n"
     ]
    }
   ],
   "source": [
    "ada_dt = AdaBoostRegressor(base_estimator = DecisionTreeRegressor(), random_state = 42)\n",
    "\n",
    "ada_dt_params = {\n",
    "    'n_estimators': [50, 100, 150, 200],\n",
    "    'base_estimator__max_depth': [1, 2, 5]\n",
    "}\n",
    "\n",
    "gs_ad_dt = GridSearchCV(ada_dt, param_grid = ada_dt_params, cv = 5)\n",
    "gs_ad_dt.fit(X_train_sc, y_train)\n",
    "print(gs_ad_dt.best_score_)\n",
    "print(gs_ad_dt.best_params_)\n",
    "print(f'Ada DT Train Score: {gs_ad_dt.score(X_train_sc, y_train)}')\n",
    "print(f'Ada DT Test Score: {gs_ad_dt.score(X_test_sc, y_test)}')"
   ]
  },
  {
   "cell_type": "markdown",
   "id": "3aef91d0-08e6-4dad-bbe7-71fde8917bad",
   "metadata": {},
   "source": [
    "# Neural Nets - Regression with Batch Normalization"
   ]
  },
  {
   "cell_type": "code",
   "execution_count": 17,
   "id": "e8c8dc0f-5dd4-4c6d-b424-398802dcc51e",
   "metadata": {},
   "outputs": [],
   "source": [
    "X_nn = df.drop(columns = ['Date Local', 'PM2.5 Monthly Mean', 'lat_2dec', 'lon_2dec'])\n",
    "y_nn = df['PM2.5 Monthly Mean']\n",
    "\n",
    "X_nn = np.array(X_nn)\n",
    "y_nn = np.array(y_nn)\n",
    "\n",
    "X_nn_train, X_nn_test, y_nn_train, y_nn_test = train_test_split(X_nn, y_nn, random_state = 42)\n",
    "\n",
    "ss = StandardScaler()\n",
    "X_nn_train_sc = ss.fit_transform(X_nn_train)\n",
    "X_nn_test_sc = ss.transform(X_nn_test)"
   ]
  },
  {
   "cell_type": "code",
   "execution_count": 18,
   "id": "ff5461a9-829e-42be-ac58-c0b478282b2b",
   "metadata": {},
   "outputs": [
    {
     "data": {
      "text/plain": [
       "(6,)"
      ]
     },
     "execution_count": 18,
     "metadata": {},
     "output_type": "execute_result"
    }
   ],
   "source": [
    "X_nn[0].shape"
   ]
  },
  {
   "cell_type": "code",
   "execution_count": 19,
   "id": "dbab9108-096e-4bac-a48c-8d3757122db2",
   "metadata": {},
   "outputs": [
    {
     "name": "stderr",
     "output_type": "stream",
     "text": [
      "2022-08-03 15:52:10.766945: I tensorflow/core/platform/cpu_feature_guard.cc:193] This TensorFlow binary is optimized with oneAPI Deep Neural Network Library (oneDNN) to use the following CPU instructions in performance-critical operations:  AVX2 FMA\n",
      "To enable them in other operations, rebuild TensorFlow with the appropriate compiler flags.\n"
     ]
    }
   ],
   "source": [
    "model_nn = Sequential()\n",
    "\n",
    "model_nn.add(Dense(128, input_dim = 6, activation = 'relu'))\n",
    "\n",
    "model_nn.add(BatchNormalization())\n",
    "model_nn.add(Dense(64, activation = 'relu', kernel_regularizer = l2(.05)))\n",
    "model_nn.add(Dense(128, activation = 'relu', kernel_regularizer = l2(.05)))\n",
    "model_nn.add(Dense(64, activation = 'relu', kernel_regularizer = l2(.05)))\n",
    "model_nn.add(Dense(1, kernel_regularizer = l2(.05)))"
   ]
  },
  {
   "cell_type": "code",
   "execution_count": 20,
   "id": "24d31a32-b8f5-4ada-90d7-00930b4896ea",
   "metadata": {},
   "outputs": [],
   "source": [
    "model_nn.compile(optimizer = 'adam', loss = 'mse', metrics = ['mse'])"
   ]
  },
  {
   "cell_type": "code",
   "execution_count": 21,
   "id": "2b8b2888-5015-4ce4-9e99-d50b993ac856",
   "metadata": {
    "scrolled": true,
    "tags": []
   },
   "outputs": [
    {
     "name": "stdout",
     "output_type": "stream",
     "text": [
      "Epoch 1/100\n",
      "325/325 [==============================] - 2s 3ms/step - loss: 16.5399 - mse: 7.7455 - val_loss: 17.4322 - val_mse: 11.5520\n",
      "Epoch 2/100\n",
      "325/325 [==============================] - 1s 2ms/step - loss: 10.1485 - mse: 5.6717 - val_loss: 9.1807 - val_mse: 5.7802\n",
      "Epoch 3/100\n",
      "325/325 [==============================] - 1s 2ms/step - loss: 8.3192 - mse: 5.5500 - val_loss: 7.5141 - val_mse: 5.2600\n",
      "Epoch 4/100\n",
      "325/325 [==============================] - 1s 2ms/step - loss: 7.3167 - mse: 5.4029 - val_loss: 6.8087 - val_mse: 5.1802\n",
      "Epoch 5/100\n",
      "325/325 [==============================] - 1s 2ms/step - loss: 6.6913 - mse: 5.2580 - val_loss: 6.3716 - val_mse: 5.0975\n",
      "Epoch 6/100\n",
      "325/325 [==============================] - 1s 2ms/step - loss: 6.3773 - mse: 5.2331 - val_loss: 6.2009 - val_mse: 5.1646\n",
      "Epoch 7/100\n",
      "325/325 [==============================] - 1s 2ms/step - loss: 6.1108 - mse: 5.1562 - val_loss: 5.9723 - val_mse: 5.0834\n",
      "Epoch 8/100\n",
      "325/325 [==============================] - 1s 2ms/step - loss: 5.9425 - mse: 5.1115 - val_loss: 5.7868 - val_mse: 5.0075\n",
      "Epoch 9/100\n",
      "325/325 [==============================] - 1s 2ms/step - loss: 5.7733 - mse: 5.0296 - val_loss: 6.0437 - val_mse: 5.3222\n",
      "Epoch 10/100\n",
      "325/325 [==============================] - 1s 2ms/step - loss: 5.6560 - mse: 4.9703 - val_loss: 5.8001 - val_mse: 5.1512\n",
      "Epoch 11/100\n",
      "325/325 [==============================] - 1s 2ms/step - loss: 5.5433 - mse: 4.9037 - val_loss: 5.8249 - val_mse: 5.1877\n",
      "Epoch 12/100\n",
      "325/325 [==============================] - 1s 2ms/step - loss: 5.5309 - mse: 4.9223 - val_loss: 5.5404 - val_mse: 4.9409\n",
      "Epoch 13/100\n",
      "325/325 [==============================] - 1s 2ms/step - loss: 5.4374 - mse: 4.8561 - val_loss: 5.6616 - val_mse: 5.0816\n",
      "Epoch 14/100\n",
      "325/325 [==============================] - 1s 2ms/step - loss: 5.4980 - mse: 4.9348 - val_loss: 5.7957 - val_mse: 5.2288\n",
      "Epoch 15/100\n",
      "325/325 [==============================] - 1s 2ms/step - loss: 5.4415 - mse: 4.8953 - val_loss: 5.6235 - val_mse: 5.0995\n",
      "Epoch 16/100\n",
      "325/325 [==============================] - 1s 2ms/step - loss: 5.3350 - mse: 4.8042 - val_loss: 5.3451 - val_mse: 4.8219\n",
      "Epoch 17/100\n",
      "325/325 [==============================] - 1s 2ms/step - loss: 5.3522 - mse: 4.8306 - val_loss: 5.3581 - val_mse: 4.8471\n",
      "Epoch 18/100\n",
      "325/325 [==============================] - 1s 2ms/step - loss: 5.2942 - mse: 4.7842 - val_loss: 5.4047 - val_mse: 4.9091\n",
      "Epoch 19/100\n",
      "325/325 [==============================] - 1s 2ms/step - loss: 5.2849 - mse: 4.7812 - val_loss: 5.4839 - val_mse: 4.9781\n",
      "Epoch 20/100\n",
      "325/325 [==============================] - 1s 2ms/step - loss: 5.2634 - mse: 4.7626 - val_loss: 5.4441 - val_mse: 4.9470\n",
      "Epoch 21/100\n",
      "325/325 [==============================] - 1s 2ms/step - loss: 5.2390 - mse: 4.7435 - val_loss: 5.3065 - val_mse: 4.8071\n",
      "Epoch 22/100\n",
      "325/325 [==============================] - 1s 2ms/step - loss: 5.2114 - mse: 4.7210 - val_loss: 5.3335 - val_mse: 4.8505\n",
      "Epoch 23/100\n",
      "325/325 [==============================] - 1s 2ms/step - loss: 5.2622 - mse: 4.7761 - val_loss: 5.2170 - val_mse: 4.7334\n",
      "Epoch 24/100\n",
      "325/325 [==============================] - 1s 2ms/step - loss: 5.2344 - mse: 4.7493 - val_loss: 5.2778 - val_mse: 4.7946\n",
      "Epoch 25/100\n",
      "325/325 [==============================] - 1s 2ms/step - loss: 5.2057 - mse: 4.7257 - val_loss: 5.1992 - val_mse: 4.7143\n",
      "Epoch 26/100\n",
      "325/325 [==============================] - 1s 2ms/step - loss: 5.1770 - mse: 4.6988 - val_loss: 5.2571 - val_mse: 4.7828\n",
      "Epoch 27/100\n",
      "325/325 [==============================] - 1s 2ms/step - loss: 5.1453 - mse: 4.6661 - val_loss: 5.1979 - val_mse: 4.7265\n",
      "Epoch 28/100\n",
      "325/325 [==============================] - 1s 2ms/step - loss: 5.1637 - mse: 4.6887 - val_loss: 5.1294 - val_mse: 4.6578\n",
      "Epoch 29/100\n",
      "325/325 [==============================] - 1s 2ms/step - loss: 5.1517 - mse: 4.6796 - val_loss: 5.2041 - val_mse: 4.7354\n",
      "Epoch 30/100\n",
      "325/325 [==============================] - 1s 2ms/step - loss: 5.2049 - mse: 4.7331 - val_loss: 5.4174 - val_mse: 4.9380\n",
      "Epoch 31/100\n",
      "325/325 [==============================] - 1s 2ms/step - loss: 5.1353 - mse: 4.6617 - val_loss: 5.1612 - val_mse: 4.6939\n",
      "Epoch 32/100\n",
      "325/325 [==============================] - 1s 2ms/step - loss: 5.1474 - mse: 4.6771 - val_loss: 5.1351 - val_mse: 4.6669\n",
      "Epoch 33/100\n",
      "325/325 [==============================] - 1s 2ms/step - loss: 5.1575 - mse: 4.6887 - val_loss: 5.2320 - val_mse: 4.7596\n",
      "Epoch 34/100\n",
      "325/325 [==============================] - 1s 2ms/step - loss: 5.1055 - mse: 4.6327 - val_loss: 5.2047 - val_mse: 4.7429\n",
      "Epoch 35/100\n",
      "325/325 [==============================] - 1s 2ms/step - loss: 5.0879 - mse: 4.6156 - val_loss: 5.1338 - val_mse: 4.6655\n",
      "Epoch 36/100\n",
      "325/325 [==============================] - 1s 2ms/step - loss: 5.0664 - mse: 4.5965 - val_loss: 5.2481 - val_mse: 4.7830\n",
      "Epoch 37/100\n",
      "325/325 [==============================] - 1s 2ms/step - loss: 5.1190 - mse: 4.6528 - val_loss: 5.1750 - val_mse: 4.7203\n",
      "Epoch 38/100\n",
      "325/325 [==============================] - 1s 2ms/step - loss: 5.0908 - mse: 4.6249 - val_loss: 5.2903 - val_mse: 4.8179\n",
      "Epoch 39/100\n",
      "325/325 [==============================] - 1s 2ms/step - loss: 5.1972 - mse: 4.7242 - val_loss: 5.1283 - val_mse: 4.6595\n",
      "Epoch 40/100\n",
      "325/325 [==============================] - 1s 2ms/step - loss: 5.0260 - mse: 4.5542 - val_loss: 5.0765 - val_mse: 4.6011\n",
      "Epoch 41/100\n",
      "325/325 [==============================] - 1s 2ms/step - loss: 5.0241 - mse: 4.5487 - val_loss: 5.1927 - val_mse: 4.7284\n",
      "Epoch 42/100\n",
      "325/325 [==============================] - 1s 2ms/step - loss: 5.0510 - mse: 4.5864 - val_loss: 5.1214 - val_mse: 4.6545\n",
      "Epoch 43/100\n",
      "325/325 [==============================] - 1s 2ms/step - loss: 5.0191 - mse: 4.5454 - val_loss: 5.0541 - val_mse: 4.5851\n",
      "Epoch 44/100\n",
      "325/325 [==============================] - 1s 2ms/step - loss: 5.0298 - mse: 4.5571 - val_loss: 5.0877 - val_mse: 4.6167\n",
      "Epoch 45/100\n",
      "325/325 [==============================] - 1s 2ms/step - loss: 4.9954 - mse: 4.5203 - val_loss: 4.9744 - val_mse: 4.5067\n",
      "Epoch 46/100\n",
      "325/325 [==============================] - 1s 2ms/step - loss: 5.0001 - mse: 4.5287 - val_loss: 5.0751 - val_mse: 4.5970\n",
      "Epoch 47/100\n",
      "325/325 [==============================] - 1s 2ms/step - loss: 4.9740 - mse: 4.4984 - val_loss: 4.9926 - val_mse: 4.5195\n",
      "Epoch 48/100\n",
      "325/325 [==============================] - 1s 2ms/step - loss: 4.9703 - mse: 4.4969 - val_loss: 5.1150 - val_mse: 4.6478\n",
      "Epoch 49/100\n",
      "325/325 [==============================] - 1s 2ms/step - loss: 4.9529 - mse: 4.4812 - val_loss: 5.0835 - val_mse: 4.6133\n",
      "Epoch 50/100\n",
      "325/325 [==============================] - 1s 2ms/step - loss: 5.0031 - mse: 4.5292 - val_loss: 5.0975 - val_mse: 4.6246\n",
      "Epoch 51/100\n",
      "325/325 [==============================] - 1s 2ms/step - loss: 4.9459 - mse: 4.4746 - val_loss: 5.1833 - val_mse: 4.7166\n",
      "Epoch 52/100\n",
      "325/325 [==============================] - 1s 2ms/step - loss: 4.9413 - mse: 4.4688 - val_loss: 5.1674 - val_mse: 4.7011\n",
      "Epoch 53/100\n",
      "325/325 [==============================] - 1s 2ms/step - loss: 4.9687 - mse: 4.5001 - val_loss: 5.1060 - val_mse: 4.6391\n",
      "Epoch 54/100\n",
      "325/325 [==============================] - 1s 2ms/step - loss: 5.0171 - mse: 4.5478 - val_loss: 5.2732 - val_mse: 4.7946\n",
      "Epoch 55/100\n",
      "325/325 [==============================] - 1s 2ms/step - loss: 4.9866 - mse: 4.5161 - val_loss: 5.0238 - val_mse: 4.5492\n",
      "Epoch 56/100\n",
      "325/325 [==============================] - 1s 2ms/step - loss: 4.9539 - mse: 4.4823 - val_loss: 5.1626 - val_mse: 4.6955\n",
      "Epoch 57/100\n",
      "325/325 [==============================] - 1s 2ms/step - loss: 4.9478 - mse: 4.4816 - val_loss: 5.0396 - val_mse: 4.5667\n",
      "Epoch 58/100\n",
      "325/325 [==============================] - 1s 2ms/step - loss: 4.9311 - mse: 4.4580 - val_loss: 5.1146 - val_mse: 4.6448\n",
      "Epoch 59/100\n",
      "325/325 [==============================] - 1s 2ms/step - loss: 4.9398 - mse: 4.4720 - val_loss: 5.4546 - val_mse: 5.0043\n",
      "Epoch 60/100\n",
      "325/325 [==============================] - 1s 2ms/step - loss: 4.9194 - mse: 4.4569 - val_loss: 5.0458 - val_mse: 4.5789\n",
      "Epoch 61/100\n",
      "325/325 [==============================] - 1s 2ms/step - loss: 4.9126 - mse: 4.4500 - val_loss: 5.0993 - val_mse: 4.6409\n",
      "Epoch 62/100\n",
      "325/325 [==============================] - 1s 2ms/step - loss: 4.8686 - mse: 4.4047 - val_loss: 5.1069 - val_mse: 4.6424\n",
      "Epoch 63/100\n",
      "325/325 [==============================] - 1s 2ms/step - loss: 4.9817 - mse: 4.5205 - val_loss: 5.3290 - val_mse: 4.8566\n",
      "Epoch 64/100\n",
      "325/325 [==============================] - 1s 2ms/step - loss: 4.8887 - mse: 4.4269 - val_loss: 5.0308 - val_mse: 4.5698\n",
      "Epoch 65/100\n",
      "325/325 [==============================] - 1s 2ms/step - loss: 4.8783 - mse: 4.4197 - val_loss: 4.9064 - val_mse: 4.4397\n",
      "Epoch 66/100\n",
      "325/325 [==============================] - 1s 2ms/step - loss: 4.8938 - mse: 4.4320 - val_loss: 4.9620 - val_mse: 4.5058\n",
      "Epoch 67/100\n",
      "325/325 [==============================] - 1s 2ms/step - loss: 4.8938 - mse: 4.4371 - val_loss: 4.9833 - val_mse: 4.5396\n",
      "Epoch 68/100\n",
      "325/325 [==============================] - 1s 2ms/step - loss: 4.8760 - mse: 4.4225 - val_loss: 5.1051 - val_mse: 4.6572\n",
      "Epoch 69/100\n",
      "325/325 [==============================] - 1s 2ms/step - loss: 4.8768 - mse: 4.4232 - val_loss: 5.0802 - val_mse: 4.6130\n",
      "Epoch 70/100\n",
      "325/325 [==============================] - 1s 2ms/step - loss: 4.9024 - mse: 4.4466 - val_loss: 5.0024 - val_mse: 4.5456\n",
      "Epoch 71/100\n",
      "325/325 [==============================] - 1s 2ms/step - loss: 4.8760 - mse: 4.4239 - val_loss: 5.0344 - val_mse: 4.5850\n",
      "Epoch 72/100\n",
      "325/325 [==============================] - 1s 2ms/step - loss: 4.8856 - mse: 4.4287 - val_loss: 5.0971 - val_mse: 4.6461\n",
      "Epoch 73/100\n",
      "325/325 [==============================] - 1s 2ms/step - loss: 4.8735 - mse: 4.4189 - val_loss: 5.1303 - val_mse: 4.6773\n",
      "Epoch 74/100\n",
      "325/325 [==============================] - 1s 2ms/step - loss: 4.8715 - mse: 4.4163 - val_loss: 5.0655 - val_mse: 4.6175\n",
      "Epoch 75/100\n",
      "325/325 [==============================] - 1s 2ms/step - loss: 4.8746 - mse: 4.4231 - val_loss: 4.9327 - val_mse: 4.4805\n",
      "Epoch 76/100\n",
      "325/325 [==============================] - 1s 2ms/step - loss: 4.8024 - mse: 4.3476 - val_loss: 5.1645 - val_mse: 4.7274\n",
      "Epoch 77/100\n",
      "325/325 [==============================] - 1s 2ms/step - loss: 4.8835 - mse: 4.4344 - val_loss: 4.9114 - val_mse: 4.4613\n",
      "Epoch 78/100\n",
      "325/325 [==============================] - 1s 2ms/step - loss: 4.8346 - mse: 4.3876 - val_loss: 4.9694 - val_mse: 4.5215\n",
      "Epoch 79/100\n",
      "325/325 [==============================] - 1s 2ms/step - loss: 4.8932 - mse: 4.4461 - val_loss: 4.9968 - val_mse: 4.5549\n",
      "Epoch 80/100\n",
      "325/325 [==============================] - 1s 2ms/step - loss: 4.8644 - mse: 4.4182 - val_loss: 4.8950 - val_mse: 4.4519\n",
      "Epoch 81/100\n",
      "325/325 [==============================] - 1s 2ms/step - loss: 4.8415 - mse: 4.3939 - val_loss: 4.9872 - val_mse: 4.5406\n",
      "Epoch 82/100\n",
      "325/325 [==============================] - 1s 2ms/step - loss: 4.8490 - mse: 4.4007 - val_loss: 4.9947 - val_mse: 4.5510\n",
      "Epoch 83/100\n",
      "325/325 [==============================] - 1s 2ms/step - loss: 4.8596 - mse: 4.4138 - val_loss: 4.9368 - val_mse: 4.4953\n",
      "Epoch 84/100\n",
      "325/325 [==============================] - 1s 2ms/step - loss: 4.8532 - mse: 4.4065 - val_loss: 4.9813 - val_mse: 4.5277\n",
      "Epoch 85/100\n",
      "325/325 [==============================] - 1s 2ms/step - loss: 4.8510 - mse: 4.4004 - val_loss: 5.1225 - val_mse: 4.6707\n",
      "Epoch 86/100\n",
      "325/325 [==============================] - 1s 2ms/step - loss: 4.8468 - mse: 4.3972 - val_loss: 5.0061 - val_mse: 4.5558\n",
      "Epoch 87/100\n",
      "325/325 [==============================] - 1s 2ms/step - loss: 4.8472 - mse: 4.3986 - val_loss: 4.9204 - val_mse: 4.4734\n",
      "Epoch 88/100\n",
      "325/325 [==============================] - 1s 2ms/step - loss: 4.8494 - mse: 4.4040 - val_loss: 4.8960 - val_mse: 4.4535\n",
      "Epoch 89/100\n",
      "325/325 [==============================] - 1s 2ms/step - loss: 4.8485 - mse: 4.4048 - val_loss: 4.9016 - val_mse: 4.4562\n",
      "Epoch 90/100\n",
      "325/325 [==============================] - 1s 2ms/step - loss: 4.8473 - mse: 4.4018 - val_loss: 5.0394 - val_mse: 4.5961\n",
      "Epoch 91/100\n",
      "325/325 [==============================] - 1s 2ms/step - loss: 4.8199 - mse: 4.3731 - val_loss: 4.9487 - val_mse: 4.5076\n",
      "Epoch 92/100\n",
      "325/325 [==============================] - 1s 2ms/step - loss: 4.8112 - mse: 4.3643 - val_loss: 5.0155 - val_mse: 4.5678\n",
      "Epoch 93/100\n",
      "325/325 [==============================] - 1s 2ms/step - loss: 4.8429 - mse: 4.3969 - val_loss: 5.0810 - val_mse: 4.6295\n",
      "Epoch 94/100\n",
      "325/325 [==============================] - 1s 2ms/step - loss: 4.8399 - mse: 4.3939 - val_loss: 5.0235 - val_mse: 4.5741\n",
      "Epoch 95/100\n",
      "325/325 [==============================] - 1s 2ms/step - loss: 4.7729 - mse: 4.3283 - val_loss: 4.9070 - val_mse: 4.4640\n",
      "Epoch 96/100\n",
      "325/325 [==============================] - 1s 2ms/step - loss: 4.8316 - mse: 4.3901 - val_loss: 4.9933 - val_mse: 4.5535\n",
      "Epoch 97/100\n",
      "325/325 [==============================] - 1s 2ms/step - loss: 4.7890 - mse: 4.3466 - val_loss: 4.9366 - val_mse: 4.4977\n",
      "Epoch 98/100\n",
      "325/325 [==============================] - 1s 2ms/step - loss: 4.8048 - mse: 4.3609 - val_loss: 5.0323 - val_mse: 4.5751\n",
      "Epoch 99/100\n",
      "325/325 [==============================] - 1s 2ms/step - loss: 4.8253 - mse: 4.3789 - val_loss: 5.1123 - val_mse: 4.6671\n",
      "Epoch 100/100\n",
      "325/325 [==============================] - 1s 2ms/step - loss: 4.8025 - mse: 4.3623 - val_loss: 4.9232 - val_mse: 4.4865\n"
     ]
    }
   ],
   "source": [
    "history_nn = model_nn.fit(X_nn_train_sc, y_nn_train, epochs = 100, verbose = 1, validation_data = (X_nn_test_sc, y_nn_test))"
   ]
  },
  {
   "cell_type": "code",
   "execution_count": 22,
   "id": "93d16735-b433-479a-810c-82a041c1cacc",
   "metadata": {},
   "outputs": [
    {
     "data": {
      "image/png": "[encoded data removed]",
      "text/plain": [
       "<Figure size 1080x360 with 2 Axes>"
      ]
     },
     "metadata": {
      "needs_background": "light"
     },
     "output_type": "display_data"
    }
   ],
   "source": [
    "#breakfast hour\n",
    "fig, ax = plt.subplots(1, 2, figsize=(15, 5))\n",
    "\n",
    "ax[0].plot(history_nn.history['loss'], color = 'green')\n",
    "ax[1].plot(history_nn.history['val_loss'], color = 'blue')\n",
    "\n",
    "ax[0].set_title('Train')\n",
    "ax[0].set_xlabel('epochs')\n",
    "ax[0].set_ylabel('Loss = MSE')\n",
    "\n",
    "ax[1].set_title('Test')\n",
    "ax[1].set_xlabel('epochs')\n",
    "ax[1].set_ylabel('Loss = MSE');"
   ]
  },
  {
   "cell_type": "code",
   "execution_count": 23,
   "id": "3d1550d5-b173-4847-91c7-e340b294d531",
   "metadata": {},
   "outputs": [
    {
     "name": "stdout",
     "output_type": "stream",
     "text": [
      "109/109 [==============================] - 0s 867us/step\n"
     ]
    }
   ],
   "source": [
    "y_nn_pred = model_nn.predict(X_nn_test_sc)"
   ]
  },
  {
   "cell_type": "code",
   "execution_count": 25,
   "id": "64ec3675-302a-40b7-bef9-f1bb635d108e",
   "metadata": {},
   "outputs": [
    {
     "data": {
      "text/plain": [
       "0.6778834466729438"
      ]
     },
     "execution_count": 25,
     "metadata": {},
     "output_type": "execute_result"
    }
   ],
   "source": [
    "# taking a peak at R2\n",
    "np.sqrt(metrics.r2_score(y_nn_test, y_nn_pred))"
   ]
  },
  {
   "cell_type": "code",
   "execution_count": null,
   "id": "7e4c91e8-9622-4744-80f6-237e15c94db5",
   "metadata": {},
   "outputs": [],
   "source": []
  }
 ],
 "metadata": {
  "kernelspec": {
   "display_name": "Python 3 (ipykernel)",
   "language": "python",
   "name": "python3"
  },
  "language_info": {
   "codemirror_mode": {
    "name": "ipython",
    "version": 3
   },
   "file_extension": ".py",
   "mimetype": "text/x-python",
   "name": "python",
   "nbconvert_exporter": "python",
   "pygments_lexer": "ipython3",
   "version": "3.9.12"
  }
 },
 "nbformat": 4,
 "nbformat_minor": 5
}
