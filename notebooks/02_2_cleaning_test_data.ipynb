{
 "cells": [
  {
   "cell_type": "markdown",
   "id": "1f430d1c-ff02-4f4c-997b-b8625379c99e",
   "metadata": {},
   "source": [
    "# Imports"
   ]
  },
  {
   "cell_type": "code",
   "execution_count": 1,
   "id": "37fd35b0-977c-4f4e-a6ba-532967fa4c1a",
   "metadata": {},
   "outputs": [],
   "source": [
    "import pandas as pd\n",
    "import math\n",
    "import numpy as np\n",
    "import matplotlib.pyplot as plt\n",
    "# https://towardsdatascience.com/calculating-distance-between-two-geolocations-in-python-26ad3afe287b\n",
    "import haversine as hs\n",
    "# https://www.geeksforgeeks.org/read-multiple-csv-files-into-separate-dataframes-in-python/\n",
    "import os\n",
    "# https://www.statology.org/pandas-merge-multiple-dataframes/\n",
    "from functools import reduce\n",
    "\n",
    "import warnings\n",
    "warnings.simplefilter(\"ignore\")"
   ]
  },
  {
   "cell_type": "code",
   "execution_count": 2,
   "id": "b49e558b-aec5-42d1-b679-f3e1ae569e40",
   "metadata": {},
   "outputs": [],
   "source": [
    "test = pd.read_csv('../data/monthly_test_data/latlong_1k.csv')"
   ]
  },
  {
   "cell_type": "code",
   "execution_count": 3,
   "id": "385f9557-49f9-45be-8011-4ec4ffe52277",
   "metadata": {},
   "outputs": [
    {
     "data": {
      "text/html": [
       "<div>\n",
       "<style scoped>\n",
       "    .dataframe tbody tr th:only-of-type {\n",
       "        vertical-align: middle;\n",
       "    }\n",
       "\n",
       "    .dataframe tbody tr th {\n",
       "        vertical-align: top;\n",
       "    }\n",
       "\n",
       "    .dataframe thead th {\n",
       "        text-align: right;\n",
       "    }\n",
       "</style>\n",
       "<table border=\"1\" class=\"dataframe\">\n",
       "  <thead>\n",
       "    <tr style=\"text-align: right;\">\n",
       "      <th></th>\n",
       "      <th>lat</th>\n",
       "      <th>lon</th>\n",
       "    </tr>\n",
       "  </thead>\n",
       "  <tbody>\n",
       "    <tr>\n",
       "      <th>0</th>\n",
       "      <td>29.93341</td>\n",
       "      <td>-107.66498</td>\n",
       "    </tr>\n",
       "    <tr>\n",
       "      <th>1</th>\n",
       "      <td>31.82435</td>\n",
       "      <td>-107.78995</td>\n",
       "    </tr>\n",
       "    <tr>\n",
       "      <th>2</th>\n",
       "      <td>40.26557</td>\n",
       "      <td>-95.42612</td>\n",
       "    </tr>\n",
       "    <tr>\n",
       "      <th>3</th>\n",
       "      <td>37.58588</td>\n",
       "      <td>-95.80647</td>\n",
       "    </tr>\n",
       "    <tr>\n",
       "      <th>4</th>\n",
       "      <td>35.45730</td>\n",
       "      <td>-93.47630</td>\n",
       "    </tr>\n",
       "  </tbody>\n",
       "</table>\n",
       "</div>"
      ],
      "text/plain": [
       "        lat        lon\n",
       "0  29.93341 -107.66498\n",
       "1  31.82435 -107.78995\n",
       "2  40.26557  -95.42612\n",
       "3  37.58588  -95.80647\n",
       "4  35.45730  -93.47630"
      ]
     },
     "execution_count": 3,
     "metadata": {},
     "output_type": "execute_result"
    }
   ],
   "source": [
    "test.head()"
   ]
  },
  {
   "cell_type": "markdown",
   "id": "47bdd3ba-29bf-4733-ae4e-4dcd2f5dcc76",
   "metadata": {
    "tags": []
   },
   "source": [
    "# Functions"
   ]
  },
  {
   "cell_type": "markdown",
   "id": "d89d5229-81bb-4b3c-bfc0-7152bbf22ce3",
   "metadata": {
    "jp-MarkdownHeadingCollapsed": true,
    "tags": []
   },
   "source": [
    "## Variable Extraction by Lat/Lon"
   ]
  },
  {
   "cell_type": "code",
   "execution_count": 4,
   "id": "6328f369-8d44-4ddd-93d8-73d137827f19",
   "metadata": {},
   "outputs": [],
   "source": [
    "def extract_feature(new_column_name, source_df_clean, extract_df, extract_df_lat_name, \n",
    "                    extract_df_lon_name, extract_df_value_column_name, lat_range = .1, lon_range = .1):\n",
    "\n",
    "    '''\n",
    "    Takes the latitude and logitude from test dataset and latitude and logitude from second dataset, \n",
    "    finds the most similar lat and long, by running a haversine function, then extracts the value and inputs into the epa\n",
    "    dataset row with the closest lat/lon\n",
    "    \n",
    "    input:\n",
    "        new_column_name: the name you want to give to the new epa column\n",
    "        source_df: dataset to pull search lat/lon from and apply new values column (test)\n",
    "        extract_df: name of dataset to extract value from\n",
    "        extract_df_lat_name: name of latitude column from extract_df\n",
    "        extract_df_lon_name: name of longitude column from extract_df\n",
    "        extract_df_value_column_name: name of the column where the values to extract are located\n",
    "        lat_range = range to search for latitudes, default is .1 unless specified\n",
    "        lon_range = range to search for latitudes, default is .1 unless specified\n",
    "    \n",
    "    output: \n",
    "        epa dataset with new column - assign function, with inputs, to variable to get new df\n",
    "    '''\n",
    "    \n",
    "    # create empty list for extracted values \n",
    "    # each value is extracted per row of the source_df and compared with lat/lon's in range from the extract_df\n",
    "    extracted_values_list = [] \n",
    "    source_df = source_df_clean.copy()\n",
    "    # uncomment for testing\n",
    "    # source_df = source_df[:6]\n",
    "    try:\n",
    "        for i in range(len(source_df)):\n",
    "            #### search extract df for latitudes in range of test latitudes and test latitudes +- range\n",
    "\n",
    "            ## create range of lat and lon from source_df to search within\n",
    "\n",
    "            # create lat range\n",
    "            lat_search = float(source_df.iloc[i]['lat']) \n",
    "            lat_search_c_ceiling = lat_search + lat_range \n",
    "            lat_search_c_floor = lat_search - lat_range\n",
    "\n",
    "            # create lon range\n",
    "            lon_search = float(source_df.iloc[i]['lon']) \n",
    "            lon_search_c_ceiling = lon_search + lon_range\n",
    "            lon_search_c_floor = lon_search - lon_range\n",
    "\n",
    "            ## subset extraction_df by lat/lon floors and ceilings\n",
    "\n",
    "            # subset extraction df by latitudes in range of test latitude for i\n",
    "            # https://www.geeksforgeeks.org/numpy-where-in-python/\n",
    "            lat_extraction_df = extract_df.loc[np.where(\n",
    "                ((extract_df[extract_df_lat_name] >= lat_search_c_floor) & \n",
    "                 (extract_df[extract_df_lat_name] <= lat_search_c_ceiling))\n",
    "            )].reset_index(drop = True)\n",
    "\n",
    "            # subset lat_extraction_df by longitudes in range of test longitude for i\n",
    "            lon_from_lat_extraction_df = lat_extraction_df.loc[np.where(\n",
    "                ((lat_extraction_df[extract_df_lon_name] >= lon_search_c_floor) & \n",
    "                 (lat_extraction_df[extract_df_lon_name] <= lon_search_c_ceiling))\n",
    "            )]\n",
    "            if len(lon_from_lat_extraction_df) != 0:\n",
    "                \n",
    "                #### pull the row with the smallest haversine distance from the test lat/lon\n",
    "\n",
    "                # grab lat/lon of current row of source_df (i)\n",
    "                source_df_i_lat = float(source_df.iloc[i]['lat'])\n",
    "                source_df_i_lon = float(source_df.iloc[i]['lon'])\n",
    "\n",
    "                # create list of haversine values in range of source_df lat/lon current row\n",
    "                hav_list = []\n",
    "                for j in range(len(lon_from_lat_extraction_df)):\n",
    "                    loc1 = (source_df_i_lat, source_df_i_lon)\n",
    "                    loc2 = (float(lon_from_lat_extraction_df.iloc[j][extract_df_lat_name]), float(lon_from_lat_extraction_df.iloc[j][extract_df_lon_name]))\n",
    "                    hav = hs.haversine(loc1, loc2)\n",
    "                    hav_list.append(float(hav))\n",
    "\n",
    "                # add haversine column and values to current row's temporary subset dataframe\n",
    "                lon_from_lat_extraction_df['haversine'] = hav_list\n",
    "\n",
    "                # find extracted value from temporary subset dataframe based on minimum haversine\n",
    "                hav_min = lon_from_lat_extraction_df['haversine'].min()\n",
    "                extracted_row = lon_from_lat_extraction_df[lon_from_lat_extraction_df['haversine'] == hav_min].index\n",
    "                # https://stackoverflow.com/questions/62235344/how-to-return-a-cell-value-from-pandas-instead-of-a-series\n",
    "                extracted_value = lon_from_lat_extraction_df.loc[extracted_row, extract_df_value_column_name].values[0]\n",
    "                extracted_values_list.append(extracted_value)\n",
    "            \n",
    "            else:\n",
    "                extracted_values_list.append(np.nan)\n",
    "\n",
    "    except IndexError:\n",
    "        print(f'Index Error at row {i}')\n",
    "\n",
    "    # set new epa column with name\n",
    "    source_df[new_column_name] = extracted_values_list\n",
    "    \n",
    "    return source_df"
   ]
  },
  {
   "cell_type": "markdown",
   "id": "3bce911e-e0c7-42f8-9925-8c5ecd1a9674",
   "metadata": {
    "jp-MarkdownHeadingCollapsed": true,
    "tags": []
   },
   "source": [
    "## Read in Monthly CSVs"
   ]
  },
  {
   "cell_type": "code",
   "execution_count": 5,
   "id": "50eb4e01-4c1b-40e0-9a71-87ad161ce9d5",
   "metadata": {},
   "outputs": [],
   "source": [
    "def get_monthly_datasets(file_path):\n",
    "    '''\n",
    "    Goes into a parent folder and creates a dataset for each csv file in that folder. Must have 12 files.\n",
    "\n",
    "    file_path: file path for the parent folder of the files\n",
    "\n",
    "    Output: A dataset for each file (assign the function to the dataset names, in sequence of files)\n",
    "    '''\n",
    "    # https://www.geeksforgeeks.org/read-multiple-csv-files-into-separate-dataframes-in-python/\n",
    "    \n",
    "    # assign path\n",
    "    path, dirs, files = next(os.walk(file_path))\n",
    "    file_count = len(files)\n",
    "    # create empty list\n",
    "    dataframes_list = []\n",
    "\n",
    "    # append datasets to the list\n",
    "    for i in range(file_count):\n",
    "        if files[i].__contains__('.csv'):\n",
    "            temp_df = pd.read_csv(file_path+files[i])\n",
    "            print(file_path+files[i])\n",
    "            if 'Unnamed: 0' in temp_df.columns:\n",
    "                temp_df.drop(['Unnamed: 0'], axis = 1, inplace = True)\n",
    "                dataframes_list.append(temp_df)\n",
    "            else:\n",
    "                dataframes_list.append(temp_df)\n",
    "        else:\n",
    "            pass\n",
    "        \n",
    "    return dataframes_list"
   ]
  },
  {
   "cell_type": "markdown",
   "id": "105032a4-7af8-4758-b7ca-fb1cdc1edbe8",
   "metadata": {
    "jp-MarkdownHeadingCollapsed": true,
    "tags": []
   },
   "source": [
    "# Extract Monthly CSV Files to DFs"
   ]
  },
  {
   "cell_type": "code",
   "execution_count": 6,
   "id": "b36eaeb2-14f5-4fea-8c99-4be36cd7cfb3",
   "metadata": {},
   "outputs": [
    {
     "name": "stdout",
     "output_type": "stream",
     "text": [
      "../data/AODdata_cleaned/2018/AOD_08.csv\n",
      "../data/AODdata_cleaned/2018/AOD_09.csv\n",
      "../data/AODdata_cleaned/2018/AOD_07.csv\n",
      "../data/AODdata_cleaned/2018/AOD_12.csv\n",
      "../data/AODdata_cleaned/2018/AOD_06.csv\n",
      "../data/AODdata_cleaned/2018/AOD_10.csv\n",
      "../data/AODdata_cleaned/2018/AOD_05.csv\n",
      "../data/AODdata_cleaned/2018/AOD_11.csv\n"
     ]
    }
   ],
   "source": [
    "AOD_2018 = get_monthly_datasets('../data/AODdata_cleaned/2018/')"
   ]
  },
  {
   "cell_type": "code",
   "execution_count": 7,
   "id": "18f691f8-8438-4f4b-a21f-bc006e3db086",
   "metadata": {},
   "outputs": [],
   "source": [
    "# assigned in order of get_monthly_datasets output\n",
    "aod_18_8, aod_18_9, aod_18_7, aod_18_12, aod_18_6, aod_18_10, aod_18_5, aod_18_11 = [pd.DataFrame(each) for each in AOD_2018]"
   ]
  },
  {
   "cell_type": "code",
   "execution_count": 8,
   "id": "8b11748a-de05-4ced-9183-a253ae9943ee",
   "metadata": {},
   "outputs": [],
   "source": [
    "AOD_2018_list = [aod_18_8, aod_18_9, aod_18_7, aod_18_12, aod_18_6, aod_18_10, aod_18_5, aod_18_11]"
   ]
  },
  {
   "cell_type": "markdown",
   "id": "4c606dbc-4e45-437a-b749-0749514f829f",
   "metadata": {},
   "source": [
    "## AOD"
   ]
  },
  {
   "cell_type": "code",
   "execution_count": 9,
   "id": "825a230c-d810-4c20-a75d-7d2226abd4ba",
   "metadata": {},
   "outputs": [
    {
     "name": "stdout",
     "output_type": "stream",
     "text": [
      "../data/AODdata_cleaned/2019/AOD_08.csv\n",
      "../data/AODdata_cleaned/2019/AOD_09.csv\n",
      "../data/AODdata_cleaned/2019/AOD_01.csv\n",
      "../data/AODdata_cleaned/2019/AOD_02.csv\n",
      "../data/AODdata_cleaned/2019/AOD_03.csv\n",
      "../data/AODdata_cleaned/2019/AOD_07.csv\n",
      "../data/AODdata_cleaned/2019/AOD_12.csv\n",
      "../data/AODdata_cleaned/2019/AOD_06.csv\n",
      "../data/AODdata_cleaned/2019/AOD_10.csv\n",
      "../data/AODdata_cleaned/2019/AOD_04.csv\n",
      "../data/AODdata_cleaned/2019/AOD_05.csv\n",
      "../data/AODdata_cleaned/2019/AOD_11.csv\n"
     ]
    }
   ],
   "source": [
    "AOD_2019 = get_monthly_datasets('../data/AODdata_cleaned/2019/')"
   ]
  },
  {
   "cell_type": "code",
   "execution_count": 10,
   "id": "39431336-3f90-4b30-ac2b-c052e37b01e2",
   "metadata": {},
   "outputs": [],
   "source": [
    "aod_19_8, aod_19_9, aod_19_1, aod_19_2, aod_19_3, aod_19_7, aod_19_12, aod_19_6, aod_19_10, aod_19_4, aod_19_5, aod_19_11 = [pd.DataFrame(each) for each in AOD_2019]"
   ]
  },
  {
   "cell_type": "code",
   "execution_count": 11,
   "id": "a1bac6c1-d126-48eb-9ed9-f56ab4343b40",
   "metadata": {},
   "outputs": [],
   "source": [
    "AOD_2019_list = [aod_19_8, aod_19_9, aod_19_1, aod_19_2, aod_19_3, aod_19_7, aod_19_12, aod_19_6, aod_19_10, aod_19_4, aod_19_5, aod_19_11]"
   ]
  },
  {
   "cell_type": "markdown",
   "id": "cd5619ba-4ca3-4a53-bedb-f30957e239a7",
   "metadata": {
    "tags": []
   },
   "source": [
    "## NO2"
   ]
  },
  {
   "cell_type": "code",
   "execution_count": 15,
   "id": "abb31268-098e-4971-80ef-8db28cd08466",
   "metadata": {},
   "outputs": [
    {
     "name": "stdout",
     "output_type": "stream",
     "text": [
      "../data/NO2data_cleaned/2019/NO2_10.csv\n",
      "../data/NO2data_cleaned/2019/NO2_04.csv\n",
      "../data/NO2data_cleaned/2019/NO2_05.csv\n",
      "../data/NO2data_cleaned/2019/NO2_11.csv\n",
      "../data/NO2data_cleaned/2019/NO2_07.csv\n",
      "../data/NO2data_cleaned/2019/NO2_12.csv\n",
      "../data/NO2data_cleaned/2019/NO2_06.csv\n",
      "../data/NO2data_cleaned/2019/NO2_02.csv\n",
      "../data/NO2data_cleaned/2019/NO2_03.csv\n",
      "../data/NO2data_cleaned/2019/NO2_01.csv\n",
      "../data/NO2data_cleaned/2019/NO2_08.csv\n",
      "../data/NO2data_cleaned/2019/NO2_09.csv\n"
     ]
    }
   ],
   "source": [
    "NO2_2019 = get_monthly_datasets('../data/NO2data_cleaned/2019/')"
   ]
  },
  {
   "cell_type": "code",
   "execution_count": 16,
   "id": "d8a42931-1971-4b51-a928-3b93ff87161c",
   "metadata": {},
   "outputs": [],
   "source": [
    "no2_19_10, no2_19_4, no2_19_5, no2_19_11, no2_19_7, no2_19_12, no2_19_6, no2_19_2, no2_19_3, no2_19_1, no2_19_8, no2_19_9 = [pd.DataFrame(each) for each in NO2_2019]"
   ]
  },
  {
   "cell_type": "code",
   "execution_count": 17,
   "id": "9649cc25-00b8-46f5-ae3a-25cba92aeb8c",
   "metadata": {},
   "outputs": [],
   "source": [
    "NO2_2019_list = [no2_19_10, no2_19_4, no2_19_5, no2_19_11, no2_19_7, no2_19_12, no2_19_6, \n",
    "                 no2_19_2, no2_19_3, no2_19_1, no2_19_8, no2_19_9]"
   ]
  },
  {
   "cell_type": "markdown",
   "id": "5119f520-4034-41ef-9302-09e80d820b8f",
   "metadata": {
    "tags": []
   },
   "source": [
    "## Precipitation"
   ]
  },
  {
   "cell_type": "code",
   "execution_count": 21,
   "id": "46045080-051f-48a0-bc97-b08686b89c94",
   "metadata": {},
   "outputs": [
    {
     "name": "stdout",
     "output_type": "stream",
     "text": [
      "../data/precipdata_cleaned/2019/precip_02.csv\n",
      "../data/precipdata_cleaned/2019/precip_03.csv\n",
      "../data/precipdata_cleaned/2019/precip_01.csv\n",
      "../data/precipdata_cleaned/2019/precip_04.csv\n",
      "../data/precipdata_cleaned/2019/precip_10.csv\n",
      "../data/precipdata_cleaned/2019/precip_11.csv\n",
      "../data/precipdata_cleaned/2019/precip_05.csv\n",
      "../data/precipdata_cleaned/2019/precip_07.csv\n",
      "../data/precipdata_cleaned/2019/precip_06.csv\n",
      "../data/precipdata_cleaned/2019/precip_12.csv\n",
      "../data/precipdata_cleaned/2019/precip_08.csv\n",
      "../data/precipdata_cleaned/2019/precip_09.csv\n"
     ]
    }
   ],
   "source": [
    "P_2019 = get_monthly_datasets('../data/precipdata_cleaned/2019/')"
   ]
  },
  {
   "cell_type": "code",
   "execution_count": 22,
   "id": "1e9d6f42-1599-4d1a-922a-0595c2390f4b",
   "metadata": {},
   "outputs": [],
   "source": [
    "p_19_2, p_19_3, p_19_1, p_19_4, p_19_10, p_19_11, p_19_5, p_19_7, p_19_6, p_19_12, p_19_8, p_19_9 = [pd.DataFrame(each) for each in P_2019]"
   ]
  },
  {
   "cell_type": "code",
   "execution_count": 23,
   "id": "0effc4b1-a9f1-4200-acb8-2df00f0ff8c0",
   "metadata": {},
   "outputs": [],
   "source": [
    "P_2019_list = [p_19_2, p_19_3, p_19_1, p_19_4, p_19_10, p_19_11, p_19_5, p_19_7, p_19_6, p_19_12, p_19_8, p_19_9]"
   ]
  },
  {
   "cell_type": "markdown",
   "id": "2a604bf7-edaf-4d40-801a-8da6d5ce05fc",
   "metadata": {
    "tags": []
   },
   "source": [
    "## Temperature"
   ]
  },
  {
   "cell_type": "code",
   "execution_count": 27,
   "id": "66e8ffa7-5538-4014-93b8-70d2e501d947",
   "metadata": {},
   "outputs": [
    {
     "name": "stdout",
     "output_type": "stream",
     "text": [
      "../data/tempdata_cleaned/2019/temp_09.csv\n",
      "../data/tempdata_cleaned/2019/temp_08.csv\n",
      "../data/tempdata_cleaned/2019/temp_01.csv\n",
      "../data/tempdata_cleaned/2019/temp_03.csv\n",
      "../data/tempdata_cleaned/2019/temp_02.csv\n",
      "../data/tempdata_cleaned/2019/temp_12.csv\n",
      "../data/tempdata_cleaned/2019/temp_06.csv\n",
      "../data/tempdata_cleaned/2019/temp_07.csv\n",
      "../data/tempdata_cleaned/2019/temp_05.csv\n",
      "../data/tempdata_cleaned/2019/temp_11.csv\n",
      "../data/tempdata_cleaned/2019/temp_10.csv\n",
      "../data/tempdata_cleaned/2019/temp_04.csv\n"
     ]
    }
   ],
   "source": [
    "T_2019 = get_monthly_datasets('../data/tempdata_cleaned/2019/')"
   ]
  },
  {
   "cell_type": "code",
   "execution_count": 28,
   "id": "93c0cedf-0a50-4a5d-99c9-d02e438041e7",
   "metadata": {},
   "outputs": [],
   "source": [
    "t_19_9, t_19_8, t_19_1, t_19_3, t_19_2, t_19_12, t_19_6, t_19_7, t_19_5, t_19_11, t_19_10, t_19_4 = [pd.DataFrame(each) for each in T_2019]"
   ]
  },
  {
   "cell_type": "code",
   "execution_count": 29,
   "id": "787aea53-da6b-451e-8837-4ca1ee3100b3",
   "metadata": {},
   "outputs": [],
   "source": [
    "T_2019_list = [t_19_9, t_19_8, t_19_1, t_19_3, t_19_2, t_19_12, t_19_6, t_19_7, t_19_5, t_19_11, t_19_10, t_19_4]"
   ]
  },
  {
   "cell_type": "markdown",
   "id": "34ae1cf3-8675-4473-9a23-965214918768",
   "metadata": {
    "tags": []
   },
   "source": [
    "# Extract Lat/Lon for Each Month w/ Variables"
   ]
  },
  {
   "cell_type": "code",
   "execution_count": 30,
   "id": "1ab61f82-a85f-4cc0-966c-4033607cac98",
   "metadata": {},
   "outputs": [],
   "source": [
    "aod_18_8 = extract_feature('AOD_2018', test, aod_18_8, 'Latitude', 'Longitude', \n",
    "                         'AOD_550_AVG', lat_range = 1, lon_range = 1)"
   ]
  },
  {
   "cell_type": "code",
   "execution_count": 31,
   "id": "202e8723-c769-4a7c-9ac5-f9ebc034c0d7",
   "metadata": {},
   "outputs": [],
   "source": [
    "aod_18_9 = extract_feature('AOD_2018', test, aod_18_9, 'Latitude', 'Longitude', \n",
    "                         'AOD_550_AVG', lat_range = 1, lon_range = 1)"
   ]
  },
  {
   "cell_type": "code",
   "execution_count": 32,
   "id": "cbceb21c-3dd0-4b8e-af40-c438e108f638",
   "metadata": {},
   "outputs": [],
   "source": [
    "aod_18_7 = extract_feature('AOD_2018', test, aod_18_7, 'Latitude', 'Longitude', \n",
    "                         'AOD_550_AVG', lat_range = 1, lon_range = 1)"
   ]
  },
  {
   "cell_type": "code",
   "execution_count": 33,
   "id": "534bc2d7-f212-4623-9dd3-fc588e445440",
   "metadata": {},
   "outputs": [],
   "source": [
    "aod_18_12 = extract_feature('AOD_2018', test, aod_18_12, 'Latitude', 'Longitude', \n",
    "                         'AOD_550_AVG', lat_range = 1, lon_range = 1)"
   ]
  },
  {
   "cell_type": "code",
   "execution_count": 34,
   "id": "77c3a939-55bd-428c-8ad7-f3c3063936bf",
   "metadata": {},
   "outputs": [],
   "source": [
    "aod_18_6 = extract_feature('AOD_2018', test, aod_18_6, 'Latitude', 'Longitude', \n",
    "                         'AOD_550_AVG', lat_range = 1, lon_range = 1)"
   ]
  },
  {
   "cell_type": "code",
   "execution_count": 35,
   "id": "e432ceb6-42fb-446f-b7c0-eb5122973965",
   "metadata": {},
   "outputs": [],
   "source": [
    "aod_18_10 = extract_feature('AOD_2018', test, aod_18_10, 'Latitude', 'Longitude', \n",
    "                         'AOD_550_AVG', lat_range = 1, lon_range = 1)"
   ]
  },
  {
   "cell_type": "code",
   "execution_count": 36,
   "id": "e61b66ff-82d2-485f-9386-bbf17278420c",
   "metadata": {},
   "outputs": [],
   "source": [
    "aod_18_5 = extract_feature('AOD_2018', test, aod_18_5, 'Latitude', 'Longitude', \n",
    "                         'AOD_550_AVG', lat_range = 1, lon_range = 1)"
   ]
  },
  {
   "cell_type": "code",
   "execution_count": 37,
   "id": "70a26a24-137f-4c77-a803-001cae8b953d",
   "metadata": {},
   "outputs": [],
   "source": [
    "aod_18_11 = extract_feature('AOD_2018', test, aod_18_11, 'Latitude', 'Longitude', \n",
    "                         'AOD_550_AVG', lat_range = 1, lon_range = 1)"
   ]
  },
  {
   "cell_type": "markdown",
   "id": "e87b29e5-775b-44ab-b1b8-753bd88ac343",
   "metadata": {
    "jp-MarkdownHeadingCollapsed": true,
    "tags": []
   },
   "source": [
    "## AOD 2019\n",
    "aod_19_8, aod_19_9, aod_19_1, aod_19_2, aod_19_3, aod_19_7, aod_19_12, aod_19_6, aod_19_10, aod_19_4, aod_19_5, aod_19_11"
   ]
  },
  {
   "cell_type": "code",
   "execution_count": 38,
   "id": "ffba9595-bd6a-41ad-b306-70f44ef870a1",
   "metadata": {},
   "outputs": [],
   "source": [
    "aod_19_8 = extract_feature('AOD_2019', test, aod_19_8, 'Latitude', 'Longitude', \n",
    "                         'AOD_550_AVG', lat_range = 1, lon_range = 1)"
   ]
  },
  {
   "cell_type": "code",
   "execution_count": 39,
   "id": "9e390f16-92f2-4888-b873-59d326307fe4",
   "metadata": {},
   "outputs": [],
   "source": [
    "aod_19_9 = extract_feature('AOD_2019', test, aod_19_9, 'Latitude', 'Longitude', \n",
    "                         'AOD_550_AVG', lat_range = 1, lon_range = 1)"
   ]
  },
  {
   "cell_type": "code",
   "execution_count": 40,
   "id": "1d07d991-ef02-4d4c-ad75-b112087effbc",
   "metadata": {},
   "outputs": [],
   "source": [
    "aod_19_1 = extract_feature('AOD_2019', test, aod_19_1, 'Latitude', 'Longitude', \n",
    "                         'AOD_550_AVG', lat_range = 1, lon_range = 1)"
   ]
  },
  {
   "cell_type": "code",
   "execution_count": 41,
   "id": "6ee31cf0-b9b9-4280-9ddd-4705b4463d56",
   "metadata": {},
   "outputs": [],
   "source": [
    "aod_19_2 = extract_feature('AOD_2019', test, aod_19_2, 'Latitude', 'Longitude', \n",
    "                          'AOD_550_AVG', lat_range = 1, lon_range = 1)"
   ]
  },
  {
   "cell_type": "code",
   "execution_count": 42,
   "id": "b37dbf8e-90b4-4c8e-896a-62bcf990d3e8",
   "metadata": {},
   "outputs": [],
   "source": [
    "aod_19_3 = extract_feature('AOD_2019', test, aod_19_3, 'Latitude', 'Longitude', \n",
    "                         'AOD_550_AVG', lat_range = 1, lon_range = 1)"
   ]
  },
  {
   "cell_type": "code",
   "execution_count": 43,
   "id": "ebc23eb4-d527-4f54-8392-3914504150c1",
   "metadata": {},
   "outputs": [],
   "source": [
    "aod_19_7 = extract_feature('AOD_2019', test, aod_19_7, 'Latitude', 'Longitude', \n",
    "                         'AOD_550_AVG', lat_range = 1, lon_range = 1)"
   ]
  },
  {
   "cell_type": "code",
   "execution_count": 44,
   "id": "45772ebd-5f0d-4c70-8535-c7e3515a1913",
   "metadata": {},
   "outputs": [],
   "source": [
    "aod_19_12 = extract_feature('AOD_2019', test, aod_19_12, 'Latitude', 'Longitude', \n",
    "                         'AOD_550_AVG', lat_range = 1, lon_range = 1)"
   ]
  },
  {
   "cell_type": "code",
   "execution_count": 45,
   "id": "17ef98b8-958f-4d02-b832-65ef79c639cb",
   "metadata": {},
   "outputs": [],
   "source": [
    "aod_19_6 = extract_feature('AOD_2019', test, aod_19_6, 'Latitude', 'Longitude', \n",
    "                         'AOD_550_AVG', lat_range = 1, lon_range = 1)"
   ]
  },
  {
   "cell_type": "code",
   "execution_count": 46,
   "id": "f3b0a972-4500-43e3-bd62-0c3739d8d2dc",
   "metadata": {},
   "outputs": [],
   "source": [
    "aod_19_10 = extract_feature('AOD_2019', test, aod_19_10, 'Latitude', 'Longitude', \n",
    "                         'AOD_550_AVG', lat_range = 1, lon_range = 1)"
   ]
  },
  {
   "cell_type": "code",
   "execution_count": 47,
   "id": "af318304-8942-4f0c-a462-643a31cbcd7b",
   "metadata": {},
   "outputs": [],
   "source": [
    "aod_19_4 = extract_feature('AOD_2019', test, aod_19_4, 'Latitude', 'Longitude', \n",
    "                         'AOD_550_AVG', lat_range = 1, lon_range = 1)"
   ]
  },
  {
   "cell_type": "code",
   "execution_count": 48,
   "id": "bb0b9459-ced7-4b71-b5d4-3f227cf258a0",
   "metadata": {},
   "outputs": [],
   "source": [
    "aod_19_5 = extract_feature('AOD_2019', test, aod_19_5, 'Latitude', 'Longitude', \n",
    "                         'AOD_550_AVG', lat_range = 1, lon_range = 1)"
   ]
  },
  {
   "cell_type": "code",
   "execution_count": 49,
   "id": "556eb599-769d-48dc-a85a-6c2cd33c5c31",
   "metadata": {},
   "outputs": [],
   "source": [
    "aod_19_11 = extract_feature('AOD_2019', test, aod_19_11, 'Latitude', 'Longitude', \n",
    "                         'AOD_550_AVG', lat_range = 1, lon_range = 1)"
   ]
  },
  {
   "cell_type": "code",
   "execution_count": 50,
   "id": "1f4af037-96b6-4480-acbb-00b4ffd8bcd0",
   "metadata": {},
   "outputs": [],
   "source": [
    "no2_18_10 = extract_feature('NO2_2018', test, no2_18_10, 'lat', 'lon', \n",
    "                         'NO2', lat_range = 1, lon_range = 1)"
   ]
  },
  {
   "cell_type": "code",
   "execution_count": 51,
   "id": "78f484db-05ba-4c69-b198-a04c33fd85a8",
   "metadata": {},
   "outputs": [],
   "source": [
    "no2_18_5 = extract_feature('NO2_2018', test, no2_18_5, 'lat', 'lon', \n",
    "                         'NO2', lat_range = 1, lon_range = 1)"
   ]
  },
  {
   "cell_type": "code",
   "execution_count": 52,
   "id": "b0d12790-7e93-43f0-abf0-f19d49541e55",
   "metadata": {},
   "outputs": [],
   "source": [
    "no2_18_11 = extract_feature('NO2_2018', test, no2_18_11, 'lat', 'lon', \n",
    "                         'NO2', lat_range = 1, lon_range = 1)"
   ]
  },
  {
   "cell_type": "code",
   "execution_count": 53,
   "id": "b78541e8-781e-4895-a62c-b87a1db34dba",
   "metadata": {},
   "outputs": [],
   "source": [
    "no2_18_7 = extract_feature('NO2_2018', test, no2_18_7, 'lat', 'lon', \n",
    "                         'NO2', lat_range = 1, lon_range = 1)"
   ]
  },
  {
   "cell_type": "code",
   "execution_count": 54,
   "id": "ed473bcc-5b02-4994-8daa-b3bef95d66fa",
   "metadata": {},
   "outputs": [],
   "source": [
    "no2_18_12 = extract_feature('NO2_2018', test, no2_18_12, 'lat', 'lon', \n",
    "                         'NO2', lat_range = 1, lon_range = 1)"
   ]
  },
  {
   "cell_type": "code",
   "execution_count": 55,
   "id": "730a8054-0951-4b23-8d9b-bf34861ef3bd",
   "metadata": {},
   "outputs": [],
   "source": [
    "no2_18_6 = extract_feature('NO2_2018', test, no2_18_6, 'lat', 'lon', \n",
    "                         'NO2', lat_range = 1, lon_range = 1)"
   ]
  },
  {
   "cell_type": "code",
   "execution_count": 56,
   "id": "138a67e5-5e37-4b51-b358-2239bd1e43df",
   "metadata": {},
   "outputs": [],
   "source": [
    "no2_18_8 = extract_feature('NO2_2018', test, no2_18_8, 'lat', 'lon', \n",
    "                         'NO2', lat_range = 1, lon_range = 1)"
   ]
  },
  {
   "cell_type": "code",
   "execution_count": 57,
   "id": "687f1665-ab35-4231-9dd6-0a550cade39b",
   "metadata": {},
   "outputs": [],
   "source": [
    "no2_18_9 = extract_feature('NO2_2018', test, no2_18_9, 'lat', 'lon', \n",
    "                         'NO2', lat_range = 1, lon_range = 1)"
   ]
  },
  {
   "cell_type": "markdown",
   "id": "94a05958-69a7-4394-957a-61a757fd7a2b",
   "metadata": {
    "tags": []
   },
   "source": [
    "## NO2 2019\n",
    "no2_19_10, no2_19_4, no2_19_5, no2_19_11, no2_19_7, no2_19_12, no2_19_6, no2_19_2, no2_19_3, no2_19_1, no2_19_8, no2_19_9"
   ]
  },
  {
   "cell_type": "code",
   "execution_count": 58,
   "id": "3c6a3cf7-b4d4-4875-b594-a53f74b24a25",
   "metadata": {},
   "outputs": [],
   "source": [
    "no2_19_10 = extract_feature('NO2_2019', test, no2_19_10, 'lat', 'lon', \n",
    "                         'NO2', lat_range = 1, lon_range = 1)"
   ]
  },
  {
   "cell_type": "code",
   "execution_count": 59,
   "id": "69002ac1-0255-4259-b63b-2fe0af74ee1a",
   "metadata": {},
   "outputs": [],
   "source": [
    "no2_19_4 = extract_feature('NO2_2019', test, no2_19_4, 'lat', 'lon', \n",
    "                         'NO2', lat_range = 1, lon_range = 1)"
   ]
  },
  {
   "cell_type": "code",
   "execution_count": 60,
   "id": "389d5169-b629-4ae1-a140-b81d3f2b8b17",
   "metadata": {},
   "outputs": [],
   "source": [
    "no2_19_5 = extract_feature('NO2_2019', test, no2_19_5, 'lat', 'lon', \n",
    "                         'NO2', lat_range = 1, lon_range = 1)"
   ]
  },
  {
   "cell_type": "code",
   "execution_count": 61,
   "id": "dfc9734b-fead-49c8-869e-2a09b9b985c4",
   "metadata": {},
   "outputs": [],
   "source": [
    "no2_19_11 = extract_feature('NO2_2019', test, no2_19_11, 'lat', 'lon', \n",
    "                         'NO2', lat_range = 1, lon_range = 1)"
   ]
  },
  {
   "cell_type": "code",
   "execution_count": 62,
   "id": "5671b7d9-7aca-4f5c-96f6-befe77b5eee8",
   "metadata": {},
   "outputs": [],
   "source": [
    "no2_19_7 = extract_feature('NO2_2019', test, no2_19_7, 'lat', 'lon', \n",
    "                         'NO2', lat_range = 1, lon_range = 1)"
   ]
  },
  {
   "cell_type": "code",
   "execution_count": 63,
   "id": "0ae6b643-35d9-46bc-8576-c1fc625a89a0",
   "metadata": {},
   "outputs": [],
   "source": [
    "no2_19_12 = extract_feature('NO2_2019', test, no2_19_12, 'lat', 'lon', \n",
    "                         'NO2', lat_range = 1.5, lon_range = 1.5)"
   ]
  },
  {
   "cell_type": "code",
   "execution_count": 64,
   "id": "ac05e421-fed8-4bfb-bb1c-c41438d92850",
   "metadata": {},
   "outputs": [],
   "source": [
    "no2_19_6 = extract_feature('NO2_2019', test, no2_19_6, 'lat', 'lon', \n",
    "                         'NO2', lat_range = 1, lon_range = 1)"
   ]
  },
  {
   "cell_type": "code",
   "execution_count": 65,
   "id": "6fef6ede-db2f-41ed-a400-0613d304c89c",
   "metadata": {},
   "outputs": [],
   "source": [
    "no2_19_2 = extract_feature('NO2_2019', test, no2_19_2, 'lat', 'lon', \n",
    "                         'NO2', lat_range = 1, lon_range = 1)"
   ]
  },
  {
   "cell_type": "code",
   "execution_count": 66,
   "id": "b7b14d80-4d99-4e26-992f-0a9b33b02870",
   "metadata": {},
   "outputs": [],
   "source": [
    "no2_19_3 = extract_feature('NO2_2019', test, no2_19_3, 'lat', 'lon', \n",
    "                         'NO2', lat_range = 1, lon_range = 1)"
   ]
  },
  {
   "cell_type": "code",
   "execution_count": 67,
   "id": "cf9b2206-8a7f-48ad-ab34-a642ddc99b8a",
   "metadata": {},
   "outputs": [],
   "source": [
    "no2_19_1 = extract_feature('NO2_2019', test, no2_19_1, 'lat', 'lon', \n",
    "                         'NO2', lat_range = 1, lon_range = 1)"
   ]
  },
  {
   "cell_type": "code",
   "execution_count": 68,
   "id": "7fbe5e1e-6fd4-4c36-92b7-e11786f095aa",
   "metadata": {},
   "outputs": [],
   "source": [
    "no2_19_8 = extract_feature('NO2_2019', test, no2_19_8, 'lat', 'lon', \n",
    "                         'NO2', lat_range = 1, lon_range = 1)"
   ]
  },
  {
   "cell_type": "code",
   "execution_count": 69,
   "id": "73d4d1ed-ad07-432f-a001-420d2e8e0192",
   "metadata": {},
   "outputs": [],
   "source": [
    "no2_19_9 = extract_feature('NO2_2019', test, no2_19_9, 'lat', 'lon', \n",
    "                         'NO2', lat_range = 1, lon_range = 1)"
   ]
  },
  {
   "cell_type": "code",
   "execution_count": 70,
   "id": "1a03d78d-1911-4805-8b33-c6a02362a829",
   "metadata": {},
   "outputs": [],
   "source": [
    "p_18_10 = extract_feature('precip_2018', test, p_18_10, 'lat', 'lon', \n",
    "                         'precip', lat_range = 1.5, lon_range = 1.5)"
   ]
  },
  {
   "cell_type": "code",
   "execution_count": 71,
   "id": "5f344b2b-a276-455d-ae71-c8ba37d1b206",
   "metadata": {},
   "outputs": [],
   "source": [
    "p_18_11 = extract_feature('precip_2018', test, p_18_11, 'lat', 'lon', \n",
    "                         'precip', lat_range = 1, lon_range = 1)"
   ]
  },
  {
   "cell_type": "code",
   "execution_count": 72,
   "id": "5bb44d31-13e5-46d8-95bf-2c428df4c4fa",
   "metadata": {},
   "outputs": [],
   "source": [
    "p_18_5 = extract_feature('precip_2018', test, p_18_5, 'lat', 'lon', \n",
    "                         'precip', lat_range = 1, lon_range = 1)"
   ]
  },
  {
   "cell_type": "code",
   "execution_count": 73,
   "id": "47212f85-910d-47d7-89df-c3600997b8ff",
   "metadata": {},
   "outputs": [],
   "source": [
    "p_18_7 = extract_feature('precip_2018', test, p_18_7, 'lat', 'lon', \n",
    "                         'precip', lat_range = 1, lon_range = 1)"
   ]
  },
  {
   "cell_type": "code",
   "execution_count": 74,
   "id": "cab233a0-2292-46c3-bdf3-5c2d1c552892",
   "metadata": {},
   "outputs": [],
   "source": [
    "p_18_6 = extract_feature('precip_2018', test, p_18_6, 'lat', 'lon', \n",
    "                         'precip', lat_range = 1, lon_range = 1)"
   ]
  },
  {
   "cell_type": "code",
   "execution_count": 75,
   "id": "1c9cffd9-4baa-40ed-8530-30485a57462a",
   "metadata": {},
   "outputs": [],
   "source": [
    "p_18_12 = extract_feature('precip_2018', test, p_18_12, 'lat', 'lon', \n",
    "                         'precip', lat_range = 1, lon_range = 1)"
   ]
  },
  {
   "cell_type": "code",
   "execution_count": 76,
   "id": "528ec41f-7e25-4590-b428-7969a50ade93",
   "metadata": {},
   "outputs": [],
   "source": [
    "p_18_8 = extract_feature('precip_2018', test, p_18_8, 'lat', 'lon', \n",
    "                         'precip', lat_range = 1, lon_range = 1)"
   ]
  },
  {
   "cell_type": "code",
   "execution_count": 77,
   "id": "3331cb78-cd02-4e86-8f1b-6a3743eda6da",
   "metadata": {},
   "outputs": [],
   "source": [
    "p_18_9 = extract_feature('precip_2018', test, p_18_9, 'lat', 'lon', \n",
    "                         'precip', lat_range = 1, lon_range = 1)"
   ]
  },
  {
   "cell_type": "markdown",
   "id": "9ebc1f61-4809-4df2-9484-772fe4d66f74",
   "metadata": {
    "tags": []
   },
   "source": [
    "## Precipitation 2019\n",
    "p_19_2, p_19_3, p_19_1, p_19_4, p_19_10, p_19_11, p_19_5, p_19_7, p_19_6, p_19_12, p_19_8, p_19_9"
   ]
  },
  {
   "cell_type": "code",
   "execution_count": 78,
   "id": "980860af-b39b-4377-92d0-c64e281945ba",
   "metadata": {},
   "outputs": [],
   "source": [
    "p_19_2 = extract_feature('precip_2019', test, p_19_2, 'lat', 'lon', \n",
    "                         'precip', lat_range = 1, lon_range = 1)"
   ]
  },
  {
   "cell_type": "code",
   "execution_count": 79,
   "id": "58c54a3d-d5ec-465b-9795-028b53d80c24",
   "metadata": {},
   "outputs": [],
   "source": [
    "p_19_3 = extract_feature('precip_2019', test, p_19_3, 'lat', 'lon', \n",
    "                         'precip', lat_range = 1, lon_range = 1)"
   ]
  },
  {
   "cell_type": "code",
   "execution_count": 80,
   "id": "4843742d-a528-4465-9bdb-e72b26d507cf",
   "metadata": {},
   "outputs": [],
   "source": [
    "p_19_1 = extract_feature('precip_2019', test, p_19_1, 'lat', 'lon', \n",
    "                         'precip', lat_range = 1, lon_range = 1)"
   ]
  },
  {
   "cell_type": "code",
   "execution_count": 81,
   "id": "f6241686-7cb4-41f0-965a-c146846a8c6e",
   "metadata": {},
   "outputs": [],
   "source": [
    "p_19_4 = extract_feature('precip_2019', test, p_19_4, 'lat', 'lon', \n",
    "                         'precip', lat_range = 1, lon_range = 1)"
   ]
  },
  {
   "cell_type": "code",
   "execution_count": 82,
   "id": "513c98d7-2349-4674-9727-b203299958eb",
   "metadata": {},
   "outputs": [],
   "source": [
    "p_19_10 = extract_feature('precip_2019', test, p_19_10, 'lat', 'lon', \n",
    "                         'precip', lat_range = 1, lon_range = 1)"
   ]
  },
  {
   "cell_type": "code",
   "execution_count": 83,
   "id": "e5c97472-9102-43e7-829f-91e92723293c",
   "metadata": {},
   "outputs": [],
   "source": [
    "p_19_11 = extract_feature('precip_2019', test, p_19_11, 'lat', 'lon', \n",
    "                         'precip', lat_range = 1, lon_range = 1)"
   ]
  },
  {
   "cell_type": "code",
   "execution_count": 84,
   "id": "ddbbdc4a-ee16-43ee-be0b-ee94ad3d2e5b",
   "metadata": {},
   "outputs": [],
   "source": [
    "p_19_5 = extract_feature('precip_2019', test, p_19_5, 'lat', 'lon', \n",
    "                         'precip', lat_range = 1, lon_range = 1)"
   ]
  },
  {
   "cell_type": "code",
   "execution_count": 85,
   "id": "5f66e521-f33f-4b8f-8fcb-4c1ed36ac8b4",
   "metadata": {},
   "outputs": [],
   "source": [
    "p_19_7 = extract_feature('precip_2019', test, p_19_7, 'lat', 'lon', \n",
    "                         'precip', lat_range = 1, lon_range = 1)"
   ]
  },
  {
   "cell_type": "code",
   "execution_count": 86,
   "id": "912317c3-c1e5-4af0-9d22-859edd6cd20f",
   "metadata": {},
   "outputs": [],
   "source": [
    "p_19_6 = extract_feature('precip_2019', test, p_19_6, 'lat', 'lon', \n",
    "                         'precip', lat_range = 1, lon_range = 1)"
   ]
  },
  {
   "cell_type": "code",
   "execution_count": 87,
   "id": "00bb27ca-c45f-4658-a39b-443cad7a019f",
   "metadata": {},
   "outputs": [],
   "source": [
    "p_19_12 = extract_feature('precip_2019', test, p_19_12, 'lat', 'lon', \n",
    "                         'precip', lat_range = 1, lon_range = 1)"
   ]
  },
  {
   "cell_type": "code",
   "execution_count": 88,
   "id": "800f8505-8c97-4b5c-97ac-d6e799fda0ed",
   "metadata": {},
   "outputs": [],
   "source": [
    "p_19_8 = extract_feature('precip_2019', test, p_19_8, 'lat', 'lon', \n",
    "                         'precip', lat_range = 1, lon_range = 1)"
   ]
  },
  {
   "cell_type": "code",
   "execution_count": 89,
   "id": "7a4c2289-ff8e-4c26-972c-f5414a5dc585",
   "metadata": {},
   "outputs": [],
   "source": [
    "p_19_9 = extract_feature('precip_2019', test, p_19_9, 'lat', 'lon', \n",
    "                         'precip', lat_range = 1, lon_range = 1)"
   ]
  },
  {
   "cell_type": "code",
   "execution_count": 90,
   "id": "3ecdba13-c380-4a3d-84b5-339ef28908a3",
   "metadata": {},
   "outputs": [],
   "source": [
    "t_18_9 = extract_feature('temp_2018', test, t_18_9, 'lat', 'lon', \n",
    "                         'temp', lat_range = 1, lon_range = 1)"
   ]
  },
  {
   "cell_type": "code",
   "execution_count": 91,
   "id": "e56a777e-673a-4e62-ad7c-73e7d1f24b43",
   "metadata": {},
   "outputs": [],
   "source": [
    "t_18_8 = extract_feature('temp_2018', test, t_18_8, 'lat', 'lon', \n",
    "                         'temp', lat_range = 1, lon_range = 1)"
   ]
  },
  {
   "cell_type": "code",
   "execution_count": 92,
   "id": "71e57270-d1fd-44d7-b782-2f62a3c85cbb",
   "metadata": {},
   "outputs": [],
   "source": [
    "t_18_12 = extract_feature('temp_2018', test, t_18_12, 'lat', 'lon', \n",
    "                         'temp', lat_range = 1, lon_range = 1)"
   ]
  },
  {
   "cell_type": "code",
   "execution_count": null,
   "id": "829368ae-9323-4356-9fa6-01d44de4d428",
   "metadata": {},
   "outputs": [],
   "source": [
    "t_18_6 = extract_feature('temp_2018', test, t_18_6, 'lat', 'lon', \n",
    "                         'temp', lat_range = 1, lon_range = 1)"
   ]
  },
  {
   "cell_type": "code",
   "execution_count": null,
   "id": "310dcd3c-2b12-42b3-81a3-a46877e5f5f4",
   "metadata": {},
   "outputs": [],
   "source": [
    "t_18_7 = extract_feature('temp_2018', test, t_18_7, 'lat', 'lon', \n",
    "                         'temp', lat_range = 1, lon_range = 1)"
   ]
  },
  {
   "cell_type": "code",
   "execution_count": null,
   "id": "8171cf32-bf75-4300-a328-281a6f662dae",
   "metadata": {},
   "outputs": [],
   "source": [
    "t_18_5 = extract_feature('temp_2018', test, t_18_5, 'lat', 'lon', \n",
    "                         'temp', lat_range = 1, lon_range = 1)"
   ]
  },
  {
   "cell_type": "code",
   "execution_count": null,
   "id": "f03eb9b7-d963-4955-97bc-2d94c8abfdb8",
   "metadata": {},
   "outputs": [],
   "source": [
    "t_18_11 = extract_feature('temp_2018', test, t_18_11, 'lat', 'lon', \n",
    "                         'temp', lat_range = 1, lon_range = 1)"
   ]
  },
  {
   "cell_type": "code",
   "execution_count": null,
   "id": "ed67117b-0865-405c-81f3-dc76b9312d4e",
   "metadata": {},
   "outputs": [],
   "source": [
    "t_18_10 = extract_feature('temp_2018', test, t_18_10, 'lat', 'lon', \n",
    "                         'temp', lat_range = 1, lon_range = 1)"
   ]
  },
  {
   "cell_type": "markdown",
   "id": "a666d358-2359-4811-a6bb-99af63c96434",
   "metadata": {
    "tags": []
   },
   "source": [
    "## Temperature 2019\n",
    "t_19_9, t_19_8, t_19_1, t_19_3, t_19_2, t_19_12, t_19_6, t_19_7, t_19_5, t_19_11, t_19_10, t_19_4"
   ]
  },
  {
   "cell_type": "code",
   "execution_count": null,
   "id": "58d14de5-efee-4706-9cdf-b8e6072b4ab9",
   "metadata": {},
   "outputs": [],
   "source": [
    "t_19_9 = extract_feature('temp_2019', test, t_19_9, 'lat', 'lon', \n",
    "                         'temp', lat_range = 1, lon_range = 1)"
   ]
  },
  {
   "cell_type": "code",
   "execution_count": null,
   "id": "55e83833-4b46-44fc-9cf5-83fb796fb747",
   "metadata": {},
   "outputs": [],
   "source": [
    "t_19_8 = extract_feature('temp_2019', test, t_19_8, 'lat', 'lon', \n",
    "                         'temp', lat_range = 1, lon_range = 1)"
   ]
  },
  {
   "cell_type": "code",
   "execution_count": null,
   "id": "e06490a6-e245-4824-ad6b-68490fbc8340",
   "metadata": {},
   "outputs": [],
   "source": [
    "t_19_1 = extract_feature('temp_2019', test, t_19_1, 'lat', 'lon', \n",
    "                         'temp', lat_range = 1, lon_range = 1)"
   ]
  },
  {
   "cell_type": "code",
   "execution_count": null,
   "id": "e4e6b0da-9792-49be-bb20-a013233f76be",
   "metadata": {},
   "outputs": [],
   "source": [
    "t_19_3 = extract_feature('temp_2019', test, t_19_3, 'lat', 'lon', \n",
    "                         'temp', lat_range = 1, lon_range = 1)"
   ]
  },
  {
   "cell_type": "code",
   "execution_count": null,
   "id": "7f53bc86-90cc-4172-bf20-57de40605519",
   "metadata": {},
   "outputs": [],
   "source": [
    "t_19_2 = extract_feature('temp_2019', test, t_19_2, 'lat', 'lon', \n",
    "                         'temp', lat_range = 1, lon_range = 1)"
   ]
  },
  {
   "cell_type": "code",
   "execution_count": null,
   "id": "acca7e4c-b7e0-4904-afbf-c7a732bf495a",
   "metadata": {},
   "outputs": [],
   "source": [
    "t_19_12 = extract_feature('temp_2019', test, t_19_12, 'lat', 'lon', \n",
    "                         'temp', lat_range = 1, lon_range = 1)"
   ]
  },
  {
   "cell_type": "code",
   "execution_count": null,
   "id": "16302d74-b740-458c-bdc6-52b9da7e0545",
   "metadata": {},
   "outputs": [],
   "source": [
    "t_19_6 = extract_feature('temp_2019', test, t_19_6, 'lat', 'lon', \n",
    "                         'temp', lat_range = 1, lon_range = 1)"
   ]
  },
  {
   "cell_type": "code",
   "execution_count": null,
   "id": "0ec1e0bf-811e-437b-8879-1fd2f93838df",
   "metadata": {},
   "outputs": [],
   "source": [
    "t_19_7 = extract_feature('temp_2019', test, t_19_7, 'lat', 'lon', \n",
    "                         'temp', lat_range = 1, lon_range = 1)"
   ]
  },
  {
   "cell_type": "code",
   "execution_count": null,
   "id": "5dbda3a0-af98-487c-9da8-45ef3a59db2c",
   "metadata": {},
   "outputs": [],
   "source": [
    "t_19_5 = extract_feature('temp_2019', test, t_19_5, 'lat', 'lon', \n",
    "                         'temp', lat_range = 1, lon_range = 1)"
   ]
  },
  {
   "cell_type": "code",
   "execution_count": null,
   "id": "23695f36-fd4f-4441-a4bf-6c22736812db",
   "metadata": {},
   "outputs": [],
   "source": [
    "t_19_11 = extract_feature('temp_2019', test, t_19_11, 'lat', 'lon', \n",
    "                         'temp', lat_range = 1, lon_range = 1)"
   ]
  },
  {
   "cell_type": "code",
   "execution_count": null,
   "id": "f341ca97-d4a6-407d-9ef9-508fc102ff56",
   "metadata": {},
   "outputs": [],
   "source": [
    "t_19_10 = extract_feature('temp_2019', test, t_19_10, 'lat', 'lon', \n",
    "                         'temp', lat_range = 1, lon_range = 1)"
   ]
  },
  {
   "cell_type": "code",
   "execution_count": null,
   "id": "d063b1a7-203a-4e58-a437-660e48ddfee0",
   "metadata": {},
   "outputs": [],
   "source": [
    "t_19_4 = extract_feature('temp_2019', test, t_19_4, 'lat', 'lon', \n",
    "                         'temp', lat_range = 1, lon_range = 1)"
   ]
  },
  {
   "cell_type": "markdown",
   "id": "2df37d0c-cbef-486f-8f33-14f27e87e573",
   "metadata": {
    "tags": []
   },
   "source": [
    "# Combining Datasets"
   ]
  },
  {
   "cell_type": "markdown",
   "id": "00857a8a-340d-4c5f-833d-fd2210019246",
   "metadata": {
    "tags": []
   },
   "source": [
    "## Merge Variables for Each Month into Monthly Dataframe"
   ]
  },
  {
   "cell_type": "code",
   "execution_count": null,
   "id": "019f9584-a192-4cb3-b4cb-b42dc85e5433",
   "metadata": {},
   "outputs": [],
   "source": [
    "# https://www.statology.org/pandas-merge-multiple-dataframes/"
   ]
  },
  {
   "cell_type": "code",
   "execution_count": null,
   "id": "7d6e9637-f32e-4f38-b7bd-b8b232b4b28a",
   "metadata": {},
   "outputs": [],
   "source": [
    "jan_19 = [aod_19_1, no2_19_1, p_19_1, t_19_1]\n",
    "jan_19 = reduce(lambda  left,right: pd.merge(left,right,on=['lat', 'lon'], how='left'), jan_19)\n",
    "\n",
    "feb_19 = [aod_19_2, no2_19_2, p_19_2, t_19_2]\n",
    "feb_19 = reduce(lambda  left,right: pd.merge(left,right,on=['lat', 'lon'], how='left'), feb_19)\n",
    "\n",
    "mar_19 = [aod_19_3, no2_19_3, p_19_3, t_19_3]\n",
    "mar_19 = reduce(lambda  left,right: pd.merge(left,right,on=['lat', 'lon'], how='left'), mar_19)\n",
    "\n",
    "apr_19 = [aod_19_4, no2_19_4, p_19_4, t_19_4]\n",
    "apr_19 = reduce(lambda  left,right: pd.merge(left,right,on=['lat', 'lon'], how='left'), apr_19)\n",
    "\n",
    "may_19 = [aod_19_5, no2_19_5, p_19_5, t_19_5]\n",
    "may_19 = reduce(lambda  left,right: pd.merge(left,right,on=['lat', 'lon'], how='left'), may_19)\n",
    "\n",
    "jun_19 = [aod_19_6, no2_19_6, p_19_6, t_19_6]\n",
    "jun_19 = reduce(lambda  left,right: pd.merge(left,right,on=['lat', 'lon'], how='left'), jun_19)\n",
    "\n",
    "jul_19 = [aod_19_7, no2_19_7, p_19_7, t_19_7]\n",
    "jul_19 = reduce(lambda  left,right: pd.merge(left,right,on=['lat', 'lon'], how='left'), jul_19)\n",
    "\n",
    "aug_19 = [aod_19_8, no2_19_8, p_19_8, t_19_8]\n",
    "aug_19 = reduce(lambda  left,right: pd.merge(left,right,on=['lat', 'lon'], how='left'), aug_19)\n",
    "\n",
    "sep_19 = [aod_19_9, no2_19_9, p_19_9, t_19_9]\n",
    "sep_19 = reduce(lambda  left,right: pd.merge(left,right,on=['lat', 'lon'], how='left'), sep_19)\n",
    "\n",
    "oct_19 = [aod_19_10, no2_19_10, p_19_10, t_19_10]\n",
    "oct_19 = reduce(lambda  left,right: pd.merge(left,right,on=['lat', 'lon'], how='left'), oct_19)\n",
    "\n",
    "nov_19 = [aod_19_11, no2_19_11, p_19_11, t_19_11]\n",
    "nov_19 = reduce(lambda  left,right: pd.merge(left,right,on=['lat', 'lon'], how='left'), nov_19)\n",
    "\n",
    "dec_19 = [aod_19_12, no2_19_12, p_19_12, t_19_12]\n",
    "dec_19 = reduce(lambda  left,right: pd.merge(left,right,on=['lat', 'lon'], how='left'), dec_19)"
   ]
  },
  {
   "cell_type": "markdown",
   "id": "bca323ce-c6a2-4075-a90e-1a7617c5c96b",
   "metadata": {},
   "source": [
    "## Create List of Monthly Dataframes for Each Year"
   ]
  },
  {
   "cell_type": "code",
   "execution_count": null,
   "id": "845e685d-dade-451f-90ec-cd5aa4656e5f",
   "metadata": {},
   "outputs": [],
   "source": [
    "y_19 = [jan_19, feb_19, mar_19, apr_19, may_19, jun_19, jul_19, aug_19, sep_19, oct_19, nov_19, dec_19]"
   ]
  },
  {
   "cell_type": "markdown",
   "id": "7ebc85db-43b5-4e0e-9527-1cd305c20a47",
   "metadata": {
    "tags": []
   },
   "source": [
    "## Check Nulls"
   ]
  },
  {
   "cell_type": "code",
   "execution_count": null,
   "id": "f66e9ea2-6af2-4353-a682-0a0b103da9b9",
   "metadata": {},
   "outputs": [],
   "source": [
    "for month in y_19:\n",
    "    print(month.isnull().sum())"
   ]
  },
  {
   "cell_type": "markdown",
   "id": "9b60512a-41b5-42f9-a8aa-5d4bccd11d4a",
   "metadata": {
    "tags": []
   },
   "source": [
    "# Save to csv"
   ]
  },
  {
   "cell_type": "code",
   "execution_count": null,
   "id": "a19c3997-a8f6-46dc-8259-a614f74a25d2",
   "metadata": {},
   "outputs": [],
   "source": [
    "# i = 1\n",
    "# for month in y_19:\n",
    "    # month.to_csv(f'../data/monthly_test_data/result_1k/{str(i)}_2019.csv', index=False)\n",
    "    # i += 1"
   ]
  },
  {
   "cell_type": "code",
   "execution_count": null,
   "id": "44e28110-eb56-43d1-82b6-e721e090376b",
   "metadata": {},
   "outputs": [],
   "source": []
  }
 ],
 "metadata": {
  "kernelspec": {
   "display_name": "Python 3 (ipykernel)",
   "language": "python",
   "name": "python3"
  },
  "language_info": {
   "codemirror_mode": {
    "name": "ipython",
    "version": 3
   },
   "file_extension": ".py",
   "mimetype": "text/x-python",
   "name": "python",
   "nbconvert_exporter": "python",
   "pygments_lexer": "ipython3",
   "version": "3.9.12"
  }
 },
 "nbformat": 4,
 "nbformat_minor": 5
}
