{
 "cells": [
  {
   "cell_type": "markdown",
   "id": "ddb3ba9b-0429-4789-8731-d3b2901ba4d7",
   "metadata": {},
   "source": [
    "## Generate random latitude and longitude points across the contiguous Unites States"
   ]
  },
  {
   "cell_type": "code",
   "execution_count": 1,
   "id": "b6d87756-1464-4971-940d-6c335b64c43a",
   "metadata": {},
   "outputs": [],
   "source": [
    "import random\n",
    "from global_land_mask import globe\n",
    "import numpy as np\n",
    "import pandas as pd"
   ]
  },
  {
   "cell_type": "markdown",
   "id": "9190cef4-775d-49fb-8d41-254d9d5e5c43",
   "metadata": {},
   "source": [
    "Define the maximum and minimum latitude and longitude points in the contiguous US (CONUS): "
   ]
  },
  {
   "cell_type": "code",
   "execution_count": 2,
   "id": "ab0caac2-44ed-49bd-a6fd-2bdf53267952",
   "metadata": {},
   "outputs": [],
   "source": [
    "north = 49.3\n",
    "south = 25.4\n",
    "east = -65.9\n",
    "west = -124.7"
   ]
  },
  {
   "cell_type": "markdown",
   "id": "c8e73164-0afb-4a57-ba34-12609e77cdf5",
   "metadata": {},
   "source": [
    "Create a random list of 1200 latitude and longitude points across the CONUS, making sure that the coordinates fall on land and not in the ocean:"
   ]
  },
  {
   "cell_type": "code",
   "execution_count": 3,
   "id": "34723911-ab15-44a8-9883-d137ed27d239",
   "metadata": {},
   "outputs": [],
   "source": [
    "count = 0\n",
    "latlonglist = []\n",
    "while count < 1200:\n",
    "    lat = round(random.uniform(south, north), 5)\n",
    "    lon = round(random.uniform(east, west), 5)\n",
    "    is_on_land = globe.is_land(lat, lon)\n",
    "    if is_on_land == True:\n",
    "        count += 1\n",
    "        latlonglist.append([lat, lon])"
   ]
  },
  {
   "cell_type": "markdown",
   "id": "402ef814-2509-4f62-83fd-2c3b37ab7676",
   "metadata": {},
   "source": [
    "Create a DataFrame and save to CSV file for use in modeling PM2.5 predictions."
   ]
  },
  {
   "cell_type": "code",
   "execution_count": 5,
   "id": "bdae069e-eb3a-412d-9a19-f742b68497d5",
   "metadata": {},
   "outputs": [],
   "source": [
    "df = pd.DataFrame(latlonglist, columns=[\"lat\", \"lon\"])\n",
    "# df.to_csv('../data/monthly_test_data/latlong_1k.csv', index = False)"
   ]
  }
 ],
 "metadata": {
  "kernelspec": {
   "display_name": "Python 3 (ipykernel)",
   "language": "python",
   "name": "python3"
  },
  "language_info": {
   "codemirror_mode": {
    "name": "ipython",
    "version": 3
   },
   "file_extension": ".py",
   "mimetype": "text/x-python",
   "name": "python",
   "nbconvert_exporter": "python",
   "pygments_lexer": "ipython3",
   "version": "3.9.12"
  }
 },
 "nbformat": 4,
 "nbformat_minor": 5
}
