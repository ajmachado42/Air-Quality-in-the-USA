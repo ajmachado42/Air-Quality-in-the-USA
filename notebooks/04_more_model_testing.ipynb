{
 "cells": [
  {
   "cell_type": "code",
   "execution_count": 1,
   "id": "5194bbc4-3b79-4588-873c-97a03b97be00",
   "metadata": {},
   "outputs": [],
   "source": [
    "import pandas as pd\n",
    "import numpy as np\n",
    "import seaborn as sns\n",
    "import matplotlib.pyplot as plt\n",
    "%matplotlib inline\n",
    "\n",
    "from sklearn.pipeline import Pipeline\n",
    "\n",
    "from sklearn.model_selection import train_test_split, cross_val_score\n",
    "from sklearn.preprocessing import PolynomialFeatures, StandardScaler\n",
    "from sklearn.neighbors import KNeighborsRegressor\n",
    "\n",
    "from sklearn.linear_model import LinearRegression, LassoCV\n",
    "from sklearn import metrics\n",
    "from sklearn.model_selection import GridSearchCV\n",
    "from sklearn.linear_model import Ridge, Lasso, ElasticNet\n",
    "from sklearn.naive_bayes import MultinomialNB\n",
    "from sklearn.ensemble import GradientBoostingRegressor, AdaBoostRegressor, VotingRegressor\n",
    "\n",
    "from sklearn.tree import DecisionTreeClassifier, DecisionTreeRegressor\n",
    "from sklearn.ensemble import RandomForestClassifier, RandomForestRegressor, AdaBoostClassifier, AdaBoostRegressor, BaggingClassifier, BaggingRegressor, StackingRegressor"
   ]
  },
  {
   "cell_type": "code",
   "execution_count": 2,
   "id": "67c399ac-3300-4191-aadd-457d60ac3dc2",
   "metadata": {},
   "outputs": [],
   "source": [
    "df = pd.read_csv('../data/epa_final.csv')"
   ]
  },
  {
   "cell_type": "code",
   "execution_count": 3,
   "id": "3828d0d1-ac7d-4478-b6c5-7fb5947f49fc",
   "metadata": {},
   "outputs": [
    {
     "data": {
      "text/html": [
       "<div>\n",
       "<style scoped>\n",
       "    .dataframe tbody tr th:only-of-type {\n",
       "        vertical-align: middle;\n",
       "    }\n",
       "\n",
       "    .dataframe tbody tr th {\n",
       "        vertical-align: top;\n",
       "    }\n",
       "\n",
       "    .dataframe thead th {\n",
       "        text-align: right;\n",
       "    }\n",
       "</style>\n",
       "<table border=\"1\" class=\"dataframe\">\n",
       "  <thead>\n",
       "    <tr style=\"text-align: right;\">\n",
       "      <th></th>\n",
       "      <th>Date Local</th>\n",
       "      <th>Latitude</th>\n",
       "      <th>Longitude</th>\n",
       "      <th>PM2.5 Monthly Mean</th>\n",
       "      <th>lat_2dec</th>\n",
       "      <th>lon_2dec</th>\n",
       "      <th>no2</th>\n",
       "      <th>aod</th>\n",
       "      <th>temp</th>\n",
       "      <th>precip</th>\n",
       "    </tr>\n",
       "  </thead>\n",
       "  <tbody>\n",
       "    <tr>\n",
       "      <th>0</th>\n",
       "      <td>2019-01-31</td>\n",
       "      <td>30.497478</td>\n",
       "      <td>-87.880258</td>\n",
       "      <td>6.825000</td>\n",
       "      <td>30.5</td>\n",
       "      <td>-87.88</td>\n",
       "      <td>1.541665e+15</td>\n",
       "      <td>0.052667</td>\n",
       "      <td>290.88</td>\n",
       "      <td>3.993249</td>\n",
       "    </tr>\n",
       "    <tr>\n",
       "      <th>1</th>\n",
       "      <td>2019-01-31</td>\n",
       "      <td>38.013333</td>\n",
       "      <td>-87.577222</td>\n",
       "      <td>9.860000</td>\n",
       "      <td>30.5</td>\n",
       "      <td>-87.88</td>\n",
       "      <td>1.120693e+15</td>\n",
       "      <td>0.035250</td>\n",
       "      <td>290.56</td>\n",
       "      <td>4.091899</td>\n",
       "    </tr>\n",
       "    <tr>\n",
       "      <th>2</th>\n",
       "      <td>2019-01-31</td>\n",
       "      <td>41.874999</td>\n",
       "      <td>-90.177574</td>\n",
       "      <td>10.290000</td>\n",
       "      <td>30.5</td>\n",
       "      <td>-87.88</td>\n",
       "      <td>1.374970e+15</td>\n",
       "      <td>0.201500</td>\n",
       "      <td>288.74</td>\n",
       "      <td>4.167067</td>\n",
       "    </tr>\n",
       "    <tr>\n",
       "      <th>3</th>\n",
       "      <td>2019-01-31</td>\n",
       "      <td>38.013333</td>\n",
       "      <td>-87.577222</td>\n",
       "      <td>7.222581</td>\n",
       "      <td>30.5</td>\n",
       "      <td>-87.88</td>\n",
       "      <td>1.120693e+15</td>\n",
       "      <td>0.035250</td>\n",
       "      <td>290.56</td>\n",
       "      <td>4.091899</td>\n",
       "    </tr>\n",
       "    <tr>\n",
       "      <th>4</th>\n",
       "      <td>2019-01-31</td>\n",
       "      <td>41.164400</td>\n",
       "      <td>-81.235200</td>\n",
       "      <td>8.762500</td>\n",
       "      <td>30.5</td>\n",
       "      <td>-87.88</td>\n",
       "      <td>1.421505e+15</td>\n",
       "      <td>0.035250</td>\n",
       "      <td>290.56</td>\n",
       "      <td>4.091899</td>\n",
       "    </tr>\n",
       "  </tbody>\n",
       "</table>\n",
       "</div>"
      ],
      "text/plain": [
       "   Date Local   Latitude  Longitude  PM2.5 Monthly Mean  lat_2dec  lon_2dec  \\\n",
       "0  2019-01-31  30.497478 -87.880258            6.825000      30.5    -87.88   \n",
       "1  2019-01-31  38.013333 -87.577222            9.860000      30.5    -87.88   \n",
       "2  2019-01-31  41.874999 -90.177574           10.290000      30.5    -87.88   \n",
       "3  2019-01-31  38.013333 -87.577222            7.222581      30.5    -87.88   \n",
       "4  2019-01-31  41.164400 -81.235200            8.762500      30.5    -87.88   \n",
       "\n",
       "            no2       aod    temp    precip  \n",
       "0  1.541665e+15  0.052667  290.88  3.993249  \n",
       "1  1.120693e+15  0.035250  290.56  4.091899  \n",
       "2  1.374970e+15  0.201500  288.74  4.167067  \n",
       "3  1.120693e+15  0.035250  290.56  4.091899  \n",
       "4  1.421505e+15  0.035250  290.56  4.091899  "
      ]
     },
     "execution_count": 3,
     "metadata": {},
     "output_type": "execute_result"
    }
   ],
   "source": [
    "df.head()"
   ]
  },
  {
   "cell_type": "code",
   "execution_count": 4,
   "id": "c49b41f0-fe6b-4dec-a21e-6c321d755006",
   "metadata": {},
   "outputs": [],
   "source": [
    "X = df.drop(columns = ['Date Local','PM2.5 Monthly Mean', 'lat_2dec', 'lon_2dec'])\n",
    "y = df['PM2.5 Monthly Mean']"
   ]
  },
  {
   "cell_type": "code",
   "execution_count": 5,
   "id": "d15a65fc-15a9-49a4-aa8a-ab77b260e9f4",
   "metadata": {},
   "outputs": [
    {
     "data": {
      "text/html": [
       "<div>\n",
       "<style scoped>\n",
       "    .dataframe tbody tr th:only-of-type {\n",
       "        vertical-align: middle;\n",
       "    }\n",
       "\n",
       "    .dataframe tbody tr th {\n",
       "        vertical-align: top;\n",
       "    }\n",
       "\n",
       "    .dataframe thead th {\n",
       "        text-align: right;\n",
       "    }\n",
       "</style>\n",
       "<table border=\"1\" class=\"dataframe\">\n",
       "  <thead>\n",
       "    <tr style=\"text-align: right;\">\n",
       "      <th></th>\n",
       "      <th>Latitude</th>\n",
       "      <th>Longitude</th>\n",
       "      <th>no2</th>\n",
       "      <th>aod</th>\n",
       "      <th>temp</th>\n",
       "      <th>precip</th>\n",
       "    </tr>\n",
       "  </thead>\n",
       "  <tbody>\n",
       "    <tr>\n",
       "      <th>0</th>\n",
       "      <td>30.497478</td>\n",
       "      <td>-87.880258</td>\n",
       "      <td>1.541665e+15</td>\n",
       "      <td>0.052667</td>\n",
       "      <td>290.88</td>\n",
       "      <td>3.993249</td>\n",
       "    </tr>\n",
       "    <tr>\n",
       "      <th>1</th>\n",
       "      <td>38.013333</td>\n",
       "      <td>-87.577222</td>\n",
       "      <td>1.120693e+15</td>\n",
       "      <td>0.035250</td>\n",
       "      <td>290.56</td>\n",
       "      <td>4.091899</td>\n",
       "    </tr>\n",
       "    <tr>\n",
       "      <th>2</th>\n",
       "      <td>41.874999</td>\n",
       "      <td>-90.177574</td>\n",
       "      <td>1.374970e+15</td>\n",
       "      <td>0.201500</td>\n",
       "      <td>288.74</td>\n",
       "      <td>4.167067</td>\n",
       "    </tr>\n",
       "    <tr>\n",
       "      <th>3</th>\n",
       "      <td>38.013333</td>\n",
       "      <td>-87.577222</td>\n",
       "      <td>1.120693e+15</td>\n",
       "      <td>0.035250</td>\n",
       "      <td>290.56</td>\n",
       "      <td>4.091899</td>\n",
       "    </tr>\n",
       "    <tr>\n",
       "      <th>4</th>\n",
       "      <td>41.164400</td>\n",
       "      <td>-81.235200</td>\n",
       "      <td>1.421505e+15</td>\n",
       "      <td>0.035250</td>\n",
       "      <td>290.56</td>\n",
       "      <td>4.091899</td>\n",
       "    </tr>\n",
       "  </tbody>\n",
       "</table>\n",
       "</div>"
      ],
      "text/plain": [
       "    Latitude  Longitude           no2       aod    temp    precip\n",
       "0  30.497478 -87.880258  1.541665e+15  0.052667  290.88  3.993249\n",
       "1  38.013333 -87.577222  1.120693e+15  0.035250  290.56  4.091899\n",
       "2  41.874999 -90.177574  1.374970e+15  0.201500  288.74  4.167067\n",
       "3  38.013333 -87.577222  1.120693e+15  0.035250  290.56  4.091899\n",
       "4  41.164400 -81.235200  1.421505e+15  0.035250  290.56  4.091899"
      ]
     },
     "execution_count": 5,
     "metadata": {},
     "output_type": "execute_result"
    }
   ],
   "source": [
    "X.head()"
   ]
  },
  {
   "cell_type": "code",
   "execution_count": 6,
   "id": "d186b9c7-fc07-4c97-9b9d-c7467131b982",
   "metadata": {},
   "outputs": [],
   "source": [
    "X_train, X_test, y_train, y_test = train_test_split(X, y, random_state = 42)"
   ]
  },
  {
   "cell_type": "code",
   "execution_count": 7,
   "id": "8f9906d7-47f2-4b6c-a078-65de1f6fd834",
   "metadata": {},
   "outputs": [],
   "source": [
    "ss = StandardScaler()\n",
    "X_train_sc = ss.fit_transform(X_train)\n",
    "X_test_sc = ss.transform(X_test)"
   ]
  },
  {
   "cell_type": "code",
   "execution_count": 8,
   "id": "3c851ba5-65b5-4ff3-969d-f29d7816ee86",
   "metadata": {},
   "outputs": [
    {
     "name": "stdout",
     "output_type": "stream",
     "text": [
      "LR training score: 0.07870805165936012\n",
      "LR test score: 0.0762504865919128\n"
     ]
    }
   ],
   "source": [
    "lr = LinearRegression()\n",
    "lr.fit(X_train_sc, y_train)\n",
    "lr_train_pred = lr.predict(X_train_sc)\n",
    "lr_test_pred = lr.predict(X_test_sc)\n",
    "print(f'LR training score: {lr.score(X_train_sc,y_train)}')\n",
    "print(f'LR test score: {lr.score(X_test_sc,y_test)}')"
   ]
  },
  {
   "cell_type": "code",
   "execution_count": 9,
   "id": "d569f607-84e3-4d83-946e-ad95528bc615",
   "metadata": {},
   "outputs": [
    {
     "name": "stdout",
     "output_type": "stream",
     "text": [
      "Decision Tree training score: 0.9656854220585229\n",
      "Decision Tree test score: 0.5337269533730442\n"
     ]
    }
   ],
   "source": [
    "# Decision tree model:\n",
    "dt = DecisionTreeRegressor()\n",
    "dt.fit(X_train_sc, y_train)\n",
    "dt_train_pred = dt.predict(X_train_sc)\n",
    "dt_test_pred = dt.predict(X_test_sc)\n",
    "print(f'Decision Tree training score: {dt.score(X_train_sc,y_train)}')\n",
    "print(f'Decision Tree test score: {dt.score(X_test_sc,y_test)}')"
   ]
  },
  {
   "cell_type": "code",
   "execution_count": 10,
   "id": "305ddb90-1692-4604-8ef0-73aaea7107da",
   "metadata": {},
   "outputs": [
    {
     "name": "stdout",
     "output_type": "stream",
     "text": [
      "Bagged DT training score: 0.9205668292225033\n",
      "Bagged DT test score: 0.6779221421893081\n"
     ]
    }
   ],
   "source": [
    "bag = BaggingRegressor()\n",
    "bag.fit(X_train_sc, y_train)\n",
    "bag_train_pred = bag.predict(X_train_sc)\n",
    "bag_test_pred = bag.predict(X_test_sc)\n",
    "print(f'Bagged DT training score: {bag.score(X_train_sc,y_train)}')\n",
    "print(f'Bagged DT test score: {bag.score(X_test_sc,y_test)}')"
   ]
  },
  {
   "cell_type": "code",
   "execution_count": 11,
   "id": "709d2407-40bb-4c7d-80c0-5ddb5b0afe1f",
   "metadata": {},
   "outputs": [
    {
     "name": "stdout",
     "output_type": "stream",
     "text": [
      "Random forest training score: 0.9353196832649067\n",
      "Random forest test score: 0.7056661862851011\n"
     ]
    }
   ],
   "source": [
    "rf = RandomForestRegressor()\n",
    "rf.fit(X_train_sc, y_train)\n",
    "rf_train_pred = rf.predict(X_train_sc)\n",
    "rf_test_pred = rf.predict(X_test_sc)\n",
    "print(f'Random forest training score: {rf.score(X_train_sc,y_train)}')\n",
    "print(f'Random forest test score: {rf.score(X_test_sc,y_test)}')"
   ]
  },
  {
   "cell_type": "code",
   "execution_count": 12,
   "id": "ac1af238-21c9-4c5c-a150-811efddcc37e",
   "metadata": {},
   "outputs": [
    {
     "name": "stdout",
     "output_type": "stream",
     "text": [
      "Adaboost training score: 0.8643759438172689\n",
      "Adaboost test score: 0.6813568958161513\n"
     ]
    }
   ],
   "source": [
    "ada = AdaBoostRegressor(base_estimator=RandomForestRegressor())\n",
    "ada.fit(X_train_sc, y_train)\n",
    "ada_train_pred = ada.predict(X_train_sc)\n",
    "ada_test_pred = ada.predict(X_test_sc)\n",
    "print(f'Adaboost training score: {ada.score(X_train_sc,y_train)}')\n",
    "print(f'Adaboost test score: {ada.score(X_test_sc,y_test)}')"
   ]
  },
  {
   "cell_type": "code",
   "execution_count": 13,
   "id": "4980a51c-769a-4dbd-863d-2aadea9185bb",
   "metadata": {},
   "outputs": [
    {
     "data": {
      "text/plain": [
       "(13829, 6)"
      ]
     },
     "execution_count": 13,
     "metadata": {},
     "output_type": "execute_result"
    }
   ],
   "source": [
    "X.shape"
   ]
  },
  {
   "cell_type": "code",
   "execution_count": 14,
   "id": "124f5a0d-7fac-4537-80e4-488e34ff7785",
   "metadata": {},
   "outputs": [],
   "source": [
    "# Create the model\n",
    "level1_models = [\n",
    "    ('bag', BaggingRegressor()),\n",
    "    ('knn_pipe', Pipeline([\n",
    "        ('ss', StandardScaler()),\n",
    "        ('knn', KNeighborsRegressor())\n",
    "    ])),\n",
    "    ('lasso_pipe', Pipeline([\n",
    "        ('ss', StandardScaler()),\n",
    "        ('lasso', LassoCV())\n",
    "    ]))\n",
    "]\n",
    "\n",
    "stack = StackingRegressor(estimators=level1_models,\n",
    "                         final_estimator=RandomForestRegressor())"
   ]
  },
  {
   "cell_type": "code",
   "execution_count": 15,
   "id": "0f15db0d-825f-4af5-bb62-50211f3a32d3",
   "metadata": {},
   "outputs": [
    {
     "data": {
      "text/plain": [
       "StackingRegressor(estimators=[('bag', BaggingRegressor()),\n",
       "                              ('knn_pipe',\n",
       "                               Pipeline(steps=[('ss', StandardScaler()),\n",
       "                                               ('knn',\n",
       "                                                KNeighborsRegressor())])),\n",
       "                              ('lasso_pipe',\n",
       "                               Pipeline(steps=[('ss', StandardScaler()),\n",
       "                                               ('lasso', LassoCV())]))],\n",
       "                  final_estimator=RandomForestRegressor())"
      ]
     },
     "execution_count": 15,
     "metadata": {},
     "output_type": "execute_result"
    }
   ],
   "source": [
    "# Fit\n",
    "stack.fit(X_train_sc,y_train)"
   ]
  },
  {
   "cell_type": "code",
   "execution_count": 16,
   "id": "890edf63-5363-4cd7-8663-0b81cda029a1",
   "metadata": {},
   "outputs": [
    {
     "data": {
      "text/plain": [
       "0.8534422133895596"
      ]
     },
     "execution_count": 16,
     "metadata": {},
     "output_type": "execute_result"
    }
   ],
   "source": [
    "# Train score\n",
    "stack.score(X_train_sc, y_train)"
   ]
  },
  {
   "cell_type": "code",
   "execution_count": 17,
   "id": "5cd1ffd0-de14-4beb-9dc5-d3c25f0a3b2b",
   "metadata": {},
   "outputs": [
    {
     "data": {
      "text/plain": [
       "0.6462665016602321"
      ]
     },
     "execution_count": 17,
     "metadata": {},
     "output_type": "execute_result"
    }
   ],
   "source": [
    "# Test score\n",
    "stack.score(X_test_sc, y_test)"
   ]
  },
  {
   "cell_type": "code",
   "execution_count": 18,
   "id": "bb15b51a-0333-4abe-a554-86d1765b4adf",
   "metadata": {},
   "outputs": [],
   "source": [
    "level2_models = [\n",
    "    ('bag', BaggingRegressor()),\n",
    "    ('ada_pipe', Pipeline([\n",
    "        ('ss', StandardScaler()),\n",
    "        ('ada', AdaBoostRegressor(base_estimator=RandomForestRegressor()))\n",
    "    ])),\n",
    "    ('lasso_pipe', Pipeline([\n",
    "        ('ss', StandardScaler()),\n",
    "        ('lasso', LassoCV())\n",
    "    ]))\n",
    "]\n",
    "\n",
    "stack1 = StackingRegressor(estimators=level2_models,\n",
    "                         final_estimator=RandomForestRegressor())"
   ]
  },
  {
   "cell_type": "code",
   "execution_count": 19,
   "id": "c022cb74-1fcb-4776-96d8-b53db70c89cf",
   "metadata": {},
   "outputs": [
    {
     "data": {
      "text/plain": [
       "StackingRegressor(estimators=[('bag', BaggingRegressor()),\n",
       "                              ('ada_pipe',\n",
       "                               Pipeline(steps=[('ss', StandardScaler()),\n",
       "                                               ('ada',\n",
       "                                                AdaBoostRegressor(base_estimator=RandomForestRegressor()))])),\n",
       "                              ('lasso_pipe',\n",
       "                               Pipeline(steps=[('ss', StandardScaler()),\n",
       "                                               ('lasso', LassoCV())]))],\n",
       "                  final_estimator=RandomForestRegressor())"
      ]
     },
     "execution_count": 19,
     "metadata": {},
     "output_type": "execute_result"
    }
   ],
   "source": [
    "# Fit\n",
    "stack1.fit(X_train_sc,y_train)"
   ]
  },
  {
   "cell_type": "code",
   "execution_count": 20,
   "id": "eb31cb36-96b0-4aa2-806f-e4b699fc75e8",
   "metadata": {},
   "outputs": [
    {
     "data": {
      "text/plain": [
       "0.8623705337629469"
      ]
     },
     "execution_count": 20,
     "metadata": {},
     "output_type": "execute_result"
    }
   ],
   "source": [
    "# Train score\n",
    "stack1.score(X_train_sc, y_train)"
   ]
  },
  {
   "cell_type": "code",
   "execution_count": 21,
   "id": "59aabb8f-5abe-422c-b230-2fb651196ae8",
   "metadata": {},
   "outputs": [
    {
     "data": {
      "text/plain": [
       "0.6503793631585513"
      ]
     },
     "execution_count": 21,
     "metadata": {},
     "output_type": "execute_result"
    }
   ],
   "source": [
    "# Test score\n",
    "stack1.score(X_test_sc, y_test)"
   ]
  },
  {
   "cell_type": "code",
   "execution_count": 22,
   "id": "301ad33a-eb62-47ad-bc7f-24dac913d019",
   "metadata": {},
   "outputs": [],
   "source": [
    "level3_models = [\n",
    "    ('bag', BaggingRegressor()),\n",
    "    ('lasso_pipe', Pipeline([\n",
    "        ('ss', StandardScaler()),\n",
    "        ('lasso', LassoCV())\n",
    "    ]))\n",
    "]\n",
    "\n",
    "stack2 = StackingRegressor(estimators=level3_models,\n",
    "                         final_estimator=RandomForestRegressor())"
   ]
  },
  {
   "cell_type": "code",
   "execution_count": 23,
   "id": "c603d4c2-2771-4106-ae6b-9dc1fb07b126",
   "metadata": {},
   "outputs": [
    {
     "data": {
      "text/plain": [
       "StackingRegressor(estimators=[('bag', BaggingRegressor()),\n",
       "                              ('lasso_pipe',\n",
       "                               Pipeline(steps=[('ss', StandardScaler()),\n",
       "                                               ('lasso', LassoCV())]))],\n",
       "                  final_estimator=RandomForestRegressor())"
      ]
     },
     "execution_count": 23,
     "metadata": {},
     "output_type": "execute_result"
    }
   ],
   "source": [
    "# Fit\n",
    "stack2.fit(X_train_sc,y_train)"
   ]
  },
  {
   "cell_type": "code",
   "execution_count": 24,
   "id": "570de227-e1ad-4bb3-ad98-064c3f69b73f",
   "metadata": {},
   "outputs": [
    {
     "data": {
      "text/plain": [
       "0.8356019077920918"
      ]
     },
     "execution_count": 24,
     "metadata": {},
     "output_type": "execute_result"
    }
   ],
   "source": [
    "# Train score\n",
    "stack2.score(X_train_sc, y_train)"
   ]
  },
  {
   "cell_type": "code",
   "execution_count": 25,
   "id": "9b22f802-05fb-4497-89bb-b31b4f1a3e27",
   "metadata": {},
   "outputs": [
    {
     "data": {
      "text/plain": [
       "0.6088294577777917"
      ]
     },
     "execution_count": 25,
     "metadata": {},
     "output_type": "execute_result"
    }
   ],
   "source": [
    "# Test score\n",
    "stack2.score(X_test_sc, y_test)"
   ]
  },
  {
   "cell_type": "code",
   "execution_count": 26,
   "id": "a510cbd6-3131-41ed-ba2d-58da5748024e",
   "metadata": {},
   "outputs": [],
   "source": [
    "level4_models = [\n",
    "    ('bag', BaggingRegressor()),\n",
    "    ('dt_pipe', Pipeline([\n",
    "        ('ss', StandardScaler()),\n",
    "        ('rf', RandomForestRegressor())\n",
    "    ])),\n",
    "    ('lasso_pipe', Pipeline([\n",
    "        ('ss', StandardScaler()),\n",
    "        ('lasso', LassoCV())\n",
    "    ]))\n",
    "]\n",
    "\n",
    "stack3 = StackingRegressor(estimators=level4_models)"
   ]
  },
  {
   "cell_type": "code",
   "execution_count": 27,
   "id": "2c66ce2c-dbb4-4dc9-a484-cc4f95c9fe28",
   "metadata": {},
   "outputs": [
    {
     "data": {
      "text/plain": [
       "StackingRegressor(estimators=[('bag', BaggingRegressor()),\n",
       "                              ('dt_pipe',\n",
       "                               Pipeline(steps=[('ss', StandardScaler()),\n",
       "                                               ('rf',\n",
       "                                                RandomForestRegressor())])),\n",
       "                              ('lasso_pipe',\n",
       "                               Pipeline(steps=[('ss', StandardScaler()),\n",
       "                                               ('lasso', LassoCV())]))])"
      ]
     },
     "execution_count": 27,
     "metadata": {},
     "output_type": "execute_result"
    }
   ],
   "source": [
    "# Fit\n",
    "stack3.fit(X_train_sc,y_train)"
   ]
  },
  {
   "cell_type": "code",
   "execution_count": 28,
   "id": "2b536a88-bfde-4b96-83f4-7d289339e4a5",
   "metadata": {},
   "outputs": [
    {
     "data": {
      "text/plain": [
       "0.9319131589005882"
      ]
     },
     "execution_count": 28,
     "metadata": {},
     "output_type": "execute_result"
    }
   ],
   "source": [
    "# Train score\n",
    "stack3.score(X_train_sc, y_train)"
   ]
  },
  {
   "cell_type": "code",
   "execution_count": 29,
   "id": "a0b19f4b-4937-46b0-b06e-54b15ec893f2",
   "metadata": {},
   "outputs": [
    {
     "data": {
      "text/plain": [
       "0.7089475794160607"
      ]
     },
     "execution_count": 29,
     "metadata": {},
     "output_type": "execute_result"
    }
   ],
   "source": [
    "# Test score\n",
    "stack3.score(X_test_sc, y_test)"
   ]
  },
  {
   "cell_type": "code",
   "execution_count": 30,
   "id": "452ee6f3-ad24-4498-8a85-ac802f8b5d58",
   "metadata": {},
   "outputs": [],
   "source": [
    "level5_models = [\n",
    "    ('bag', BaggingRegressor()),\n",
    "    ('rf_pipe', Pipeline([\n",
    "        ('ss', StandardScaler()),\n",
    "        ('rf', RandomForestRegressor())\n",
    "    ])),\n",
    "    ('lasso_pipe', Pipeline([\n",
    "        ('ss', StandardScaler()),\n",
    "        ('lasso', LassoCV())\n",
    "    ]))\n",
    "]\n",
    "\n",
    "stack4 = StackingRegressor(estimators=level5_models)"
   ]
  },
  {
   "cell_type": "code",
   "execution_count": 31,
   "id": "84b18b48-3b99-432f-a388-7adc21ec29df",
   "metadata": {},
   "outputs": [],
   "source": [
    "params = {\n",
    "    'rf_pipe__rf__n_estimators': [92],\n",
    "    'lasso_pipe__lasso__n_alphas': [105],\n",
    "    'lasso_pipe__lasso__max_iter': [925],\n",
    "    'bag__n_estimators': [10],\n",
    "    'rf_pipe__rf__min_samples_split': [5]\n",
    "    \n",
    "}"
   ]
  },
  {
   "cell_type": "code",
   "execution_count": 32,
   "id": "50c67c0b-3086-4101-a428-cbefcd212d01",
   "metadata": {},
   "outputs": [],
   "source": [
    "gs = GridSearchCV(estimator = stack4, param_grid = params, cv = 5)"
   ]
  },
  {
   "cell_type": "code",
   "execution_count": 33,
   "id": "b712b423-14ec-41ea-b744-0edbb2bbfefd",
   "metadata": {},
   "outputs": [
    {
     "name": "stderr",
     "output_type": "stream",
     "text": [
      "/Users/adriana/opt/anaconda3/envs/dsi/lib/python3.8/site-packages/sklearn/linear_model/_ridge.py:1791: RuntimeWarning: invalid value encountered in reciprocal\n",
      "  w = ((singvals_sq + alpha) ** -1) - (alpha ** -1)\n",
      "/Users/adriana/opt/anaconda3/envs/dsi/lib/python3.8/site-packages/sklearn/linear_model/_ridge.py:1791: RuntimeWarning: invalid value encountered in reciprocal\n",
      "  w = ((singvals_sq + alpha) ** -1) - (alpha ** -1)\n"
     ]
    },
    {
     "data": {
      "text/plain": [
       "GridSearchCV(cv=5,\n",
       "             estimator=StackingRegressor(estimators=[('bag',\n",
       "                                                      BaggingRegressor()),\n",
       "                                                     ('rf_pipe',\n",
       "                                                      Pipeline(steps=[('ss',\n",
       "                                                                       StandardScaler()),\n",
       "                                                                      ('rf',\n",
       "                                                                       RandomForestRegressor())])),\n",
       "                                                     ('lasso_pipe',\n",
       "                                                      Pipeline(steps=[('ss',\n",
       "                                                                       StandardScaler()),\n",
       "                                                                      ('lasso',\n",
       "                                                                       LassoCV())]))]),\n",
       "             param_grid={'bag__n_estimators': [10],\n",
       "                         'lasso_pipe__lasso__max_iter': [925],\n",
       "                         'lasso_pipe__lasso__n_alphas': [105],\n",
       "                         'rf_pipe__rf__min_samples_split': [5],\n",
       "                         'rf_pipe__rf__n_estimators': [92]})"
      ]
     },
     "execution_count": 33,
     "metadata": {},
     "output_type": "execute_result"
    }
   ],
   "source": [
    "gs.fit(X_train_sc,y_train)"
   ]
  },
  {
   "cell_type": "code",
   "execution_count": 34,
   "id": "4830ae5d-d89b-4483-a0fb-30992ecf5cb0",
   "metadata": {},
   "outputs": [
    {
     "data": {
      "text/plain": [
       "0.6816816476878576"
      ]
     },
     "execution_count": 34,
     "metadata": {},
     "output_type": "execute_result"
    }
   ],
   "source": [
    "gs.best_score_"
   ]
  },
  {
   "cell_type": "code",
   "execution_count": 35,
   "id": "a5854f45-a73f-4d5b-b371-6c1a091fa65c",
   "metadata": {},
   "outputs": [
    {
     "data": {
      "text/plain": [
       "{'bag__n_estimators': 10,\n",
       " 'lasso_pipe__lasso__max_iter': 925,\n",
       " 'lasso_pipe__lasso__n_alphas': 105,\n",
       " 'rf_pipe__rf__min_samples_split': 5,\n",
       " 'rf_pipe__rf__n_estimators': 92}"
      ]
     },
     "execution_count": 35,
     "metadata": {},
     "output_type": "execute_result"
    }
   ],
   "source": [
    "gs.best_params_"
   ]
  },
  {
   "cell_type": "code",
   "execution_count": 36,
   "id": "b297842a-e2b1-4337-87a9-532060e29d1e",
   "metadata": {},
   "outputs": [
    {
     "data": {
      "text/plain": [
       "0.9059438204956484"
      ]
     },
     "execution_count": 36,
     "metadata": {},
     "output_type": "execute_result"
    }
   ],
   "source": [
    "gs.score(X_train_sc, y_train)"
   ]
  },
  {
   "cell_type": "code",
   "execution_count": 37,
   "id": "1c7906e9-24e8-4c8c-aaca-e54cfdf31a8d",
   "metadata": {},
   "outputs": [
    {
     "data": {
      "text/plain": [
       "0.7067165512794302"
      ]
     },
     "execution_count": 37,
     "metadata": {},
     "output_type": "execute_result"
    }
   ],
   "source": [
    "gs.score(X_test_sc,y_test)"
   ]
  },
  {
   "cell_type": "code",
   "execution_count": 38,
   "id": "32b6379a-4833-4964-bd39-f4d08fe4e738",
   "metadata": {},
   "outputs": [
    {
     "data": {
      "text/plain": [
       "dict_keys(['cv', 'estimators', 'final_estimator', 'n_jobs', 'passthrough', 'verbose', 'bag', 'rf_pipe', 'lasso_pipe', 'bag__base_estimator', 'bag__bootstrap', 'bag__bootstrap_features', 'bag__max_features', 'bag__max_samples', 'bag__n_estimators', 'bag__n_jobs', 'bag__oob_score', 'bag__random_state', 'bag__verbose', 'bag__warm_start', 'rf_pipe__memory', 'rf_pipe__steps', 'rf_pipe__verbose', 'rf_pipe__ss', 'rf_pipe__rf', 'rf_pipe__ss__copy', 'rf_pipe__ss__with_mean', 'rf_pipe__ss__with_std', 'rf_pipe__rf__bootstrap', 'rf_pipe__rf__ccp_alpha', 'rf_pipe__rf__criterion', 'rf_pipe__rf__max_depth', 'rf_pipe__rf__max_features', 'rf_pipe__rf__max_leaf_nodes', 'rf_pipe__rf__max_samples', 'rf_pipe__rf__min_impurity_decrease', 'rf_pipe__rf__min_samples_leaf', 'rf_pipe__rf__min_samples_split', 'rf_pipe__rf__min_weight_fraction_leaf', 'rf_pipe__rf__n_estimators', 'rf_pipe__rf__n_jobs', 'rf_pipe__rf__oob_score', 'rf_pipe__rf__random_state', 'rf_pipe__rf__verbose', 'rf_pipe__rf__warm_start', 'lasso_pipe__memory', 'lasso_pipe__steps', 'lasso_pipe__verbose', 'lasso_pipe__ss', 'lasso_pipe__lasso', 'lasso_pipe__ss__copy', 'lasso_pipe__ss__with_mean', 'lasso_pipe__ss__with_std', 'lasso_pipe__lasso__alphas', 'lasso_pipe__lasso__copy_X', 'lasso_pipe__lasso__cv', 'lasso_pipe__lasso__eps', 'lasso_pipe__lasso__fit_intercept', 'lasso_pipe__lasso__max_iter', 'lasso_pipe__lasso__n_alphas', 'lasso_pipe__lasso__n_jobs', 'lasso_pipe__lasso__normalize', 'lasso_pipe__lasso__positive', 'lasso_pipe__lasso__precompute', 'lasso_pipe__lasso__random_state', 'lasso_pipe__lasso__selection', 'lasso_pipe__lasso__tol', 'lasso_pipe__lasso__verbose'])"
      ]
     },
     "execution_count": 38,
     "metadata": {},
     "output_type": "execute_result"
    }
   ],
   "source": [
    "stack4.get_params().keys()"
   ]
  },
  {
   "cell_type": "code",
   "execution_count": 39,
   "id": "95ca90df-7483-4fd1-8799-304f13a8b202",
   "metadata": {},
   "outputs": [
    {
     "data": {
      "text/plain": [
       "{'base_estimator': None,\n",
       " 'bootstrap': True,\n",
       " 'bootstrap_features': False,\n",
       " 'max_features': 1.0,\n",
       " 'max_samples': 1.0,\n",
       " 'n_estimators': 10,\n",
       " 'n_jobs': None,\n",
       " 'oob_score': False,\n",
       " 'random_state': None,\n",
       " 'verbose': 0,\n",
       " 'warm_start': False}"
      ]
     },
     "execution_count": 39,
     "metadata": {},
     "output_type": "execute_result"
    }
   ],
   "source": [
    "bag.get_params()"
   ]
  },
  {
   "cell_type": "code",
   "execution_count": 40,
   "id": "28c85e98-3ae0-420a-b0e9-4299046ce106",
   "metadata": {},
   "outputs": [
    {
     "data": {
      "text/plain": [
       "{'bootstrap': True,\n",
       " 'ccp_alpha': 0.0,\n",
       " 'criterion': 'squared_error',\n",
       " 'max_depth': None,\n",
       " 'max_features': 'auto',\n",
       " 'max_leaf_nodes': None,\n",
       " 'max_samples': None,\n",
       " 'min_impurity_decrease': 0.0,\n",
       " 'min_samples_leaf': 1,\n",
       " 'min_samples_split': 2,\n",
       " 'min_weight_fraction_leaf': 0.0,\n",
       " 'n_estimators': 100,\n",
       " 'n_jobs': None,\n",
       " 'oob_score': False,\n",
       " 'random_state': None,\n",
       " 'verbose': 0,\n",
       " 'warm_start': False}"
      ]
     },
     "execution_count": 40,
     "metadata": {},
     "output_type": "execute_result"
    }
   ],
   "source": [
    "rf.get_params()"
   ]
  },
  {
   "cell_type": "code",
   "execution_count": 41,
   "id": "ccd616a1-c18e-46f9-b1ff-be73d0cbb3b1",
   "metadata": {},
   "outputs": [
    {
     "data": {
      "text/plain": [
       "{'alphas': None,\n",
       " 'copy_X': True,\n",
       " 'cv': None,\n",
       " 'eps': 0.001,\n",
       " 'fit_intercept': True,\n",
       " 'max_iter': 1000,\n",
       " 'n_alphas': 100,\n",
       " 'n_jobs': None,\n",
       " 'normalize': 'deprecated',\n",
       " 'positive': False,\n",
       " 'precompute': 'auto',\n",
       " 'random_state': None,\n",
       " 'selection': 'cyclic',\n",
       " 'tol': 0.0001,\n",
       " 'verbose': False}"
      ]
     },
     "execution_count": 41,
     "metadata": {},
     "output_type": "execute_result"
    }
   ],
   "source": [
    "LassoCV().get_params()"
   ]
  },
  {
   "cell_type": "code",
   "execution_count": null,
   "id": "69381101-f840-4187-a529-e782ced06cbd",
   "metadata": {},
   "outputs": [],
   "source": []
  },
  {
   "cell_type": "code",
   "execution_count": null,
   "id": "71f44be5-f665-4705-821d-1a0c2d7a8df3",
   "metadata": {},
   "outputs": [],
   "source": []
  },
  {
   "cell_type": "code",
   "execution_count": null,
   "id": "2d31d3d2-1345-47f5-a0a1-19cb4da66f84",
   "metadata": {},
   "outputs": [],
   "source": []
  },
  {
   "cell_type": "code",
   "execution_count": null,
   "id": "d8f5f6f0-1256-499c-812b-d54385acd652",
   "metadata": {},
   "outputs": [],
   "source": []
  },
  {
   "cell_type": "code",
   "execution_count": null,
   "id": "a57e37aa-a425-4de8-9a5d-7cf7f145ac3c",
   "metadata": {},
   "outputs": [],
   "source": []
  },
  {
   "cell_type": "code",
   "execution_count": null,
   "id": "b12a2632-1ce3-4e4f-9502-4692c027c0e9",
   "metadata": {},
   "outputs": [],
   "source": []
  },
  {
   "cell_type": "code",
   "execution_count": null,
   "id": "293b2a2e-4c2b-4f86-b425-0c07c1c6513b",
   "metadata": {},
   "outputs": [],
   "source": []
  },
  {
   "cell_type": "code",
   "execution_count": null,
   "id": "0dc00f39-98b9-4532-9038-1b9e9a9f2610",
   "metadata": {},
   "outputs": [],
   "source": []
  },
  {
   "cell_type": "code",
   "execution_count": null,
   "id": "167f3166-f9d1-4682-a7ba-45294da8768f",
   "metadata": {},
   "outputs": [],
   "source": []
  }
 ],
 "metadata": {
  "kernelspec": {
   "display_name": "Python [conda env:dsi]",
   "language": "python",
   "name": "conda-env-dsi-py"
  },
  "language_info": {
   "codemirror_mode": {
    "name": "ipython",
    "version": 3
   },
   "file_extension": ".py",
   "mimetype": "text/x-python",
   "name": "python",
   "nbconvert_exporter": "python",
   "pygments_lexer": "ipython3",
   "version": "3.8.13"
  }
 },
 "nbformat": 4,
 "nbformat_minor": 5
}
